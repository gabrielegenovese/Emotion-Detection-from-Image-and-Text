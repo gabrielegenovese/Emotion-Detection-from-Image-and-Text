{
  "cells": [
    {
      "cell_type": "markdown",
      "metadata": {
        "id": "FCweZc7x21_x"
      },
      "source": [
        "# Analisi di un modello per la predizione delle emozioni da un input combinato di testo e immagine\n",
        "\n",
        "In questo notebook si vuole analizzare il processo della creazione di un modello multimodale per predirre le emozioni. Per l'emotion detection esistono molti modelli che prendono in input un testo o un immagine di un espressione facciale, quindi abbiamo creato il dataset combinando due dataset esistenti. Le istruzioni per costruilo si trovano nella [repository](https://gitlab.com/gabrigeno/emotion-detection-from-image-and-text) del progetto. Una volta creato il dataset, bisogna caricarlo su drive in una cartella chiamata AIExam."
      ]
    },
    {
      "cell_type": "markdown",
      "metadata": {
        "id": "NirGlgMbHea4"
      },
      "source": [
        "## Data retrival"
      ]
    },
    {
      "cell_type": "code",
      "execution_count": 1,
      "metadata": {
        "colab": {
          "base_uri": "https://localhost:8080/"
        },
        "id": "BVlvNevZo1Oh",
        "outputId": "80df0691-d7db-4dbf-ed85-d8c13db4333d"
      },
      "outputs": [
        {
          "name": "stdout",
          "output_type": "stream",
          "text": [
            "Mounted at /content/drive\n"
          ]
        }
      ],
      "source": [
        "from google.colab import drive\n",
        "drive.mount('/content/drive')"
      ]
    },
    {
      "cell_type": "code",
      "execution_count": null,
      "metadata": {
        "id": "acBq0WM-QyzP"
      },
      "outputs": [],
      "source": [
        "!cp /content/drive/MyDrive/AIExam/data.zip /content\n",
        "!pip install contractions emoji ekphrasis --quiet\n",
        "!unzip data.zip"
      ]
    },
    {
      "cell_type": "code",
      "execution_count": 3,
      "metadata": {
        "id": "czejXtxc7u-I"
      },
      "outputs": [],
      "source": [
        "import tensorflow as tf\n",
        "from tensorflow.keras import layers, models\n",
        "from sklearn.model_selection import train_test_split\n",
        "from sklearn.preprocessing import LabelEncoder\n",
        "from tensorflow.keras.preprocessing.text import Tokenizer\n",
        "from tensorflow.keras.preprocessing.sequence import pad_sequences\n",
        "from tensorflow.keras.callbacks import EarlyStopping\n",
        "from tensorflow.keras.callbacks import ModelCheckpoint\n",
        "from tensorflow.keras.layers import LSTM, Dropout\n",
        "from tensorflow.keras.optimizers import Adam\n",
        "from tensorflow.keras.preprocessing.image import ImageDataGenerator\n",
        "from matplotlib import pyplot as plt\n",
        "import pandas as pd\n",
        "import csv\n",
        "from PIL import Image\n",
        "import re\n",
        "import numpy as np\n",
        "import contractions, emoji\n",
        "from ekphrasis.classes.preprocessor import TextPreProcessor\n",
        "from ekphrasis.classes.tokenizer import SocialTokenizer\n",
        "from ekphrasis.dicts.emoticons import emoticons\n",
        "\n",
        "EPOCH = 100"
      ]
    },
    {
      "cell_type": "code",
      "execution_count": 4,
      "metadata": {
        "colab": {
          "base_uri": "https://localhost:8080/"
        },
        "id": "uI1I4NJH5lDb",
        "outputId": "de38f9b0-b766-4d3a-d54c-726b4ae0e0bd"
      },
      "outputs": [
        {
          "name": "stdout",
          "output_type": "stream",
          "text": [
            "{'text': 'WHY THE FUCK IS BAYLESS ISOING', 'image_data': array([[186,  71, 113, ...,  37,  70, 123],\n",
            "       [143, 105,  31, ...,  83,  64,  84],\n",
            "       [152,  91,  69, ...,  89, 103,  50],\n",
            "       ...,\n",
            "       [136,  91, 116, ...,  22,  20,  13],\n",
            "       [227, 112, 109, ...,  19,  16,  12],\n",
            "       [254, 176, 100, ...,  13,  13,  13]], dtype=uint8), 'emotion': 'anger'}\n"
          ]
        }
      ],
      "source": [
        "# Load data\n",
        "def load_data(file_path):\n",
        "    data = []\n",
        "    with open(file_path, newline='', encoding='utf-8') as csvfile:\n",
        "        csv_reader = csv.reader(csvfile)\n",
        "        next(csv_reader, None)\n",
        "        for row in csv_reader:\n",
        "            text, image_path, emotion = row\n",
        "            img = Image.open(image_path)\n",
        "            img_array = np.array(img)\n",
        "            entry = {'text': text, 'image_data': img_array, 'emotion': emotion}\n",
        "            data.append(entry)\n",
        "    return data\n",
        "\n",
        "file_path = \"data/processed/text_image_emotion.csv\"\n",
        "data = load_data(file_path)\n",
        "print(data[0])"
      ]
    },
    {
      "cell_type": "code",
      "execution_count": 5,
      "metadata": {
        "colab": {
          "base_uri": "https://localhost:8080/",
          "height": 280
        },
        "id": "1YJojNd8uctg",
        "outputId": "1734b30c-120c-4954-dbab-c5c87ce7b9a0"
      },
      "outputs": [
        {
          "name": "stdout",
          "output_type": "stream",
          "text": [
            "--- Distribution of Emotion ---\n",
            "joy         0.282908\n",
            "neutral     0.243030\n",
            "anger       0.156648\n",
            "surprise    0.150884\n",
            "sadness     0.119907\n",
            "fear        0.025174\n",
            "disgust     0.021448\n",
            "Name: emotion, dtype: float64\n",
            "\n",
            "Min words in a train sample: 1\n",
            "Max words in a train sample: 33\n",
            "Median in a train sample: 13.0\n"
          ]
        },
        {
          "data": {
            "image/png": "[encoded data removed]",
            "text/plain": [
              "<Figure size 500x500 with 1 Axes>"
            ]
          },
          "metadata": {},
          "output_type": "display_data"
        }
      ],
      "source": [
        "df_train_raw = pd.read_csv(file_path)\n",
        "\n",
        "c = df_train_raw.emotion.value_counts(normalize=True)\n",
        "c.plot(kind=\"pie\", figsize=(5, 5), title=\"Training dataset emotion distribution\")\n",
        "print(\"--- Distribution of Emotion ---\")\n",
        "print(c)\n",
        "train_count = df_train_raw.text.apply(lambda x: len(x.split(\" \")))\n",
        "\n",
        "print(f\"\\nMin words in a train sample: {train_count.min()}\")\n",
        "print(f\"Max words in a train sample: {train_count.max()}\")\n",
        "print(f\"Median in a train sample: {train_count.median()}\")"
      ]
    },
    {
      "cell_type": "markdown",
      "metadata": {
        "id": "q4k061Ue9YNj"
      },
      "source": [
        "Notiamo che il dataset presenta dei testi lunghi al massimo 33 parole con un minimo di una parola."
      ]
    },
    {
      "cell_type": "code",
      "execution_count": 6,
      "metadata": {
        "colab": {
          "base_uri": "https://localhost:8080/",
          "height": 211
        },
        "id": "3r1gj9Qb8lYn",
        "outputId": "85f12f63-0c55-457e-97b2-3543811e2a69"
      },
      "outputs": [
        {
          "name": "stdout",
          "output_type": "stream",
          "text": [
            "\n",
            "Dati con indice 123\n"
          ]
        },
        {
          "data": {
            "image/png": "[encoded data removed]",
            "text/plain": [
              "<Figure size 640x480 with 1 Axes>"
            ]
          },
          "metadata": {},
          "output_type": "display_data"
        },
        {
          "name": "stdout",
          "output_type": "stream",
          "text": [
            "Testo associato: An ex-friend of mine proclaimed than anyone who speaks of being raped is a horrible, unethical human being.\n",
            "Emozione: anger\n",
            "\n",
            "Dati con indice 12345\n"
          ]
        },
        {
          "data": {
            "image/png": "[encoded data removed]",
            "text/plain": [
              "<Figure size 640x480 with 1 Axes>"
            ]
          },
          "metadata": {},
          "output_type": "display_data"
        },
        {
          "name": "stdout",
          "output_type": "stream",
          "text": [
            "Testo associato: OH MY GOD OH MY GOD CONGRATS!!!!\n",
            "Emozione: joy\n"
          ]
        }
      ],
      "source": [
        "texts = [entry['text'] for entry in data]\n",
        "images = np.array([entry['image_data'] for entry in data])\n",
        "emotions = [entry['emotion'] for entry in data]\n",
        "\n",
        "def show_data(i):\n",
        "  print(\"\\nDati con indice\", i)\n",
        "  plt.imshow(images[i],cmap = plt.cm.gray)\n",
        "  plt.show()\n",
        "  print(\"Testo associato:\", texts[i])\n",
        "  print(\"Emozione:\", emotions[i])\n",
        "\n",
        "show_data(123)\n",
        "\n",
        "i = 12345\n",
        "show_data(i)"
      ]
    },
    {
      "cell_type": "markdown",
      "metadata": {
        "id": "3PKEtV7i9Z-5"
      },
      "source": [
        "## Encoding delle emozioni\n",
        "Traduciamo le emozioni in un vettore di numeri per facilitarne l'uso nella rete neurale."
      ]
    },
    {
      "cell_type": "code",
      "execution_count": 7,
      "metadata": {
        "colab": {
          "base_uri": "https://localhost:8080/"
        },
        "id": "s-1lH06f91uX",
        "outputId": "f64a2b1e-7e02-4afd-8e9f-99441319f5e8"
      },
      "outputs": [
        {
          "name": "stdout",
          "output_type": "stream",
          "text": [
            "emotion\t  anger   \tis encoded with the number\t 0 \tand vector\t [1. 0. 0. 0. 0. 0. 0.]\n",
            "emotion\t  disgust   \tis encoded with the number\t 1 \tand vector\t [0. 1. 0. 0. 0. 0. 0.]\n",
            "emotion\t  fear   \tis encoded with the number\t 2 \tand vector\t [0. 0. 1. 0. 0. 0. 0.]\n",
            "emotion\t  joy   \tis encoded with the number\t 3 \tand vector\t [0. 0. 0. 1. 0. 0. 0.]\n",
            "emotion\t  neutral   \tis encoded with the number\t 4 \tand vector\t [0. 0. 0. 0. 1. 0. 0.]\n",
            "emotion\t  sadness   \tis encoded with the number\t 5 \tand vector\t [0. 0. 0. 0. 0. 1. 0.]\n",
            "emotion\t  surprise   \tis encoded with the number\t 6 \tand vector\t [0. 0. 0. 0. 0. 0. 1.]\n"
          ]
        }
      ],
      "source": [
        "label_encoder = LabelEncoder()\n",
        "encoded_emotions = label_encoder.fit_transform(emotions)\n",
        "categorical_emotions = tf.keras.utils.to_categorical(encoded_emotions, num_classes=len(label_encoder.classes_))\n",
        "\n",
        "custom_p = lambda n: print(\"emotion\\t \", n, \"  \\tis encoded with the number\\t\", encoded_emotions[emotions.index(n)], \"\\tand vector\\t\", categorical_emotions[emotions.index(n)])\n",
        "\n",
        "custom_p(\"anger\")\n",
        "custom_p(\"disgust\")\n",
        "custom_p(\"fear\")\n",
        "custom_p(\"joy\")\n",
        "custom_p(\"neutral\")\n",
        "custom_p(\"sadness\")\n",
        "custom_p(\"surprise\")"
      ]
    },
    {
      "cell_type": "markdown",
      "metadata": {
        "id": "QgreP5pM9AEP"
      },
      "source": [
        "## Pre-processing\n",
        "In questo contesto possiamo applicare del pre-processing sui dati per migliorare il risultato e l'efficenza della rete.\n",
        "\n",
        "Per il momento usiamo un semplice tokenizer per il testo."
      ]
    },
    {
      "cell_type": "code",
      "execution_count": 8,
      "metadata": {
        "id": "nWZ8cAV8uqRC"
      },
      "outputs": [],
      "source": [
        "max_words = 20000\n",
        "tokenizer = Tokenizer(num_words=max_words, oov_token='<OOV>')\n",
        "tokenizer.fit_on_texts(texts)\n",
        "text_sequences = tokenizer.texts_to_sequences(texts)\n",
        "text_padded = pad_sequences(text_sequences, padding='post')"
      ]
    },
    {
      "cell_type": "markdown",
      "metadata": {
        "id": "vf0JWYH2-jVj"
      },
      "source": [
        "## Creazione del dataset\n",
        "Dividiamo il dataset nella seguente maniera:\n",
        "*   train data: 80%  \n",
        "*   validation data: 10%  \n",
        "*   test data: 10%  "
      ]
    },
    {
      "cell_type": "code",
      "execution_count": 9,
      "metadata": {
        "colab": {
          "base_uri": "https://localhost:8080/"
        },
        "id": "x94Fv1noeEvR",
        "outputId": "19260ca7-919e-4ef5-d2f9-cb31c007851b"
      },
      "outputs": [
        {
          "name": "stdout",
          "output_type": "stream",
          "text": [
            "Lunghezza dati di train: 20402\n",
            "Lunghezza dati di validation: 2551\n",
            "Lunghezza dati di test: 2550\n"
          ]
        }
      ],
      "source": [
        "text_train, text_test_temp, image_train, image_test_temp, emotion_train, emotion_test_temp = train_test_split(\n",
        "    text_padded, images, categorical_emotions, test_size=0.2, random_state=42\n",
        ")\n",
        "\n",
        "text_test, text_val, image_test, image_val, emotion_test, emotion_val = train_test_split(\n",
        "    text_test_temp, image_test_temp, emotion_test_temp, test_size=0.5, random_state=42\n",
        ")\n",
        "\n",
        "print(\"Lunghezza dati di train:\", len(text_train))\n",
        "print(\"Lunghezza dati di validation:\", len(text_val))\n",
        "print(\"Lunghezza dati di test:\", len(text_test))"
      ]
    },
    {
      "cell_type": "markdown",
      "metadata": {
        "id": "mZdTj9B9_iAC"
      },
      "source": [
        "## Creazione del primo semplice modello\n",
        "\n",
        "Le emozioni prese in considerazioni sono 7, quindi un modello completamente randomico ha una precisione del 14%.\n",
        "\n",
        "Puntiamo quindi a fare meglio di un modello randomico creando un semplice modello con dei layer densi per ogni tipo di input e per poi concatenarli."
      ]
    },
    {
      "cell_type": "code",
      "execution_count": 10,
      "metadata": {
        "colab": {
          "base_uri": "https://localhost:8080/"
        },
        "id": "TEJPlvWd_yM4",
        "outputId": "fdb836dc-dacf-45d0-f8d3-788d41fe5e47"
      },
      "outputs": [
        {
          "name": "stdout",
          "output_type": "stream",
          "text": [
            "Model: \"model\"\n",
            "__________________________________________________________________________________________________\n",
            " Layer (type)                Output Shape                 Param #   Connected to                  \n",
            "==================================================================================================\n",
            " input_2 (InputLayer)        [(None, 48, 48)]             0         []                            \n",
            "                                                                                                  \n",
            " input_1 (InputLayer)        [(None, 34)]                 0         []                            \n",
            "                                                                                                  \n",
            " dense_1 (Dense)             (None, 48, 64)               3136      ['input_2[0][0]']             \n",
            "                                                                                                  \n",
            " dense (Dense)               (None, 64)                   2240      ['input_1[0][0]']             \n",
            "                                                                                                  \n",
            " flatten (Flatten)           (None, 3072)                 0         ['dense_1[0][0]']             \n",
            "                                                                                                  \n",
            " concatenate (Concatenate)   (None, 3136)                 0         ['dense[0][0]',               \n",
            "                                                                     'flatten[0][0]']             \n",
            "                                                                                                  \n",
            " dropout (Dropout)           (None, 3136)                 0         ['concatenate[0][0]']         \n",
            "                                                                                                  \n",
            " dense_3 (Dense)             (None, 7)                    21959     ['dropout[0][0]']             \n",
            "                                                                                                  \n",
            "==================================================================================================\n",
            "Total params: 27335 (106.78 KB)\n",
            "Trainable params: 27335 (106.78 KB)\n",
            "Non-trainable params: 0 (0.00 Byte)\n",
            "__________________________________________________________________________________________________\n"
          ]
        }
      ],
      "source": [
        "# prima parte\n",
        "text_input = layers.Input(shape=text_padded.shape[1], dtype=tf.int32)\n",
        "text_dense_layer = layers.Dense(64, activation='relu')(text_input)\n",
        "\n",
        "# seconda parte\n",
        "image_input = layers.Input(shape=(48, 48))\n",
        "image_dense_layer = layers.Dense(64, activation='relu')(image_input)\n",
        "image_flatten = layers.Flatten()(image_dense_layer)\n",
        "\n",
        "concatenated = layers.Concatenate()([text_dense_layer, image_flatten])\n",
        "dropout_layer = layers.Dropout(0.5)(concatenated)\n",
        "dense_layer = layers.Dense(64, activation='relu')(image_input)\n",
        "output_layer = layers.Dense(len(label_encoder.classes_), activation='softmax')(dropout_layer)\n",
        "\n",
        "model = models.Model(inputs=[text_input, image_input], outputs=output_layer)\n",
        "\n",
        "optimizer = Adam(learning_rate=0.0001)\n",
        "model.compile(optimizer=optimizer, loss='categorical_crossentropy', metrics=['accuracy'])\n",
        "model.summary()\n",
        "\n",
        "checkpoint_callback = ModelCheckpoint(\"best_model.h5\", save_best_only=True, monitor=\"val_accuracy\", mode=\"max\")\n",
        "\n",
        "early_stopping_callback = EarlyStopping(monitor='val_loss', patience=5, restore_best_weights=True)"
      ]
    },
    {
      "cell_type": "code",
      "execution_count": 21,
      "metadata": {
        "colab": {
          "base_uri": "https://localhost:8080/"
        },
        "id": "roZ91CiVCdi4",
        "outputId": "fd9aacfc-69ac-4f2c-87dc-8903c90ff0d2"
      },
      "outputs": [
        {
          "name": "stdout",
          "output_type": "stream",
          "text": [
            "Epoch 1/100\n",
            "638/638 [==============================] - 5s 6ms/step - loss: 221.8052 - accuracy: 0.2174 - val_loss: 59.1412 - val_accuracy: 0.2881\n",
            "Epoch 2/100\n",
            "638/638 [==============================] - 3s 4ms/step - loss: 75.4312 - accuracy: 0.2329 - val_loss: 21.8433 - val_accuracy: 0.2971\n",
            "Epoch 3/100\n",
            "638/638 [==============================] - 3s 4ms/step - loss: 20.2702 - accuracy: 0.2368 - val_loss: 8.0141 - val_accuracy: 0.2826\n",
            "Epoch 4/100\n",
            "638/638 [==============================] - 3s 4ms/step - loss: 8.1963 - accuracy: 0.2265 - val_loss: 4.7101 - val_accuracy: 0.1972\n",
            "Epoch 5/100\n",
            "638/638 [==============================] - 3s 5ms/step - loss: 4.7674 - accuracy: 0.2186 - val_loss: 3.2167 - val_accuracy: 0.2623\n",
            "Epoch 6/100\n",
            "638/638 [==============================] - 3s 4ms/step - loss: 3.8707 - accuracy: 0.2241 - val_loss: 2.8717 - val_accuracy: 0.2630\n",
            "Epoch 7/100\n",
            "638/638 [==============================] - 3s 4ms/step - loss: 3.5456 - accuracy: 0.2228 - val_loss: 2.7674 - val_accuracy: 0.2230\n",
            "Epoch 8/100\n",
            "638/638 [==============================] - 3s 4ms/step - loss: 3.3613 - accuracy: 0.2254 - val_loss: 2.8449 - val_accuracy: 0.2031\n",
            "Epoch 9/100\n",
            "638/638 [==============================] - 3s 4ms/step - loss: 3.2196 - accuracy: 0.2249 - val_loss: 2.6451 - val_accuracy: 0.2101\n",
            "Epoch 10/100\n",
            "638/638 [==============================] - 4s 6ms/step - loss: 3.1188 - accuracy: 0.2295 - val_loss: 2.6617 - val_accuracy: 0.2121\n",
            "Epoch 11/100\n",
            "638/638 [==============================] - 3s 4ms/step - loss: 3.0098 - accuracy: 0.2337 - val_loss: 2.5383 - val_accuracy: 0.2505\n",
            "Epoch 12/100\n",
            "638/638 [==============================] - 3s 4ms/step - loss: 2.8877 - accuracy: 0.2363 - val_loss: 2.7399 - val_accuracy: 0.2517\n",
            "Epoch 13/100\n",
            "638/638 [==============================] - 3s 4ms/step - loss: 2.7944 - accuracy: 0.2393 - val_loss: 2.3041 - val_accuracy: 0.2658\n",
            "Epoch 14/100\n",
            "638/638 [==============================] - 3s 5ms/step - loss: 2.6037 - accuracy: 0.2386 - val_loss: 2.3521 - val_accuracy: 0.2717\n",
            "Epoch 15/100\n",
            "638/638 [==============================] - 3s 5ms/step - loss: 2.5199 - accuracy: 0.2439 - val_loss: 2.3553 - val_accuracy: 0.2293\n",
            "Epoch 16/100\n",
            "638/638 [==============================] - 3s 4ms/step - loss: 2.3735 - accuracy: 0.2540 - val_loss: 2.0583 - val_accuracy: 0.2540\n",
            "Epoch 17/100\n",
            "638/638 [==============================] - 3s 5ms/step - loss: 2.2762 - accuracy: 0.2524 - val_loss: 1.9872 - val_accuracy: 0.2489\n",
            "Epoch 18/100\n",
            "638/638 [==============================] - 3s 4ms/step - loss: 2.1633 - accuracy: 0.2638 - val_loss: 2.0221 - val_accuracy: 0.2481\n",
            "Epoch 19/100\n",
            "638/638 [==============================] - 3s 5ms/step - loss: 2.0752 - accuracy: 0.2685 - val_loss: 1.9959 - val_accuracy: 0.2560\n",
            "Epoch 20/100\n",
            "638/638 [==============================] - 3s 4ms/step - loss: 1.9938 - accuracy: 0.2748 - val_loss: 1.9163 - val_accuracy: 0.2642\n",
            "Epoch 21/100\n",
            "638/638 [==============================] - 3s 4ms/step - loss: 1.9371 - accuracy: 0.2826 - val_loss: 1.9215 - val_accuracy: 0.2803\n",
            "Epoch 22/100\n",
            "638/638 [==============================] - 3s 4ms/step - loss: 1.8991 - accuracy: 0.2847 - val_loss: 1.8931 - val_accuracy: 0.2650\n",
            "Epoch 23/100\n",
            "638/638 [==============================] - 3s 5ms/step - loss: 1.8493 - accuracy: 0.2943 - val_loss: 1.9285 - val_accuracy: 0.2634\n",
            "Epoch 24/100\n",
            "638/638 [==============================] - 3s 5ms/step - loss: 1.8091 - accuracy: 0.2984 - val_loss: 1.8562 - val_accuracy: 0.2713\n",
            "Epoch 25/100\n",
            "638/638 [==============================] - 3s 4ms/step - loss: 1.7852 - accuracy: 0.3040 - val_loss: 1.8919 - val_accuracy: 0.2760\n",
            "Epoch 26/100\n",
            "638/638 [==============================] - 3s 4ms/step - loss: 1.7562 - accuracy: 0.3084 - val_loss: 1.8463 - val_accuracy: 0.2913\n",
            "Epoch 27/100\n",
            "638/638 [==============================] - 3s 4ms/step - loss: 1.7314 - accuracy: 0.3108 - val_loss: 1.8653 - val_accuracy: 0.2850\n",
            "Epoch 28/100\n",
            "638/638 [==============================] - 4s 6ms/step - loss: 1.7225 - accuracy: 0.3138 - val_loss: 1.8785 - val_accuracy: 0.2913\n",
            "Epoch 29/100\n",
            "638/638 [==============================] - 3s 4ms/step - loss: 1.7054 - accuracy: 0.3196 - val_loss: 1.8547 - val_accuracy: 0.2940\n",
            "Epoch 30/100\n",
            "638/638 [==============================] - 3s 4ms/step - loss: 1.6917 - accuracy: 0.3193 - val_loss: 1.8542 - val_accuracy: 0.2944\n",
            "Epoch 31/100\n",
            "638/638 [==============================] - 3s 4ms/step - loss: 1.6839 - accuracy: 0.3226 - val_loss: 1.8636 - val_accuracy: 0.2869\n",
            "80/80 [==============================] - 0s 3ms/step - loss: 1.8592 - accuracy: 0.2965\n",
            "Loss: 1.86, Accuracy: 0.3\n"
          ]
        }
      ],
      "source": [
        "model.fit([text_train, image_train], emotion_train, epochs=EPOCH, validation_data=([text_val, image_val], emotion_val), callbacks=[checkpoint_callback, early_stopping_callback])\n",
        "\n",
        "evaluation_results = model.evaluate([text_test, image_test], emotion_test)\n",
        "print(f\"Loss: {round(evaluation_results[0], 2)}, Accuracy: {round(evaluation_results[1], 2)}\")"
      ]
    },
    {
      "cell_type": "markdown",
      "metadata": {
        "id": "9pgCa3mCDWR4"
      },
      "source": [
        "Tramite questo semplice modello con 27335 parametri si raggiunge una precisione circa del 30%  (loss: 1.86) andando quindi a migliorare la precisione di circa 2.4 volte rispetto a un modello casuale."
      ]
    },
    {
      "cell_type": "markdown",
      "metadata": {
        "id": "sWZbUv5MGzp0"
      },
      "source": [
        "## Seconda prova\n",
        "In questo seconda prova andiamo a cambiare solo le immagini normalizzandole per andare a vedere come influisce sulla rete."
      ]
    },
    {
      "cell_type": "code",
      "execution_count": 32,
      "metadata": {
        "colab": {
          "base_uri": "https://localhost:8080/"
        },
        "id": "X9vYe5PyFM6-",
        "outputId": "f4cf40b2-cfb9-4849-8fe1-3ecd34bd0f1d"
      },
      "outputs": [
        {
          "name": "stdout",
          "output_type": "stream",
          "text": [
            "Image [[159 156 159 ... 142 129 137]\n",
            " [160 161 158 ... 162 150 127]\n",
            " [157 160 151 ... 132 159 133]\n",
            " ...\n",
            " [ 23  20  25 ...  19  36  37]\n",
            " [ 19  21  25 ...  23  39  27]\n",
            " [ 17  23  22 ...  28  44  24]]\n",
            "\n",
            "Normalized image [[0.62352941 0.61176471 0.62352941 ... 0.55686275 0.50588235 0.5372549 ]\n",
            " [0.62745098 0.63137255 0.61960784 ... 0.63529412 0.58823529 0.49803922]\n",
            " [0.61568627 0.62745098 0.59215686 ... 0.51764706 0.62352941 0.52156863]\n",
            " ...\n",
            " [0.09019608 0.07843137 0.09803922 ... 0.0745098  0.14117647 0.14509804]\n",
            " [0.0745098  0.08235294 0.09803922 ... 0.09019608 0.15294118 0.10588235]\n",
            " [0.06666667 0.09019608 0.08627451 ... 0.10980392 0.17254902 0.09411765]]\n"
          ]
        }
      ],
      "source": [
        "print(\"Image\", images[i])\n",
        "norm_images = images / 255\n",
        "print(\"\\nNormalized image\", norm_images[i])\n",
        "\n",
        "# ricreaiamo il dataset\n",
        "text_train, text_test_temp, image_train, image_test_temp, emotion_train, emotion_test_temp = train_test_split(\n",
        "    text_padded, norm_images, categorical_emotions, test_size=0.2, random_state=42\n",
        ")\n",
        "\n",
        "text_test, text_val, image_test, image_val, emotion_test, emotion_val = train_test_split(\n",
        "    text_test_temp, image_test_temp, emotion_test_temp, test_size=0.5, random_state=42\n",
        ")"
      ]
    },
    {
      "cell_type": "code",
      "execution_count": 23,
      "metadata": {
        "colab": {
          "base_uri": "https://localhost:8080/"
        },
        "id": "XbTA4ZaHFiW_",
        "outputId": "4f830fcc-db2a-4eb1-d3d2-088f24193721"
      },
      "outputs": [
        {
          "name": "stdout",
          "output_type": "stream",
          "text": [
            "Epoch 1/100\n",
            "638/638 [==============================] - 4s 5ms/step - loss: 1.8916 - accuracy: 0.2662 - val_loss: 1.8039 - val_accuracy: 0.2525\n",
            "Epoch 2/100\n",
            "638/638 [==============================] - 3s 5ms/step - loss: 1.8208 - accuracy: 0.2710 - val_loss: 1.7768 - val_accuracy: 0.2709\n",
            "Epoch 3/100\n",
            "638/638 [==============================] - 3s 4ms/step - loss: 1.7962 - accuracy: 0.2741 - val_loss: 1.7614 - val_accuracy: 0.2705\n",
            "Epoch 4/100\n",
            "638/638 [==============================] - 3s 4ms/step - loss: 1.7592 - accuracy: 0.2790 - val_loss: 1.7491 - val_accuracy: 0.2850\n",
            "Epoch 5/100\n",
            "638/638 [==============================] - 5s 8ms/step - loss: 1.7322 - accuracy: 0.2892 - val_loss: 1.7201 - val_accuracy: 0.2834\n",
            "Epoch 6/100\n",
            "638/638 [==============================] - 5s 7ms/step - loss: 1.7113 - accuracy: 0.2990 - val_loss: 1.7011 - val_accuracy: 0.2936\n",
            "Epoch 7/100\n",
            "638/638 [==============================] - 3s 4ms/step - loss: 1.7030 - accuracy: 0.3122 - val_loss: 1.6783 - val_accuracy: 0.3218\n",
            "Epoch 8/100\n",
            "638/638 [==============================] - 3s 4ms/step - loss: 1.6742 - accuracy: 0.3258 - val_loss: 1.6595 - val_accuracy: 0.3446\n",
            "Epoch 9/100\n",
            "638/638 [==============================] - 3s 5ms/step - loss: 1.6517 - accuracy: 0.3459 - val_loss: 1.6153 - val_accuracy: 0.3642\n",
            "Epoch 10/100\n",
            "638/638 [==============================] - 3s 5ms/step - loss: 1.6250 - accuracy: 0.3606 - val_loss: 1.6035 - val_accuracy: 0.3724\n",
            "Epoch 11/100\n",
            "638/638 [==============================] - 3s 4ms/step - loss: 1.6068 - accuracy: 0.3712 - val_loss: 1.5866 - val_accuracy: 0.3904\n",
            "Epoch 12/100\n",
            "638/638 [==============================] - 3s 4ms/step - loss: 1.5892 - accuracy: 0.3833 - val_loss: 1.5607 - val_accuracy: 0.4077\n",
            "Epoch 13/100\n",
            "638/638 [==============================] - 3s 4ms/step - loss: 1.5740 - accuracy: 0.3923 - val_loss: 1.5656 - val_accuracy: 0.4136\n",
            "Epoch 14/100\n",
            "638/638 [==============================] - 4s 6ms/step - loss: 1.5650 - accuracy: 0.3964 - val_loss: 1.5532 - val_accuracy: 0.4234\n",
            "Epoch 15/100\n",
            "638/638 [==============================] - 3s 4ms/step - loss: 1.5526 - accuracy: 0.4042 - val_loss: 1.5450 - val_accuracy: 0.4187\n",
            "Epoch 16/100\n",
            "638/638 [==============================] - 3s 4ms/step - loss: 1.5391 - accuracy: 0.4083 - val_loss: 1.5348 - val_accuracy: 0.4265\n",
            "Epoch 17/100\n",
            "638/638 [==============================] - 2s 4ms/step - loss: 1.5317 - accuracy: 0.4127 - val_loss: 1.5326 - val_accuracy: 0.4277\n",
            "Epoch 18/100\n",
            "638/638 [==============================] - 3s 4ms/step - loss: 1.5279 - accuracy: 0.4162 - val_loss: 1.5316 - val_accuracy: 0.4292\n",
            "Epoch 19/100\n",
            "638/638 [==============================] - 3s 5ms/step - loss: 1.5128 - accuracy: 0.4256 - val_loss: 1.5200 - val_accuracy: 0.4375\n",
            "Epoch 20/100\n",
            "638/638 [==============================] - 3s 4ms/step - loss: 1.5071 - accuracy: 0.4312 - val_loss: 1.5109 - val_accuracy: 0.4347\n",
            "Epoch 21/100\n",
            "638/638 [==============================] - 3s 4ms/step - loss: 1.4925 - accuracy: 0.4362 - val_loss: 1.5136 - val_accuracy: 0.4394\n",
            "Epoch 22/100\n",
            "638/638 [==============================] - 4s 7ms/step - loss: 1.4920 - accuracy: 0.4304 - val_loss: 1.5049 - val_accuracy: 0.4406\n",
            "Epoch 23/100\n",
            "638/638 [==============================] - 5s 7ms/step - loss: 1.4844 - accuracy: 0.4383 - val_loss: 1.5074 - val_accuracy: 0.4461\n",
            "Epoch 24/100\n",
            "638/638 [==============================] - 3s 4ms/step - loss: 1.4835 - accuracy: 0.4368 - val_loss: 1.5000 - val_accuracy: 0.4496\n",
            "Epoch 25/100\n",
            "638/638 [==============================] - 3s 4ms/step - loss: 1.4761 - accuracy: 0.4445 - val_loss: 1.5002 - val_accuracy: 0.4500\n",
            "Epoch 26/100\n",
            "638/638 [==============================] - 3s 4ms/step - loss: 1.4705 - accuracy: 0.4440 - val_loss: 1.4964 - val_accuracy: 0.4524\n",
            "Epoch 27/100\n",
            "638/638 [==============================] - 3s 5ms/step - loss: 1.4610 - accuracy: 0.4496 - val_loss: 1.4950 - val_accuracy: 0.4535\n",
            "Epoch 28/100\n",
            "638/638 [==============================] - 3s 4ms/step - loss: 1.4558 - accuracy: 0.4451 - val_loss: 1.4903 - val_accuracy: 0.4488\n",
            "Epoch 29/100\n",
            "638/638 [==============================] - 3s 4ms/step - loss: 1.4508 - accuracy: 0.4526 - val_loss: 1.4965 - val_accuracy: 0.4551\n",
            "Epoch 30/100\n",
            "638/638 [==============================] - 2s 4ms/step - loss: 1.4552 - accuracy: 0.4510 - val_loss: 1.4928 - val_accuracy: 0.4535\n",
            "Epoch 31/100\n",
            "638/638 [==============================] - 3s 4ms/step - loss: 1.4503 - accuracy: 0.4519 - val_loss: 1.4932 - val_accuracy: 0.4516\n",
            "Epoch 32/100\n",
            "638/638 [==============================] - 3s 5ms/step - loss: 1.4446 - accuracy: 0.4551 - val_loss: 1.4877 - val_accuracy: 0.4555\n",
            "Epoch 33/100\n",
            "638/638 [==============================] - 3s 5ms/step - loss: 1.4373 - accuracy: 0.4541 - val_loss: 1.4894 - val_accuracy: 0.4614\n",
            "Epoch 34/100\n",
            "638/638 [==============================] - 3s 4ms/step - loss: 1.4402 - accuracy: 0.4557 - val_loss: 1.4908 - val_accuracy: 0.4594\n",
            "Epoch 35/100\n",
            "638/638 [==============================] - 3s 4ms/step - loss: 1.4340 - accuracy: 0.4571 - val_loss: 1.4903 - val_accuracy: 0.4567\n",
            "Epoch 36/100\n",
            "638/638 [==============================] - 3s 5ms/step - loss: 1.4275 - accuracy: 0.4593 - val_loss: 1.4896 - val_accuracy: 0.4500\n",
            "Epoch 37/100\n",
            "638/638 [==============================] - 3s 4ms/step - loss: 1.4274 - accuracy: 0.4617 - val_loss: 1.4865 - val_accuracy: 0.4575\n",
            "Epoch 38/100\n",
            "638/638 [==============================] - 3s 4ms/step - loss: 1.4261 - accuracy: 0.4593 - val_loss: 1.4902 - val_accuracy: 0.4590\n",
            "Epoch 39/100\n",
            "638/638 [==============================] - 3s 4ms/step - loss: 1.4218 - accuracy: 0.4632 - val_loss: 1.4950 - val_accuracy: 0.4563\n",
            "Epoch 40/100\n",
            "638/638 [==============================] - 3s 4ms/step - loss: 1.4147 - accuracy: 0.4653 - val_loss: 1.4895 - val_accuracy: 0.4661\n",
            "Epoch 41/100\n",
            "638/638 [==============================] - 3s 5ms/step - loss: 1.4129 - accuracy: 0.4672 - val_loss: 1.4886 - val_accuracy: 0.4598\n",
            "Epoch 42/100\n",
            "638/638 [==============================] - 3s 4ms/step - loss: 1.4117 - accuracy: 0.4685 - val_loss: 1.4966 - val_accuracy: 0.4645\n",
            "80/80 [==============================] - 0s 3ms/step - loss: 1.4703 - accuracy: 0.4498\n",
            "Loss: 1.47, Accuracy: 0.45\n"
          ]
        }
      ],
      "source": [
        "model.fit([text_train, image_train], emotion_train, epochs=EPOCH, validation_data=([text_val, image_val], emotion_val), callbacks=[checkpoint_callback, early_stopping_callback])\n",
        "\n",
        "evaluation_results = model.evaluate([text_test, image_test], emotion_test)\n",
        "print(f\"Loss: {round(evaluation_results[0], 2)}, Accuracy: {round(evaluation_results[1], 2)}\")"
      ]
    },
    {
      "cell_type": "markdown",
      "metadata": {
        "id": "J2nhEBgPJjLZ"
      },
      "source": [
        "Applicando una semplice operazione di normalizzazione raggiungiamo con lo stesso modello una precisione del 45% (loss: 1.48) migliorando di 3.2 volte rispetto a un modello casuale."
      ]
    },
    {
      "cell_type": "markdown",
      "metadata": {
        "id": "cGUb6lQXKjao"
      },
      "source": [
        "## Terza prova\n",
        "\n",
        "In questa prova andiamo ad aggiungere dei layer più complicati per i due input per migliorare ulteriormente la precisione. Scegliamo un layer Embedding per il testo e dei layer convoluzionali per le immagini."
      ]
    },
    {
      "cell_type": "code",
      "execution_count": 24,
      "metadata": {
        "colab": {
          "base_uri": "https://localhost:8080/"
        },
        "id": "KmIRHMY_KnN2",
        "outputId": "5b37fafe-b0a9-41c9-ea4e-53cfceb034e3"
      },
      "outputs": [
        {
          "name": "stdout",
          "output_type": "stream",
          "text": [
            "Model: \"model_2\"\n",
            "__________________________________________________________________________________________________\n",
            " Layer (type)                Output Shape                 Param #   Connected to                  \n",
            "==================================================================================================\n",
            " input_6 (InputLayer)        [(None, 48, 48, 1)]          0         []                            \n",
            "                                                                                                  \n",
            " input_5 (InputLayer)        [(None, 34)]                 0         []                            \n",
            "                                                                                                  \n",
            " conv2d (Conv2D)             (None, 46, 46, 32)           320       ['input_6[0][0]']             \n",
            "                                                                                                  \n",
            " embedding (Embedding)       (None, 34, 8)                160000    ['input_5[0][0]']             \n",
            "                                                                                                  \n",
            " max_pooling2d (MaxPooling2  (None, 23, 23, 32)           0         ['conv2d[0][0]']              \n",
            " D)                                                                                               \n",
            "                                                                                                  \n",
            " flatten_2 (Flatten)         (None, 272)                  0         ['embedding[0][0]']           \n",
            "                                                                                                  \n",
            " flatten_3 (Flatten)         (None, 16928)                0         ['max_pooling2d[0][0]']       \n",
            "                                                                                                  \n",
            " concatenate_2 (Concatenate  (None, 17200)                0         ['flatten_2[0][0]',           \n",
            " )                                                                   'flatten_3[0][0]']           \n",
            "                                                                                                  \n",
            " dropout_2 (Dropout)         (None, 17200)                0         ['concatenate_2[0][0]']       \n",
            "                                                                                                  \n",
            " dense_8 (Dense)             (None, 7)                    120407    ['dropout_2[0][0]']           \n",
            "                                                                                                  \n",
            "==================================================================================================\n",
            "Total params: 280727 (1.07 MB)\n",
            "Trainable params: 280727 (1.07 MB)\n",
            "Non-trainable params: 0 (0.00 Byte)\n",
            "__________________________________________________________________________________________________\n"
          ]
        }
      ],
      "source": [
        "text_input = layers.Input(shape=text_padded.shape[1], dtype=tf.int32)\n",
        "embedding_layer = layers.Embedding(input_dim=max_words, output_dim=8, input_length=text_padded.shape[1])(text_input)\n",
        "text_flatten = layers.Flatten()(embedding_layer)\n",
        "\n",
        "image_input = layers.Input(shape=(48, 48, 1))\n",
        "conv_layer = layers.Conv2D(32, (3, 3), activation='relu')(image_input)\n",
        "pooling_layer = layers.MaxPooling2D((2, 2))(conv_layer)\n",
        "image_flatten = layers.Flatten()(pooling_layer)\n",
        "\n",
        "concatenated = layers.Concatenate()([text_flatten, image_flatten])\n",
        "dropout_layer = layers.Dropout(0.5)(concatenated)\n",
        "output_layer = layers.Dense(len(label_encoder.classes_), activation='softmax')(dropout_layer)\n",
        "\n",
        "model = models.Model(inputs=[text_input, image_input], outputs=output_layer)\n",
        "optimizer = Adam(learning_rate=0.0001)\n",
        "\n",
        "model.compile(optimizer=optimizer, loss='categorical_crossentropy', metrics=['accuracy'])\n",
        "model.summary()"
      ]
    },
    {
      "cell_type": "code",
      "execution_count": null,
      "metadata": {
        "colab": {
          "base_uri": "https://localhost:8080/"
        },
        "id": "5qN0ClA2M9ws",
        "outputId": "e26442b2-3c67-4eae-9498-23a6832c6ed5"
      },
      "outputs": [
        {
          "name": "stdout",
          "output_type": "stream",
          "text": [
            "Epoch 1/100\n",
            "585/585 [==============================] - 33s 55ms/step - loss: 1.6812 - accuracy: 0.3140 - val_loss: 1.6213 - val_accuracy: 0.3657\n",
            "Epoch 2/100\n",
            "585/585 [==============================] - 29s 50ms/step - loss: 1.5862 - accuracy: 0.3767 - val_loss: 1.5645 - val_accuracy: 0.3981\n",
            "Epoch 3/100\n",
            "585/585 [==============================] - 27s 46ms/step - loss: 1.5336 - accuracy: 0.4174 - val_loss: 1.5105 - val_accuracy: 0.4310\n",
            "Epoch 4/100\n",
            "585/585 [==============================] - 26s 45ms/step - loss: 1.4902 - accuracy: 0.4403 - val_loss: 1.4812 - val_accuracy: 0.4353\n",
            "Epoch 5/100\n",
            "585/585 [==============================] - 27s 46ms/step - loss: 1.4567 - accuracy: 0.4588 - val_loss: 1.4483 - val_accuracy: 0.4699\n",
            "Epoch 6/100\n",
            "585/585 [==============================] - 27s 46ms/step - loss: 1.4204 - accuracy: 0.4823 - val_loss: 1.4277 - val_accuracy: 0.4891\n",
            "Epoch 7/100\n",
            "585/585 [==============================] - 27s 46ms/step - loss: 1.3930 - accuracy: 0.4925 - val_loss: 1.4003 - val_accuracy: 0.4767\n",
            "Epoch 8/100\n",
            "585/585 [==============================] - 35s 59ms/step - loss: 1.3662 - accuracy: 0.5045 - val_loss: 1.3793 - val_accuracy: 0.4853\n",
            "Epoch 9/100\n",
            "585/585 [==============================] - 26s 44ms/step - loss: 1.3379 - accuracy: 0.5167 - val_loss: 1.3588 - val_accuracy: 0.4912\n",
            "Epoch 10/100\n",
            "585/585 [==============================] - 28s 48ms/step - loss: 1.3142 - accuracy: 0.5274 - val_loss: 1.3342 - val_accuracy: 0.5254\n",
            "Epoch 11/100\n",
            "585/585 [==============================] - 26s 44ms/step - loss: 1.2888 - accuracy: 0.5367 - val_loss: 1.3239 - val_accuracy: 0.5075\n",
            "Epoch 12/100\n",
            "585/585 [==============================] - 27s 47ms/step - loss: 1.2673 - accuracy: 0.5459 - val_loss: 1.2989 - val_accuracy: 0.5276\n",
            "Epoch 13/100\n",
            "585/585 [==============================] - 27s 46ms/step - loss: 1.2446 - accuracy: 0.5584 - val_loss: 1.2873 - val_accuracy: 0.5387\n",
            "Epoch 14/100\n",
            "585/585 [==============================] - 30s 52ms/step - loss: 1.2222 - accuracy: 0.5685 - val_loss: 1.2734 - val_accuracy: 0.5421\n",
            "Epoch 15/100\n",
            "585/585 [==============================] - 31s 54ms/step - loss: 1.2033 - accuracy: 0.5732 - val_loss: 1.2542 - val_accuracy: 0.5455\n",
            "Epoch 16/100\n",
            "585/585 [==============================] - 26s 45ms/step - loss: 1.1836 - accuracy: 0.5821 - val_loss: 1.2404 - val_accuracy: 0.5570\n",
            "Epoch 17/100\n",
            "  2/585 [..............................] - ETA: 32s - loss: 1.0708 - accuracy: 0.6094"
          ]
        },
        {
          "name": "stderr",
          "output_type": "stream",
          "text": [
            "/usr/local/lib/python3.10/dist-packages/keras/src/engine/training.py:3103: UserWarning: You are saving your model as an HDF5 file via `model.save()`. This file format is considered legacy. We recommend using instead the native Keras format, e.g. `model.save('my_model.keras')`.\n",
            "  saving_api.save_model(\n"
          ]
        },
        {
          "name": "stdout",
          "output_type": "stream",
          "text": [
            "585/585 [==============================] - 26s 45ms/step - loss: 1.1643 - accuracy: 0.5931 - val_loss: 1.2275 - val_accuracy: 0.5609\n",
            "Epoch 18/100\n",
            "585/585 [==============================] - 27s 46ms/step - loss: 1.1485 - accuracy: 0.5951 - val_loss: 1.2203 - val_accuracy: 0.5609\n",
            "Epoch 19/100\n",
            "585/585 [==============================] - 27s 47ms/step - loss: 1.1283 - accuracy: 0.6048 - val_loss: 1.2138 - val_accuracy: 0.5664\n",
            "Epoch 20/100\n",
            "585/585 [==============================] - 27s 47ms/step - loss: 1.1156 - accuracy: 0.6100 - val_loss: 1.2011 - val_accuracy: 0.5737\n",
            "Epoch 21/100\n",
            "585/585 [==============================] - 27s 47ms/step - loss: 1.0989 - accuracy: 0.6203 - val_loss: 1.1886 - val_accuracy: 0.5780\n",
            "Epoch 22/100\n",
            "585/585 [==============================] - 27s 47ms/step - loss: 1.0842 - accuracy: 0.6255 - val_loss: 1.1809 - val_accuracy: 0.5852\n",
            "Epoch 23/100\n",
            "585/585 [==============================] - 29s 50ms/step - loss: 1.0683 - accuracy: 0.6288 - val_loss: 1.1662 - val_accuracy: 0.5921\n",
            "Epoch 24/100\n",
            "585/585 [==============================] - 27s 46ms/step - loss: 1.0535 - accuracy: 0.6363 - val_loss: 1.1609 - val_accuracy: 0.5912\n",
            "Epoch 25/100\n",
            "585/585 [==============================] - 27s 46ms/step - loss: 1.0384 - accuracy: 0.6429 - val_loss: 1.1525 - val_accuracy: 0.5942\n",
            "Epoch 26/100\n",
            "585/585 [==============================] - 27s 47ms/step - loss: 1.0257 - accuracy: 0.6474 - val_loss: 1.1444 - val_accuracy: 0.5976\n",
            "Epoch 27/100\n",
            "585/585 [==============================] - 26s 44ms/step - loss: 1.0143 - accuracy: 0.6494 - val_loss: 1.1375 - val_accuracy: 0.5950\n",
            "Epoch 28/100\n",
            "585/585 [==============================] - 27s 45ms/step - loss: 0.9984 - accuracy: 0.6585 - val_loss: 1.1293 - val_accuracy: 0.6002\n",
            "Epoch 29/100\n",
            "585/585 [==============================] - 27s 46ms/step - loss: 0.9877 - accuracy: 0.6603 - val_loss: 1.1290 - val_accuracy: 0.5959\n",
            "Epoch 30/100\n",
            "585/585 [==============================] - 27s 46ms/step - loss: 0.9713 - accuracy: 0.6709 - val_loss: 1.1187 - val_accuracy: 0.6083\n",
            "Epoch 31/100\n",
            "585/585 [==============================] - 27s 46ms/step - loss: 0.9613 - accuracy: 0.6738 - val_loss: 1.1141 - val_accuracy: 0.6040\n",
            "Epoch 32/100\n",
            "585/585 [==============================] - 27s 46ms/step - loss: 0.9513 - accuracy: 0.6782 - val_loss: 1.1083 - val_accuracy: 0.6117\n",
            "Epoch 33/100\n",
            "585/585 [==============================] - 27s 47ms/step - loss: 0.9399 - accuracy: 0.6824 - val_loss: 1.1030 - val_accuracy: 0.6164\n",
            "Epoch 34/100\n",
            "585/585 [==============================] - 27s 47ms/step - loss: 0.9254 - accuracy: 0.6865 - val_loss: 1.0971 - val_accuracy: 0.6147\n",
            "Epoch 35/100\n",
            "585/585 [==============================] - 27s 47ms/step - loss: 0.9173 - accuracy: 0.6908 - val_loss: 1.0948 - val_accuracy: 0.6164\n",
            "Epoch 36/100\n",
            "585/585 [==============================] - 27s 46ms/step - loss: 0.9032 - accuracy: 0.6996 - val_loss: 1.0881 - val_accuracy: 0.6168\n",
            "Epoch 37/100\n",
            "585/585 [==============================] - 26s 44ms/step - loss: 0.8982 - accuracy: 0.7004 - val_loss: 1.0851 - val_accuracy: 0.6215\n",
            "Epoch 38/100\n",
            "585/585 [==============================] - 26s 45ms/step - loss: 0.8854 - accuracy: 0.7050 - val_loss: 1.0836 - val_accuracy: 0.6181\n",
            "Epoch 39/100\n",
            "585/585 [==============================] - 27s 47ms/step - loss: 0.8699 - accuracy: 0.7143 - val_loss: 1.0758 - val_accuracy: 0.6245\n",
            "Epoch 40/100\n",
            "585/585 [==============================] - 27s 46ms/step - loss: 0.8658 - accuracy: 0.7119 - val_loss: 1.0741 - val_accuracy: 0.6215\n",
            "Epoch 41/100\n",
            "585/585 [==============================] - 27s 47ms/step - loss: 0.8566 - accuracy: 0.7170 - val_loss: 1.0697 - val_accuracy: 0.6279\n",
            "Epoch 42/100\n",
            "585/585 [==============================] - 27s 47ms/step - loss: 0.8443 - accuracy: 0.7185 - val_loss: 1.0654 - val_accuracy: 0.6292\n",
            "Epoch 43/100\n",
            "585/585 [==============================] - 27s 46ms/step - loss: 0.8341 - accuracy: 0.7239 - val_loss: 1.0616 - val_accuracy: 0.6331\n",
            "Epoch 44/100\n",
            "585/585 [==============================] - 27s 46ms/step - loss: 0.8222 - accuracy: 0.7291 - val_loss: 1.0570 - val_accuracy: 0.6322\n",
            "Epoch 45/100\n",
            "585/585 [==============================] - 27s 46ms/step - loss: 0.8191 - accuracy: 0.7287 - val_loss: 1.0578 - val_accuracy: 0.6322\n",
            "Epoch 46/100\n",
            "585/585 [==============================] - 27s 46ms/step - loss: 0.8062 - accuracy: 0.7353 - val_loss: 1.0584 - val_accuracy: 0.6335\n",
            "Epoch 47/100\n",
            "585/585 [==============================] - 26s 45ms/step - loss: 0.7993 - accuracy: 0.7380 - val_loss: 1.0521 - val_accuracy: 0.6331\n",
            "Epoch 48/100\n",
            "585/585 [==============================] - 26s 44ms/step - loss: 0.7900 - accuracy: 0.7447 - val_loss: 1.0493 - val_accuracy: 0.6352\n",
            "Epoch 49/100\n",
            "585/585 [==============================] - 27s 45ms/step - loss: 0.7821 - accuracy: 0.7429 - val_loss: 1.0534 - val_accuracy: 0.6275\n",
            "Epoch 50/100\n",
            "585/585 [==============================] - 27s 46ms/step - loss: 0.7748 - accuracy: 0.7456 - val_loss: 1.0433 - val_accuracy: 0.6326\n",
            "Epoch 51/100\n",
            "585/585 [==============================] - 27s 46ms/step - loss: 0.7631 - accuracy: 0.7517 - val_loss: 1.0441 - val_accuracy: 0.6309\n",
            "Epoch 52/100\n",
            "585/585 [==============================] - 27s 46ms/step - loss: 0.7588 - accuracy: 0.7537 - val_loss: 1.0442 - val_accuracy: 0.6322\n",
            "Epoch 53/100\n",
            "585/585 [==============================] - 27s 46ms/step - loss: 0.7508 - accuracy: 0.7556 - val_loss: 1.0390 - val_accuracy: 0.6399\n",
            "Epoch 54/100\n",
            "585/585 [==============================] - 27s 46ms/step - loss: 0.7419 - accuracy: 0.7605 - val_loss: 1.0372 - val_accuracy: 0.6361\n",
            "Epoch 55/100\n",
            "585/585 [==============================] - 27s 46ms/step - loss: 0.7337 - accuracy: 0.7613 - val_loss: 1.0338 - val_accuracy: 0.6420\n",
            "Epoch 56/100\n",
            "585/585 [==============================] - 27s 47ms/step - loss: 0.7267 - accuracy: 0.7637 - val_loss: 1.0377 - val_accuracy: 0.6395\n",
            "Epoch 57/100\n",
            "585/585 [==============================] - 27s 46ms/step - loss: 0.7204 - accuracy: 0.7670 - val_loss: 1.0342 - val_accuracy: 0.6356\n",
            "Epoch 58/100\n",
            "585/585 [==============================] - 25s 43ms/step - loss: 0.7134 - accuracy: 0.7723 - val_loss: 1.0391 - val_accuracy: 0.6348\n",
            "Epoch 59/100\n",
            "585/585 [==============================] - 26s 45ms/step - loss: 0.7084 - accuracy: 0.7724 - val_loss: 1.0292 - val_accuracy: 0.6399\n",
            "Epoch 60/100\n",
            "585/585 [==============================] - 27s 45ms/step - loss: 0.6963 - accuracy: 0.7749 - val_loss: 1.0311 - val_accuracy: 0.6395\n",
            "Epoch 61/100\n",
            "585/585 [==============================] - 27s 45ms/step - loss: 0.6846 - accuracy: 0.7808 - val_loss: 1.0279 - val_accuracy: 0.6442\n",
            "Epoch 62/100\n",
            "585/585 [==============================] - 27s 47ms/step - loss: 0.6818 - accuracy: 0.7843 - val_loss: 1.0295 - val_accuracy: 0.6356\n",
            "Epoch 63/100\n",
            "585/585 [==============================] - 27s 46ms/step - loss: 0.6768 - accuracy: 0.7829 - val_loss: 1.0296 - val_accuracy: 0.6378\n",
            "Epoch 64/100\n",
            "585/585 [==============================] - 27s 47ms/step - loss: 0.6711 - accuracy: 0.7835 - val_loss: 1.0261 - val_accuracy: 0.6459\n",
            "Epoch 65/100\n",
            "585/585 [==============================] - 27s 45ms/step - loss: 0.6692 - accuracy: 0.7848 - val_loss: 1.0303 - val_accuracy: 0.6361\n",
            "Epoch 66/100\n",
            "585/585 [==============================] - 26s 44ms/step - loss: 0.6584 - accuracy: 0.7935 - val_loss: 1.0245 - val_accuracy: 0.6437\n",
            "Epoch 67/100\n",
            "585/585 [==============================] - 26s 45ms/step - loss: 0.6530 - accuracy: 0.7909 - val_loss: 1.0239 - val_accuracy: 0.6455\n",
            "Epoch 68/100\n",
            "585/585 [==============================] - 26s 45ms/step - loss: 0.6462 - accuracy: 0.7920 - val_loss: 1.0284 - val_accuracy: 0.6395\n",
            "Epoch 69/100\n",
            "585/585 [==============================] - 26s 45ms/step - loss: 0.6327 - accuracy: 0.7987 - val_loss: 1.0236 - val_accuracy: 0.6416\n",
            "Epoch 70/100\n",
            "585/585 [==============================] - 27s 46ms/step - loss: 0.6285 - accuracy: 0.7990 - val_loss: 1.0213 - val_accuracy: 0.6463\n",
            "Epoch 71/100\n",
            "585/585 [==============================] - 27s 46ms/step - loss: 0.6264 - accuracy: 0.8021 - val_loss: 1.0235 - val_accuracy: 0.6390\n",
            "Epoch 72/100\n",
            "585/585 [==============================] - 27s 46ms/step - loss: 0.6201 - accuracy: 0.8010 - val_loss: 1.0198 - val_accuracy: 0.6416\n",
            "Epoch 73/100\n",
            "585/585 [==============================] - 27s 46ms/step - loss: 0.6180 - accuracy: 0.7985 - val_loss: 1.0211 - val_accuracy: 0.6420\n",
            "Epoch 74/100\n",
            "585/585 [==============================] - 26s 44ms/step - loss: 0.6119 - accuracy: 0.8055 - val_loss: 1.0244 - val_accuracy: 0.6369\n",
            "Epoch 75/100\n",
            "585/585 [==============================] - 26s 45ms/step - loss: 0.6070 - accuracy: 0.8066 - val_loss: 1.0277 - val_accuracy: 0.6373\n",
            "Epoch 76/100\n",
            "585/585 [==============================] - 27s 46ms/step - loss: 0.5991 - accuracy: 0.8088 - val_loss: 1.0256 - val_accuracy: 0.6373\n",
            "Epoch 77/100\n",
            "585/585 [==============================] - 27s 46ms/step - loss: 0.5913 - accuracy: 0.8120 - val_loss: 1.0235 - val_accuracy: 0.6382\n",
            "74/74 [==============================] - 1s 12ms/step - loss: 1.0302 - accuracy: 0.6329\n",
            "Loss: 1.03, Accuracy: 0.63\n"
          ]
        }
      ],
      "source": [
        "model.fit([text_train, image_train], emotion_train, epochs=EPOCH, validation_data=([text_val, image_val], emotion_val), callbacks=[checkpoint_callback, early_stopping_callback])\n",
        "\n",
        "evaluation_results = model.evaluate([text_test, image_test], emotion_test)\n",
        "print(f\"Loss: {round(evaluation_results[0], 2)}, Accuracy: {round(evaluation_results[1], 2)}\")"
      ]
    },
    {
      "cell_type": "markdown",
      "metadata": {
        "id": "HpkhgRbCOi7_"
      },
      "source": [
        "Aggiungendo dei layer che vanno ad operare su i due input abbiamo un aumento di circa 9.2 volte dei parametri arrivando a una precisione del 65% circa (loss: 0.98) che corrisponde a circa 4.7 volte migliore del modello randomico."
      ]
    },
    {
      "cell_type": "markdown",
      "metadata": {
        "id": "esuwucS38xv5"
      },
      "source": [
        "## Quarto tentativo\n",
        "Riduciamo il dataset, togliendo le scritte troppo piccole o troppo grandi. Abbassiamo il numero di filtri convoluzionali. Controlliamo anche che la distribuzione non sia cambiata di troppo."
      ]
    },
    {
      "cell_type": "code",
      "execution_count": null,
      "metadata": {
        "colab": {
          "base_uri": "https://localhost:8080/",
          "height": 652
        },
        "id": "PfmpdqFJ8mqc",
        "outputId": "e4fee631-fff4-4284-fcce-d85092f7e2b2"
      },
      "outputs": [
        {
          "name": "stdout",
          "output_type": "stream",
          "text": [
            "Numero di dati = 14882\n",
            "Numero di dati = 14882\n",
            "\n",
            "--- Distribution of Emotion ---\n",
            "joy         0.304260\n",
            "neutral     0.204072\n",
            "anger       0.170474\n",
            "surprise    0.143193\n",
            "sadness     0.134659\n",
            "fear        0.023384\n",
            "disgust     0.019957\n",
            "dtype: float64\n"
          ]
        },
        {
          "data": {
            "image/png": "[encoded data removed]",
            "text/plain": [
              "<Figure size 500x500 with 1 Axes>"
            ]
          },
          "metadata": {},
          "output_type": "display_data"
        }
      ],
      "source": [
        "data = list(filter(lambda x: len(x[\"text\"].split(\" \")) < 20, data))\n",
        "print(\"Numero di dati =\", len(data))\n",
        "data = list(filter(lambda x: len(x[\"text\"].split(\" \")) > 5, data))\n",
        "print(\"Numero di dati =\", len(data))\n",
        "texts = [entry['text'] for entry in data]\n",
        "images = np.array([entry['image_data'] for entry in data])\n",
        "norm_images = images / 255\n",
        "emotions = [entry['emotion'] for entry in data]\n",
        "c = pd.Series(emotions).value_counts(normalize=True)\n",
        "c.plot(kind=\"pie\", figsize=(5, 5), title=\"Training dataset emotion distribution\")\n",
        "print(\"\\n--- Distribution of Emotion ---\")\n",
        "print(c)\n",
        "\n",
        "max_words = 20000\n",
        "tokenizer = Tokenizer(num_words=max_words, oov_token='<OOV>')\n",
        "tokenizer.fit_on_texts(texts)\n",
        "text_sequences = tokenizer.texts_to_sequences(texts)\n",
        "text_padded = pad_sequences(text_sequences, padding='post')\n",
        "label_encoder = LabelEncoder()\n",
        "encoded_emotions = label_encoder.fit_transform(emotions)\n",
        "categorical_emotions = tf.keras.utils.to_categorical(encoded_emotions, num_classes=len(label_encoder.classes_))\n",
        "\n",
        "text_train, text_test_temp, image_train, image_test_temp, emotion_train, emotion_test_temp = train_test_split(\n",
        "    text_padded, norm_images, categorical_emotions, test_size=0.2, random_state=42\n",
        ")\n",
        "\n",
        "text_test, text_val, image_test, image_val, emotion_test, emotion_val = train_test_split(\n",
        "    text_test_temp, image_test_temp, emotion_test_temp, test_size=0.5, random_state=42\n",
        ")"
      ]
    },
    {
      "cell_type": "code",
      "execution_count": null,
      "metadata": {
        "colab": {
          "base_uri": "https://localhost:8080/"
        },
        "id": "gnBXq9Ow9tTB",
        "outputId": "48c3aeec-928c-44e8-cf3e-2fd021d69b47"
      },
      "outputs": [
        {
          "name": "stdout",
          "output_type": "stream",
          "text": [
            "Model: \"model_10\"\n",
            "__________________________________________________________________________________________________\n",
            " Layer (type)                Output Shape                 Param #   Connected to                  \n",
            "==================================================================================================\n",
            " input_24 (InputLayer)       [(None, 48, 48, 1)]          0         []                            \n",
            "                                                                                                  \n",
            " input_23 (InputLayer)       [(None, 24)]                 0         []                            \n",
            "                                                                                                  \n",
            " conv2d_3 (Conv2D)           (None, 46, 46, 24)           240       ['input_24[0][0]']            \n",
            "                                                                                                  \n",
            " embedding_3 (Embedding)     (None, 24, 8)                160000    ['input_23[0][0]']            \n",
            "                                                                                                  \n",
            " max_pooling2d_3 (MaxPoolin  (None, 23, 23, 24)           0         ['conv2d_3[0][0]']            \n",
            " g2D)                                                                                             \n",
            "                                                                                                  \n",
            " flatten_16 (Flatten)        (None, 192)                  0         ['embedding_3[0][0]']         \n",
            "                                                                                                  \n",
            " flatten_17 (Flatten)        (None, 12696)                0         ['max_pooling2d_3[0][0]']     \n",
            "                                                                                                  \n",
            " concatenate_11 (Concatenat  (None, 12888)                0         ['flatten_16[0][0]',          \n",
            " e)                                                                  'flatten_17[0][0]']          \n",
            "                                                                                                  \n",
            " dropout_10 (Dropout)        (None, 12888)                0         ['concatenate_11[0][0]']      \n",
            "                                                                                                  \n",
            " dense_34 (Dense)            (None, 7)                    90223     ['dropout_10[0][0]']          \n",
            "                                                                                                  \n",
            "==================================================================================================\n",
            "Total params: 250463 (978.37 KB)\n",
            "Trainable params: 250463 (978.37 KB)\n",
            "Non-trainable params: 0 (0.00 Byte)\n",
            "__________________________________________________________________________________________________\n"
          ]
        }
      ],
      "source": [
        "text_input = layers.Input(shape=(text_padded.shape[1],), dtype=tf.int32)\n",
        "embedding_layer = layers.Embedding(input_dim=max_words, output_dim=8, input_length=text_padded.shape[1])(text_input)\n",
        "text_flatten = layers.Flatten()(embedding_layer)\n",
        "\n",
        "image_input = layers.Input(shape=(48, 48, 1))\n",
        "conv_layer = layers.Conv2D(24, (3, 3), activation='relu')(image_input)\n",
        "pooling_layer = layers.MaxPooling2D((2, 2))(conv_layer)\n",
        "image_flatten = layers.Flatten()(pooling_layer)\n",
        "\n",
        "concatenated = layers.Concatenate()([text_flatten, image_flatten])\n",
        "dropout_layer = layers.Dropout(0.5)(concatenated)\n",
        "output_layer = layers.Dense(len(label_encoder.classes_), activation='softmax')(dropout_layer)\n",
        "\n",
        "optimizer = Adam(learning_rate=0.0001)\n",
        "model = models.Model(inputs=[text_input, image_input], outputs=output_layer)\n",
        "model.compile(optimizer=optimizer, loss='categorical_crossentropy', metrics=['accuracy'])\n",
        "model.summary()"
      ]
    },
    {
      "cell_type": "code",
      "execution_count": null,
      "metadata": {
        "colab": {
          "base_uri": "https://localhost:8080/"
        },
        "id": "B9uAx2CZ96av",
        "outputId": "cf702e09-45f6-4c98-b8e9-2725b1569b11"
      },
      "outputs": [
        {
          "name": "stdout",
          "output_type": "stream",
          "text": [
            "Epoch 1/100\n",
            "372/372 [==============================] - 15s 38ms/step - loss: 1.7192 - accuracy: 0.2975 - val_loss: 1.6695 - val_accuracy: 0.2995\n",
            "Epoch 2/100\n",
            "372/372 [==============================] - 14s 37ms/step - loss: 1.6350 - accuracy: 0.3397 - val_loss: 1.5994 - val_accuracy: 0.3915\n",
            "Epoch 3/100\n",
            "372/372 [==============================] - 14s 38ms/step - loss: 1.5845 - accuracy: 0.3827 - val_loss: 1.5655 - val_accuracy: 0.3828\n",
            "Epoch 4/100\n",
            "372/372 [==============================] - 14s 38ms/step - loss: 1.5505 - accuracy: 0.4028 - val_loss: 1.5367 - val_accuracy: 0.4318\n",
            "Epoch 5/100\n",
            "372/372 [==============================] - 14s 38ms/step - loss: 1.5224 - accuracy: 0.4249 - val_loss: 1.5156 - val_accuracy: 0.4560\n",
            "Epoch 6/100\n",
            "372/372 [==============================] - 14s 38ms/step - loss: 1.4946 - accuracy: 0.4417 - val_loss: 1.4945 - val_accuracy: 0.4527\n",
            "Epoch 7/100\n",
            "372/372 [==============================] - 14s 38ms/step - loss: 1.4725 - accuracy: 0.4536 - val_loss: 1.4700 - val_accuracy: 0.4621\n",
            "Epoch 8/100\n",
            "372/372 [==============================] - 14s 37ms/step - loss: 1.4507 - accuracy: 0.4582 - val_loss: 1.4497 - val_accuracy: 0.4708\n",
            "Epoch 9/100\n",
            "372/372 [==============================] - 14s 38ms/step - loss: 1.4298 - accuracy: 0.4718 - val_loss: 1.4361 - val_accuracy: 0.4882\n",
            "Epoch 10/100\n",
            "372/372 [==============================] - 14s 37ms/step - loss: 1.4116 - accuracy: 0.4815 - val_loss: 1.4213 - val_accuracy: 0.4876\n",
            "Epoch 11/100\n",
            "372/372 [==============================] - 14s 37ms/step - loss: 1.3937 - accuracy: 0.4894 - val_loss: 1.4059 - val_accuracy: 0.4835\n",
            "Epoch 12/100\n",
            "372/372 [==============================] - 14s 38ms/step - loss: 1.3779 - accuracy: 0.4961 - val_loss: 1.3884 - val_accuracy: 0.4923\n",
            "Epoch 13/100\n",
            "372/372 [==============================] - 14s 38ms/step - loss: 1.3569 - accuracy: 0.5075 - val_loss: 1.3781 - val_accuracy: 0.5185\n",
            "Epoch 14/100\n",
            "372/372 [==============================] - 14s 38ms/step - loss: 1.3388 - accuracy: 0.5182 - val_loss: 1.3687 - val_accuracy: 0.5212\n",
            "Epoch 15/100\n",
            "372/372 [==============================] - 14s 37ms/step - loss: 1.3230 - accuracy: 0.5214 - val_loss: 1.3579 - val_accuracy: 0.5279\n",
            "Epoch 16/100\n",
            "372/372 [==============================] - 14s 38ms/step - loss: 1.3045 - accuracy: 0.5318 - val_loss: 1.3446 - val_accuracy: 0.5393\n",
            "Epoch 17/100\n",
            "372/372 [==============================] - 14s 37ms/step - loss: 1.2865 - accuracy: 0.5357 - val_loss: 1.3278 - val_accuracy: 0.5373\n",
            "Epoch 18/100\n",
            "372/372 [==============================] - 14s 38ms/step - loss: 1.2711 - accuracy: 0.5426 - val_loss: 1.3226 - val_accuracy: 0.5400\n",
            "Epoch 19/100\n",
            "372/372 [==============================] - 14s 37ms/step - loss: 1.2548 - accuracy: 0.5518 - val_loss: 1.3155 - val_accuracy: 0.5487\n",
            "Epoch 20/100\n",
            "372/372 [==============================] - 14s 38ms/step - loss: 1.2394 - accuracy: 0.5570 - val_loss: 1.2999 - val_accuracy: 0.5433\n",
            "Epoch 21/100\n",
            "372/372 [==============================] - 14s 38ms/step - loss: 1.2257 - accuracy: 0.5643 - val_loss: 1.2906 - val_accuracy: 0.5567\n",
            "Epoch 22/100\n",
            "372/372 [==============================] - 14s 38ms/step - loss: 1.2120 - accuracy: 0.5692 - val_loss: 1.2802 - val_accuracy: 0.5534\n",
            "Epoch 23/100\n",
            "372/372 [==============================] - 14s 37ms/step - loss: 1.1936 - accuracy: 0.5796 - val_loss: 1.2713 - val_accuracy: 0.5615\n",
            "Epoch 24/100\n",
            "372/372 [==============================] - 14s 38ms/step - loss: 1.1798 - accuracy: 0.5864 - val_loss: 1.2630 - val_accuracy: 0.5561\n",
            "Epoch 25/100\n",
            "372/372 [==============================] - 14s 38ms/step - loss: 1.1678 - accuracy: 0.5905 - val_loss: 1.2507 - val_accuracy: 0.5588\n",
            "Epoch 26/100\n",
            "372/372 [==============================] - 14s 38ms/step - loss: 1.1504 - accuracy: 0.5957 - val_loss: 1.2466 - val_accuracy: 0.5648\n",
            "Epoch 27/100\n",
            "372/372 [==============================] - 14s 37ms/step - loss: 1.1385 - accuracy: 0.6045 - val_loss: 1.2420 - val_accuracy: 0.5675\n",
            "Epoch 28/100\n",
            "372/372 [==============================] - 14s 37ms/step - loss: 1.1210 - accuracy: 0.6117 - val_loss: 1.2323 - val_accuracy: 0.5769\n",
            "Epoch 29/100\n",
            "372/372 [==============================] - 14s 38ms/step - loss: 1.1071 - accuracy: 0.6156 - val_loss: 1.2200 - val_accuracy: 0.5776\n",
            "Epoch 30/100\n",
            "372/372 [==============================] - 14s 37ms/step - loss: 1.0977 - accuracy: 0.6186 - val_loss: 1.2159 - val_accuracy: 0.5749\n",
            "Epoch 31/100\n",
            "372/372 [==============================] - 14s 38ms/step - loss: 1.0895 - accuracy: 0.6213 - val_loss: 1.2111 - val_accuracy: 0.5816\n",
            "Epoch 32/100\n",
            "372/372 [==============================] - 14s 38ms/step - loss: 1.0733 - accuracy: 0.6350 - val_loss: 1.1977 - val_accuracy: 0.5803\n",
            "Epoch 33/100\n",
            "372/372 [==============================] - 14s 37ms/step - loss: 1.0558 - accuracy: 0.6388 - val_loss: 1.1935 - val_accuracy: 0.5796\n",
            "Epoch 34/100\n",
            "372/372 [==============================] - 14s 38ms/step - loss: 1.0464 - accuracy: 0.6425 - val_loss: 1.1973 - val_accuracy: 0.5836\n",
            "Epoch 35/100\n",
            "372/372 [==============================] - 14s 37ms/step - loss: 1.0356 - accuracy: 0.6457 - val_loss: 1.1791 - val_accuracy: 0.5903\n",
            "Epoch 36/100\n",
            "372/372 [==============================] - 14s 38ms/step - loss: 1.0200 - accuracy: 0.6510 - val_loss: 1.1787 - val_accuracy: 0.5876\n",
            "Epoch 37/100\n",
            "372/372 [==============================] - 14s 37ms/step - loss: 1.0071 - accuracy: 0.6617 - val_loss: 1.1758 - val_accuracy: 0.5910\n",
            "Epoch 38/100\n",
            "372/372 [==============================] - 14s 37ms/step - loss: 1.0007 - accuracy: 0.6627 - val_loss: 1.1704 - val_accuracy: 0.5937\n",
            "Epoch 39/100\n",
            "372/372 [==============================] - 14s 38ms/step - loss: 0.9905 - accuracy: 0.6643 - val_loss: 1.1641 - val_accuracy: 0.6058\n",
            "Epoch 40/100\n",
            "372/372 [==============================] - 14s 37ms/step - loss: 0.9741 - accuracy: 0.6764 - val_loss: 1.1617 - val_accuracy: 0.6091\n",
            "Epoch 41/100\n",
            "372/372 [==============================] - 14s 38ms/step - loss: 0.9639 - accuracy: 0.6767 - val_loss: 1.1558 - val_accuracy: 0.6017\n",
            "Epoch 42/100\n",
            "372/372 [==============================] - 14s 37ms/step - loss: 0.9541 - accuracy: 0.6786 - val_loss: 1.1486 - val_accuracy: 0.6051\n",
            "Epoch 43/100\n",
            "372/372 [==============================] - 14s 37ms/step - loss: 0.9442 - accuracy: 0.6839 - val_loss: 1.1418 - val_accuracy: 0.6038\n",
            "Epoch 44/100\n",
            "372/372 [==============================] - 14s 37ms/step - loss: 0.9372 - accuracy: 0.6896 - val_loss: 1.1415 - val_accuracy: 0.6024\n",
            "Epoch 45/100\n",
            "372/372 [==============================] - 14s 37ms/step - loss: 0.9255 - accuracy: 0.6919 - val_loss: 1.1371 - val_accuracy: 0.6038\n",
            "Epoch 46/100\n",
            "372/372 [==============================] - 14s 38ms/step - loss: 0.9125 - accuracy: 0.6966 - val_loss: 1.1343 - val_accuracy: 0.6044\n",
            "Epoch 47/100\n",
            "372/372 [==============================] - 14s 38ms/step - loss: 0.9040 - accuracy: 0.7044 - val_loss: 1.1249 - val_accuracy: 0.6031\n",
            "Epoch 48/100\n",
            "372/372 [==============================] - 14s 38ms/step - loss: 0.8952 - accuracy: 0.7035 - val_loss: 1.1274 - val_accuracy: 0.6132\n",
            "Epoch 49/100\n",
            "372/372 [==============================] - 14s 38ms/step - loss: 0.8874 - accuracy: 0.7080 - val_loss: 1.1249 - val_accuracy: 0.6158\n",
            "Epoch 50/100\n",
            "372/372 [==============================] - 14s 37ms/step - loss: 0.8790 - accuracy: 0.7112 - val_loss: 1.1150 - val_accuracy: 0.6064\n",
            "Epoch 51/100\n",
            "372/372 [==============================] - 14s 37ms/step - loss: 0.8681 - accuracy: 0.7154 - val_loss: 1.1206 - val_accuracy: 0.6118\n",
            "Epoch 52/100\n",
            "372/372 [==============================] - 14s 38ms/step - loss: 0.8526 - accuracy: 0.7256 - val_loss: 1.1181 - val_accuracy: 0.6125\n",
            "Epoch 53/100\n",
            "372/372 [==============================] - 14s 38ms/step - loss: 0.8465 - accuracy: 0.7232 - val_loss: 1.1085 - val_accuracy: 0.6138\n",
            "Epoch 54/100\n",
            "372/372 [==============================] - 14s 37ms/step - loss: 0.8329 - accuracy: 0.7309 - val_loss: 1.1081 - val_accuracy: 0.6206\n",
            "Epoch 55/100\n",
            "372/372 [==============================] - 14s 38ms/step - loss: 0.8274 - accuracy: 0.7338 - val_loss: 1.1091 - val_accuracy: 0.6138\n",
            "Epoch 56/100\n",
            "372/372 [==============================] - 14s 37ms/step - loss: 0.8231 - accuracy: 0.7350 - val_loss: 1.0990 - val_accuracy: 0.6132\n",
            "Epoch 57/100\n",
            "372/372 [==============================] - 14s 38ms/step - loss: 0.8115 - accuracy: 0.7416 - val_loss: 1.0962 - val_accuracy: 0.6206\n",
            "Epoch 58/100\n",
            "372/372 [==============================] - 14s 37ms/step - loss: 0.8054 - accuracy: 0.7397 - val_loss: 1.0894 - val_accuracy: 0.6138\n",
            "Epoch 59/100\n",
            "372/372 [==============================] - 14s 37ms/step - loss: 0.7970 - accuracy: 0.7428 - val_loss: 1.0916 - val_accuracy: 0.6172\n",
            "Epoch 60/100\n",
            "372/372 [==============================] - 14s 37ms/step - loss: 0.7857 - accuracy: 0.7511 - val_loss: 1.0896 - val_accuracy: 0.6212\n",
            "Epoch 61/100\n",
            "372/372 [==============================] - 14s 38ms/step - loss: 0.7777 - accuracy: 0.7544 - val_loss: 1.0890 - val_accuracy: 0.6152\n",
            "Epoch 62/100\n",
            "372/372 [==============================] - 14s 37ms/step - loss: 0.7690 - accuracy: 0.7530 - val_loss: 1.0845 - val_accuracy: 0.6246\n",
            "Epoch 63/100\n",
            "372/372 [==============================] - 14s 37ms/step - loss: 0.7625 - accuracy: 0.7603 - val_loss: 1.0793 - val_accuracy: 0.6192\n",
            "Epoch 64/100\n",
            "372/372 [==============================] - 14s 37ms/step - loss: 0.7586 - accuracy: 0.7579 - val_loss: 1.0808 - val_accuracy: 0.6232\n",
            "Epoch 65/100\n",
            "372/372 [==============================] - 14s 38ms/step - loss: 0.7421 - accuracy: 0.7686 - val_loss: 1.0773 - val_accuracy: 0.6226\n",
            "Epoch 66/100\n",
            "372/372 [==============================] - 14s 37ms/step - loss: 0.7379 - accuracy: 0.7702 - val_loss: 1.0719 - val_accuracy: 0.6212\n",
            "Epoch 67/100\n",
            "372/372 [==============================] - 14s 38ms/step - loss: 0.7322 - accuracy: 0.7650 - val_loss: 1.0784 - val_accuracy: 0.6219\n",
            "Epoch 68/100\n",
            "372/372 [==============================] - 14s 37ms/step - loss: 0.7266 - accuracy: 0.7734 - val_loss: 1.0728 - val_accuracy: 0.6266\n",
            "Epoch 69/100\n",
            "372/372 [==============================] - 14s 37ms/step - loss: 0.7211 - accuracy: 0.7727 - val_loss: 1.0742 - val_accuracy: 0.6266\n",
            "Epoch 70/100\n",
            "372/372 [==============================] - 14s 39ms/step - loss: 0.7119 - accuracy: 0.7742 - val_loss: 1.0666 - val_accuracy: 0.6212\n",
            "Epoch 71/100\n",
            "372/372 [==============================] - 14s 37ms/step - loss: 0.7007 - accuracy: 0.7802 - val_loss: 1.0659 - val_accuracy: 0.6212\n",
            "Epoch 72/100\n",
            "372/372 [==============================] - 14s 37ms/step - loss: 0.6989 - accuracy: 0.7810 - val_loss: 1.0648 - val_accuracy: 0.6259\n",
            "Epoch 73/100\n",
            "372/372 [==============================] - 14s 39ms/step - loss: 0.6928 - accuracy: 0.7861 - val_loss: 1.0633 - val_accuracy: 0.6206\n",
            "Epoch 74/100\n",
            "372/372 [==============================] - 14s 37ms/step - loss: 0.6839 - accuracy: 0.7876 - val_loss: 1.0644 - val_accuracy: 0.6226\n",
            "Epoch 75/100\n",
            "372/372 [==============================] - 14s 38ms/step - loss: 0.6728 - accuracy: 0.7929 - val_loss: 1.0649 - val_accuracy: 0.6273\n",
            "Epoch 76/100\n",
            "372/372 [==============================] - 14s 37ms/step - loss: 0.6738 - accuracy: 0.7927 - val_loss: 1.0578 - val_accuracy: 0.6293\n",
            "Epoch 77/100\n",
            "372/372 [==============================] - 14s 39ms/step - loss: 0.6617 - accuracy: 0.7986 - val_loss: 1.0604 - val_accuracy: 0.6306\n",
            "Epoch 78/100\n",
            "372/372 [==============================] - 14s 38ms/step - loss: 0.6513 - accuracy: 0.7991 - val_loss: 1.0577 - val_accuracy: 0.6259\n",
            "Epoch 79/100\n",
            "372/372 [==============================] - 14s 37ms/step - loss: 0.6496 - accuracy: 0.7994 - val_loss: 1.0572 - val_accuracy: 0.6293\n",
            "Epoch 80/100\n",
            "372/372 [==============================] - 14s 37ms/step - loss: 0.6400 - accuracy: 0.8070 - val_loss: 1.0572 - val_accuracy: 0.6219\n",
            "Epoch 81/100\n",
            "372/372 [==============================] - 14s 38ms/step - loss: 0.6349 - accuracy: 0.8069 - val_loss: 1.0603 - val_accuracy: 0.6266\n",
            "Epoch 82/100\n",
            "372/372 [==============================] - 14s 37ms/step - loss: 0.6324 - accuracy: 0.8066 - val_loss: 1.0514 - val_accuracy: 0.6300\n",
            "Epoch 83/100\n",
            "372/372 [==============================] - 14s 37ms/step - loss: 0.6272 - accuracy: 0.8090 - val_loss: 1.0593 - val_accuracy: 0.6353\n",
            "Epoch 84/100\n",
            "372/372 [==============================] - 14s 38ms/step - loss: 0.6139 - accuracy: 0.8132 - val_loss: 1.0534 - val_accuracy: 0.6333\n",
            "Epoch 85/100\n",
            "372/372 [==============================] - 14s 37ms/step - loss: 0.6106 - accuracy: 0.8151 - val_loss: 1.0521 - val_accuracy: 0.6313\n",
            "Epoch 86/100\n",
            "372/372 [==============================] - 14s 39ms/step - loss: 0.6044 - accuracy: 0.8158 - val_loss: 1.0553 - val_accuracy: 0.6300\n",
            "Epoch 87/100\n",
            "372/372 [==============================] - 14s 37ms/step - loss: 0.5957 - accuracy: 0.8223 - val_loss: 1.0499 - val_accuracy: 0.6353\n",
            "Epoch 88/100\n",
            "372/372 [==============================] - 14s 39ms/step - loss: 0.5925 - accuracy: 0.8204 - val_loss: 1.0522 - val_accuracy: 0.6360\n",
            "Epoch 89/100\n",
            "372/372 [==============================] - 14s 37ms/step - loss: 0.5844 - accuracy: 0.8238 - val_loss: 1.0497 - val_accuracy: 0.6333\n",
            "Epoch 90/100\n",
            "372/372 [==============================] - 14s 38ms/step - loss: 0.5802 - accuracy: 0.8264 - val_loss: 1.0435 - val_accuracy: 0.6360\n",
            "Epoch 91/100\n",
            "372/372 [==============================] - 14s 37ms/step - loss: 0.5779 - accuracy: 0.8314 - val_loss: 1.0519 - val_accuracy: 0.6380\n",
            "Epoch 92/100\n",
            "372/372 [==============================] - 14s 37ms/step - loss: 0.5698 - accuracy: 0.8275 - val_loss: 1.0452 - val_accuracy: 0.6367\n",
            "Epoch 93/100\n",
            "372/372 [==============================] - 14s 39ms/step - loss: 0.5658 - accuracy: 0.8343 - val_loss: 1.0499 - val_accuracy: 0.6360\n",
            "Epoch 94/100\n",
            "372/372 [==============================] - 14s 37ms/step - loss: 0.5586 - accuracy: 0.8290 - val_loss: 1.0488 - val_accuracy: 0.6367\n",
            "Epoch 95/100\n",
            "372/372 [==============================] - 14s 37ms/step - loss: 0.5520 - accuracy: 0.8337 - val_loss: 1.0448 - val_accuracy: 0.6373\n",
            "47/47 [==============================] - 0s 9ms/step - loss: 1.0438 - accuracy: 0.6364\n",
            "Loss: 1.04, Accuracy: 0.64\n"
          ]
        }
      ],
      "source": [
        "model.fit([text_train, image_train], emotion_train, epochs=EPOCH, validation_data=([text_val, image_val], emotion_val), callbacks=[checkpoint_callback, early_stopping_callback])\n",
        "\n",
        "evaluation_results = model.evaluate([text_test, image_test], emotion_test)\n",
        "print(f\"Loss: {round(evaluation_results[0], 2)}, Accuracy: {round(evaluation_results[1], 2)}\")"
      ]
    },
    {
      "cell_type": "markdown",
      "metadata": {
        "id": "PgmRMdhJ_b-7"
      },
      "source": [
        "loss 1.04 e accuracy 64%"
      ]
    },
    {
      "cell_type": "markdown",
      "metadata": {
        "id": "ljIEAKMRRuRL"
      },
      "source": [
        "## Quinta prova\n",
        "In questo test, cerchiamo di migliorare il preprocessing del testo."
      ]
    },
    {
      "cell_type": "code",
      "execution_count": null,
      "metadata": {
        "id": "CkxIEi09RtAP"
      },
      "outputs": [],
      "source": [
        "def lowerize(data):\n",
        "  return list(map(lambda x: x.lower(), data))\n",
        "\n",
        "def remove_special_chars(data):\n",
        "  return list(map(lambda x: x.replace('|'.join([re.escape(c) for c in list(\"#%&*/:\\^_{|}~\")]), \"\"), data))\n",
        "\n",
        "def convert_emojis(data):\n",
        "  return list(map(lambda x: emoji.demojize(x), data))\n",
        "\n",
        "def split_contractions(data):\n",
        "  return list(map(lambda x: contractions.fix(x), data))\n",
        "\n",
        "text_processor = TextPreProcessor(normalize= ['money', 'user', 'time', 'date', 'number', 'phone'],\n",
        "                                  annotate={\"elongated\", \"repeated\", 'emphasis', 'censored'},\n",
        "                                  fix_html=True, tokenizer=SocialTokenizer(lowercase=True).tokenize,\n",
        "                                  segmenter=\"twitter\", corrector=\"twitter\", unpack_contractions=False,\n",
        "                                  spell_correct_elong=True, spell_correction=True, fix_text=True,\n",
        "                                  dicts=[emoticons])\n",
        "\n",
        "def df_preprocessing(df_pre):\n",
        "  df_pre = lowerize(df_pre)\n",
        "  df_pre = convert_emojis(df_pre)\n",
        "  df_pre = split_contractions(df_pre)\n",
        "  df_pre = list(map(lambda x: ' '.join(text_processor.pre_process_doc(x)).strip(), df_pre))\n",
        "  df_pre = remove_special_chars(df_pre)\n",
        "  return df_pre"
      ]
    },
    {
      "cell_type": "code",
      "execution_count": 12,
      "metadata": {
        "id": "uGjZImmeT73F"
      },
      "outputs": [],
      "source": [
        "texts = [entry['text'] for entry in data]\n",
        "images = np.array([entry['image_data'] for entry in data])\n",
        "norm_images = images / 255\n",
        "emotions = [entry['emotion'] for entry in data]\n",
        "\n",
        "texts = df_preprocessing(texts)\n",
        "\n",
        "max_words = 20000\n",
        "tokenizer = Tokenizer(num_words=max_words, oov_token='<OOV>')\n",
        "tokenizer.fit_on_texts(texts)\n",
        "text_sequences = tokenizer.texts_to_sequences(texts)\n",
        "text_padded = pad_sequences(text_sequences, padding='post')\n",
        "label_encoder = LabelEncoder()\n",
        "encoded_emotions = label_encoder.fit_transform(emotions)\n",
        "categorical_emotions = tf.keras.utils.to_categorical(encoded_emotions, num_classes=len(label_encoder.classes_))\n",
        "\n",
        "text_train, text_test_temp, image_train, image_test_temp, emotion_train, emotion_test_temp = train_test_split(\n",
        "    text_padded, norm_images, categorical_emotions, test_size=0.2, random_state=42\n",
        ")\n",
        "\n",
        "text_test, text_val, image_test, image_val, emotion_test, emotion_val = train_test_split(\n",
        "    text_test_temp, image_test_temp, emotion_test_temp, test_size=0.2, random_state=42\n",
        ")"
      ]
    },
    {
      "cell_type": "code",
      "execution_count": 27,
      "metadata": {
        "colab": {
          "base_uri": "https://localhost:8080/"
        },
        "id": "52jtX_h7mUyZ",
        "outputId": "970f4434-4b50-42b0-a5ba-0422171da77d"
      },
      "outputs": [
        {
          "name": "stdout",
          "output_type": "stream",
          "text": [
            "Model: \"model_3\"\n",
            "__________________________________________________________________________________________________\n",
            " Layer (type)                Output Shape                 Param #   Connected to                  \n",
            "==================================================================================================\n",
            " input_8 (InputLayer)        [(None, 48, 48, 1)]          0         []                            \n",
            "                                                                                                  \n",
            " input_7 (InputLayer)        [(None, 84)]                 0         []                            \n",
            "                                                                                                  \n",
            " conv2d_1 (Conv2D)           (None, 46, 46, 24)           240       ['input_8[0][0]']             \n",
            "                                                                                                  \n",
            " embedding_1 (Embedding)     (None, 84, 8)                160000    ['input_7[0][0]']             \n",
            "                                                                                                  \n",
            " max_pooling2d_1 (MaxPoolin  (None, 23, 23, 24)           0         ['conv2d_1[0][0]']            \n",
            " g2D)                                                                                             \n",
            "                                                                                                  \n",
            " flatten_4 (Flatten)         (None, 672)                  0         ['embedding_1[0][0]']         \n",
            "                                                                                                  \n",
            " flatten_5 (Flatten)         (None, 12696)                0         ['max_pooling2d_1[0][0]']     \n",
            "                                                                                                  \n",
            " concatenate_3 (Concatenate  (None, 13368)                0         ['flatten_4[0][0]',           \n",
            " )                                                                   'flatten_5[0][0]']           \n",
            "                                                                                                  \n",
            " dropout_3 (Dropout)         (None, 13368)                0         ['concatenate_3[0][0]']       \n",
            "                                                                                                  \n",
            " dense_9 (Dense)             (None, 7)                    93583     ['dropout_3[0][0]']           \n",
            "                                                                                                  \n",
            "==================================================================================================\n",
            "Total params: 253823 (991.50 KB)\n",
            "Trainable params: 253823 (991.50 KB)\n",
            "Non-trainable params: 0 (0.00 Byte)\n",
            "__________________________________________________________________________________________________\n"
          ]
        }
      ],
      "source": [
        "text_input = layers.Input(shape=text_padded.shape[1], dtype=tf.int32)\n",
        "embedding_layer = layers.Embedding(input_dim=max_words, output_dim=8, input_length=text_padded.shape[1])(text_input)\n",
        "text_flatten = layers.Flatten()(embedding_layer)\n",
        "\n",
        "image_input = layers.Input(shape=(48, 48, 1))\n",
        "conv_layer = layers.Conv2D(24, (3, 3), activation='relu')(image_input)\n",
        "pooling_layer = layers.MaxPooling2D((2, 2))(conv_layer)\n",
        "image_flatten = layers.Flatten()(pooling_layer)\n",
        "\n",
        "concatenated = layers.Concatenate()([text_flatten, image_flatten])\n",
        "dropout_layer = layers.Dropout(0.5)(concatenated)\n",
        "output_layer = layers.Dense(len(label_encoder.classes_), activation='softmax')(dropout_layer)\n",
        "\n",
        "optimizer = Adam(learning_rate=0.0001)\n",
        "model = models.Model(inputs=[text_input, image_input], outputs=output_layer)\n",
        "model.compile(optimizer=optimizer, loss='categorical_crossentropy', metrics=['accuracy'])\n",
        "model.summary()"
      ]
    },
    {
      "cell_type": "code",
      "execution_count": 28,
      "metadata": {
        "colab": {
          "base_uri": "https://localhost:8080/"
        },
        "id": "08d7_l3TmYsX",
        "outputId": "23ccaaf8-3400-4d88-d9d3-ed18d9c19a90"
      },
      "outputs": [
        {
          "name": "stdout",
          "output_type": "stream",
          "text": [
            "Epoch 1/100\n",
            "638/638 [==============================] - 22s 29ms/step - loss: 1.6862 - accuracy: 0.3094 - val_loss: 1.6211 - val_accuracy: 0.3634\n",
            "Epoch 2/100\n",
            "638/638 [==============================] - 4s 6ms/step - loss: 1.5878 - accuracy: 0.3888 - val_loss: 1.5590 - val_accuracy: 0.4221\n",
            "Epoch 3/100\n",
            "638/638 [==============================] - 5s 7ms/step - loss: 1.5313 - accuracy: 0.4246 - val_loss: 1.5126 - val_accuracy: 0.4584\n",
            "Epoch 4/100\n",
            "638/638 [==============================] - 4s 6ms/step - loss: 1.4889 - accuracy: 0.4496 - val_loss: 1.4819 - val_accuracy: 0.4691\n",
            "Epoch 5/100\n",
            " 17/638 [..............................] - ETA: 3s - loss: 1.4888 - accuracy: 0.4430"
          ]
        },
        {
          "name": "stderr",
          "output_type": "stream",
          "text": [
            "/usr/local/lib/python3.10/dist-packages/keras/src/engine/training.py:3103: UserWarning: You are saving your model as an HDF5 file via `model.save()`. This file format is considered legacy. We recommend using instead the native Keras format, e.g. `model.save('my_model.keras')`.\n",
            "  saving_api.save_model(\n"
          ]
        },
        {
          "name": "stdout",
          "output_type": "stream",
          "text": [
            "638/638 [==============================] - 6s 10ms/step - loss: 1.4536 - accuracy: 0.4669 - val_loss: 1.4543 - val_accuracy: 0.4838\n",
            "Epoch 6/100\n",
            "638/638 [==============================] - 6s 9ms/step - loss: 1.4237 - accuracy: 0.4816 - val_loss: 1.4210 - val_accuracy: 0.4927\n",
            "Epoch 7/100\n",
            "638/638 [==============================] - 4s 6ms/step - loss: 1.3912 - accuracy: 0.4955 - val_loss: 1.4001 - val_accuracy: 0.4946\n",
            "Epoch 8/100\n",
            "638/638 [==============================] - 6s 10ms/step - loss: 1.3641 - accuracy: 0.5042 - val_loss: 1.3798 - val_accuracy: 0.5122\n",
            "Epoch 9/100\n",
            "638/638 [==============================] - 3s 5ms/step - loss: 1.3379 - accuracy: 0.5202 - val_loss: 1.3522 - val_accuracy: 0.5191\n",
            "Epoch 10/100\n",
            "638/638 [==============================] - 3s 5ms/step - loss: 1.3143 - accuracy: 0.5280 - val_loss: 1.3341 - val_accuracy: 0.5348\n",
            "Epoch 11/100\n",
            "638/638 [==============================] - 3s 4ms/step - loss: 1.2902 - accuracy: 0.5387 - val_loss: 1.3165 - val_accuracy: 0.5387\n",
            "Epoch 12/100\n",
            "638/638 [==============================] - 4s 7ms/step - loss: 1.2708 - accuracy: 0.5466 - val_loss: 1.2963 - val_accuracy: 0.5455\n",
            "Epoch 13/100\n",
            "638/638 [==============================] - 3s 5ms/step - loss: 1.2494 - accuracy: 0.5557 - val_loss: 1.2908 - val_accuracy: 0.5475\n",
            "Epoch 14/100\n",
            "638/638 [==============================] - 3s 5ms/step - loss: 1.2313 - accuracy: 0.5607 - val_loss: 1.2665 - val_accuracy: 0.5563\n",
            "Epoch 15/100\n",
            "638/638 [==============================] - 3s 4ms/step - loss: 1.2098 - accuracy: 0.5716 - val_loss: 1.2510 - val_accuracy: 0.5622\n",
            "Epoch 16/100\n",
            "638/638 [==============================] - 4s 7ms/step - loss: 1.1947 - accuracy: 0.5748 - val_loss: 1.2355 - val_accuracy: 0.5651\n",
            "Epoch 17/100\n",
            "638/638 [==============================] - 3s 4ms/step - loss: 1.1748 - accuracy: 0.5871 - val_loss: 1.2265 - val_accuracy: 0.5779\n",
            "Epoch 18/100\n",
            "638/638 [==============================] - 2s 4ms/step - loss: 1.1603 - accuracy: 0.5895 - val_loss: 1.2148 - val_accuracy: 0.5739\n",
            "Epoch 19/100\n",
            "638/638 [==============================] - 3s 4ms/step - loss: 1.1458 - accuracy: 0.5951 - val_loss: 1.2012 - val_accuracy: 0.5818\n",
            "Epoch 20/100\n",
            "638/638 [==============================] - 3s 5ms/step - loss: 1.1312 - accuracy: 0.6013 - val_loss: 1.1932 - val_accuracy: 0.5867\n",
            "Epoch 21/100\n",
            "638/638 [==============================] - 4s 6ms/step - loss: 1.1144 - accuracy: 0.6045 - val_loss: 1.1820 - val_accuracy: 0.5867\n",
            "Epoch 22/100\n",
            "638/638 [==============================] - 3s 4ms/step - loss: 1.1010 - accuracy: 0.6136 - val_loss: 1.1770 - val_accuracy: 0.5886\n",
            "Epoch 23/100\n",
            "638/638 [==============================] - 3s 4ms/step - loss: 1.0885 - accuracy: 0.6175 - val_loss: 1.1652 - val_accuracy: 0.5935\n",
            "Epoch 24/100\n",
            "638/638 [==============================] - 3s 4ms/step - loss: 1.0734 - accuracy: 0.6240 - val_loss: 1.1598 - val_accuracy: 0.5945\n",
            "Epoch 25/100\n",
            "638/638 [==============================] - 4s 6ms/step - loss: 1.0660 - accuracy: 0.6293 - val_loss: 1.1428 - val_accuracy: 0.5975\n",
            "Epoch 26/100\n",
            "638/638 [==============================] - 3s 4ms/step - loss: 1.0494 - accuracy: 0.6327 - val_loss: 1.1332 - val_accuracy: 0.6024\n",
            "Epoch 27/100\n",
            "638/638 [==============================] - 3s 4ms/step - loss: 1.0398 - accuracy: 0.6364 - val_loss: 1.1308 - val_accuracy: 0.6043\n",
            "Epoch 28/100\n",
            "638/638 [==============================] - 3s 4ms/step - loss: 1.0260 - accuracy: 0.6434 - val_loss: 1.1207 - val_accuracy: 0.6102\n",
            "Epoch 29/100\n",
            "638/638 [==============================] - 3s 5ms/step - loss: 1.0130 - accuracy: 0.6533 - val_loss: 1.1141 - val_accuracy: 0.6121\n",
            "Epoch 30/100\n",
            "638/638 [==============================] - 3s 5ms/step - loss: 1.0059 - accuracy: 0.6514 - val_loss: 1.1110 - val_accuracy: 0.6170\n",
            "Epoch 31/100\n",
            "638/638 [==============================] - 3s 4ms/step - loss: 0.9936 - accuracy: 0.6557 - val_loss: 1.0996 - val_accuracy: 0.6259\n",
            "Epoch 32/100\n",
            "638/638 [==============================] - 3s 4ms/step - loss: 0.9793 - accuracy: 0.6649 - val_loss: 1.0988 - val_accuracy: 0.6298\n",
            "Epoch 33/100\n",
            "638/638 [==============================] - 3s 4ms/step - loss: 0.9736 - accuracy: 0.6636 - val_loss: 1.0878 - val_accuracy: 0.6268\n",
            "Epoch 34/100\n",
            "638/638 [==============================] - 4s 6ms/step - loss: 0.9624 - accuracy: 0.6684 - val_loss: 1.0845 - val_accuracy: 0.6366\n",
            "Epoch 35/100\n",
            "638/638 [==============================] - 3s 4ms/step - loss: 0.9515 - accuracy: 0.6717 - val_loss: 1.0813 - val_accuracy: 0.6317\n",
            "Epoch 36/100\n",
            "638/638 [==============================] - 3s 4ms/step - loss: 0.9447 - accuracy: 0.6740 - val_loss: 1.0733 - val_accuracy: 0.6357\n",
            "Epoch 37/100\n",
            "638/638 [==============================] - 3s 4ms/step - loss: 0.9339 - accuracy: 0.6786 - val_loss: 1.0672 - val_accuracy: 0.6357\n",
            "Epoch 38/100\n",
            "638/638 [==============================] - 3s 5ms/step - loss: 0.9274 - accuracy: 0.6835 - val_loss: 1.0660 - val_accuracy: 0.6366\n",
            "Epoch 39/100\n",
            "638/638 [==============================] - 3s 5ms/step - loss: 0.9173 - accuracy: 0.6873 - val_loss: 1.0627 - val_accuracy: 0.6386\n",
            "Epoch 40/100\n",
            "638/638 [==============================] - 3s 4ms/step - loss: 0.9074 - accuracy: 0.6922 - val_loss: 1.0570 - val_accuracy: 0.6435\n",
            "Epoch 41/100\n",
            "638/638 [==============================] - 3s 4ms/step - loss: 0.8956 - accuracy: 0.6975 - val_loss: 1.0502 - val_accuracy: 0.6454\n",
            "Epoch 42/100\n",
            "638/638 [==============================] - 3s 5ms/step - loss: 0.8907 - accuracy: 0.6974 - val_loss: 1.0470 - val_accuracy: 0.6435\n",
            "Epoch 43/100\n",
            "638/638 [==============================] - 3s 5ms/step - loss: 0.8815 - accuracy: 0.7014 - val_loss: 1.0467 - val_accuracy: 0.6513\n",
            "Epoch 44/100\n",
            "638/638 [==============================] - 3s 4ms/step - loss: 0.8729 - accuracy: 0.7026 - val_loss: 1.0373 - val_accuracy: 0.6445\n",
            "Epoch 45/100\n",
            "638/638 [==============================] - 3s 4ms/step - loss: 0.8643 - accuracy: 0.7103 - val_loss: 1.0348 - val_accuracy: 0.6533\n",
            "Epoch 46/100\n",
            "638/638 [==============================] - 2s 4ms/step - loss: 0.8562 - accuracy: 0.7123 - val_loss: 1.0346 - val_accuracy: 0.6445\n",
            "Epoch 47/100\n",
            "638/638 [==============================] - 3s 5ms/step - loss: 0.8469 - accuracy: 0.7130 - val_loss: 1.0349 - val_accuracy: 0.6454\n",
            "Epoch 48/100\n",
            "638/638 [==============================] - 3s 4ms/step - loss: 0.8404 - accuracy: 0.7175 - val_loss: 1.0342 - val_accuracy: 0.6445\n",
            "Epoch 49/100\n",
            "638/638 [==============================] - 3s 4ms/step - loss: 0.8273 - accuracy: 0.7214 - val_loss: 1.0246 - val_accuracy: 0.6474\n",
            "Epoch 50/100\n",
            "638/638 [==============================] - 3s 4ms/step - loss: 0.8262 - accuracy: 0.7214 - val_loss: 1.0209 - val_accuracy: 0.6592\n",
            "Epoch 51/100\n",
            "638/638 [==============================] - 3s 4ms/step - loss: 0.8204 - accuracy: 0.7251 - val_loss: 1.0186 - val_accuracy: 0.6513\n",
            "Epoch 52/100\n",
            "638/638 [==============================] - 3s 5ms/step - loss: 0.8063 - accuracy: 0.7310 - val_loss: 1.0168 - val_accuracy: 0.6523\n",
            "Epoch 53/100\n",
            "638/638 [==============================] - 3s 4ms/step - loss: 0.8092 - accuracy: 0.7299 - val_loss: 1.0153 - val_accuracy: 0.6562\n",
            "Epoch 54/100\n",
            "638/638 [==============================] - 3s 4ms/step - loss: 0.7982 - accuracy: 0.7325 - val_loss: 1.0114 - val_accuracy: 0.6552\n",
            "Epoch 55/100\n",
            "638/638 [==============================] - 3s 4ms/step - loss: 0.7881 - accuracy: 0.7364 - val_loss: 1.0108 - val_accuracy: 0.6592\n",
            "Epoch 56/100\n",
            "638/638 [==============================] - 3s 5ms/step - loss: 0.7857 - accuracy: 0.7365 - val_loss: 1.0076 - val_accuracy: 0.6650\n",
            "Epoch 57/100\n",
            "638/638 [==============================] - 3s 5ms/step - loss: 0.7816 - accuracy: 0.7396 - val_loss: 1.0101 - val_accuracy: 0.6572\n",
            "Epoch 58/100\n",
            "638/638 [==============================] - 3s 4ms/step - loss: 0.7701 - accuracy: 0.7449 - val_loss: 1.0069 - val_accuracy: 0.6650\n",
            "Epoch 59/100\n",
            "638/638 [==============================] - 3s 4ms/step - loss: 0.7659 - accuracy: 0.7450 - val_loss: 1.0011 - val_accuracy: 0.6592\n",
            "Epoch 60/100\n",
            "638/638 [==============================] - 3s 4ms/step - loss: 0.7519 - accuracy: 0.7500 - val_loss: 1.0033 - val_accuracy: 0.6631\n",
            "Epoch 61/100\n",
            "638/638 [==============================] - 4s 6ms/step - loss: 0.7478 - accuracy: 0.7510 - val_loss: 0.9998 - val_accuracy: 0.6572\n",
            "Epoch 62/100\n",
            "638/638 [==============================] - 3s 4ms/step - loss: 0.7449 - accuracy: 0.7522 - val_loss: 0.9999 - val_accuracy: 0.6641\n",
            "Epoch 63/100\n",
            "638/638 [==============================] - 3s 4ms/step - loss: 0.7353 - accuracy: 0.7569 - val_loss: 1.0001 - val_accuracy: 0.6592\n",
            "Epoch 64/100\n",
            "638/638 [==============================] - 3s 4ms/step - loss: 0.7362 - accuracy: 0.7545 - val_loss: 0.9986 - val_accuracy: 0.6582\n",
            "Epoch 65/100\n",
            "638/638 [==============================] - 3s 4ms/step - loss: 0.7235 - accuracy: 0.7606 - val_loss: 0.9967 - val_accuracy: 0.6533\n",
            "Epoch 66/100\n",
            "638/638 [==============================] - 3s 5ms/step - loss: 0.7171 - accuracy: 0.7600 - val_loss: 0.9993 - val_accuracy: 0.6484\n",
            "Epoch 67/100\n",
            "638/638 [==============================] - 2s 4ms/step - loss: 0.7151 - accuracy: 0.7639 - val_loss: 0.9936 - val_accuracy: 0.6562\n",
            "Epoch 68/100\n",
            "638/638 [==============================] - 3s 4ms/step - loss: 0.7064 - accuracy: 0.7646 - val_loss: 0.9978 - val_accuracy: 0.6484\n",
            "Epoch 69/100\n",
            "638/638 [==============================] - 3s 4ms/step - loss: 0.7019 - accuracy: 0.7691 - val_loss: 0.9941 - val_accuracy: 0.6552\n",
            "Epoch 70/100\n",
            "638/638 [==============================] - 3s 5ms/step - loss: 0.6972 - accuracy: 0.7733 - val_loss: 0.9932 - val_accuracy: 0.6582\n",
            "Epoch 71/100\n",
            "638/638 [==============================] - 3s 4ms/step - loss: 0.6872 - accuracy: 0.7738 - val_loss: 0.9899 - val_accuracy: 0.6523\n",
            "Epoch 72/100\n",
            "638/638 [==============================] - 3s 4ms/step - loss: 0.6862 - accuracy: 0.7732 - val_loss: 0.9904 - val_accuracy: 0.6543\n",
            "Epoch 73/100\n",
            "638/638 [==============================] - 3s 4ms/step - loss: 0.6824 - accuracy: 0.7740 - val_loss: 0.9912 - val_accuracy: 0.6494\n",
            "Epoch 74/100\n",
            "638/638 [==============================] - 3s 4ms/step - loss: 0.6736 - accuracy: 0.7788 - val_loss: 0.9984 - val_accuracy: 0.6503\n",
            "Epoch 75/100\n",
            "638/638 [==============================] - 4s 6ms/step - loss: 0.6675 - accuracy: 0.7812 - val_loss: 0.9916 - val_accuracy: 0.6454\n",
            "Epoch 76/100\n",
            "638/638 [==============================] - 3s 4ms/step - loss: 0.6660 - accuracy: 0.7790 - val_loss: 0.9890 - val_accuracy: 0.6552\n",
            "Epoch 77/100\n",
            "638/638 [==============================] - 3s 4ms/step - loss: 0.6540 - accuracy: 0.7871 - val_loss: 0.9920 - val_accuracy: 0.6523\n",
            "Epoch 78/100\n",
            "638/638 [==============================] - 3s 4ms/step - loss: 0.6493 - accuracy: 0.7865 - val_loss: 0.9916 - val_accuracy: 0.6425\n",
            "Epoch 79/100\n",
            "638/638 [==============================] - 3s 5ms/step - loss: 0.6470 - accuracy: 0.7864 - val_loss: 0.9879 - val_accuracy: 0.6445\n",
            "Epoch 80/100\n",
            "638/638 [==============================] - 3s 5ms/step - loss: 0.6469 - accuracy: 0.7867 - val_loss: 0.9850 - val_accuracy: 0.6543\n",
            "Epoch 81/100\n",
            "638/638 [==============================] - 3s 4ms/step - loss: 0.6355 - accuracy: 0.7920 - val_loss: 0.9893 - val_accuracy: 0.6474\n",
            "Epoch 82/100\n",
            "638/638 [==============================] - 3s 4ms/step - loss: 0.6381 - accuracy: 0.7907 - val_loss: 0.9848 - val_accuracy: 0.6474\n",
            "Epoch 83/100\n",
            "638/638 [==============================] - 3s 4ms/step - loss: 0.6318 - accuracy: 0.7937 - val_loss: 0.9857 - val_accuracy: 0.6494\n",
            "Epoch 84/100\n",
            "638/638 [==============================] - 4s 6ms/step - loss: 0.6268 - accuracy: 0.7928 - val_loss: 0.9869 - val_accuracy: 0.6464\n",
            "Epoch 85/100\n",
            "638/638 [==============================] - 3s 4ms/step - loss: 0.6203 - accuracy: 0.7950 - val_loss: 0.9865 - val_accuracy: 0.6513\n",
            "Epoch 86/100\n",
            "638/638 [==============================] - 3s 4ms/step - loss: 0.6149 - accuracy: 0.8015 - val_loss: 0.9862 - val_accuracy: 0.6454\n",
            "Epoch 87/100\n",
            "638/638 [==============================] - 3s 4ms/step - loss: 0.6116 - accuracy: 0.7972 - val_loss: 0.9911 - val_accuracy: 0.6454\n",
            "128/128 [==============================] - 0s 3ms/step - loss: 0.9857 - accuracy: 0.6498\n",
            "Loss: 0.99, Accuracy: 0.65\n"
          ]
        }
      ],
      "source": [
        "model.fit([text_train, image_train], emotion_train, epochs=EPOCH, validation_data=([text_val, image_val], emotion_val), callbacks=[checkpoint_callback, early_stopping_callback])\n",
        "\n",
        "evaluation_results = model.evaluate([text_test, image_test], emotion_test)\n",
        "print(f\"Loss: {round(evaluation_results[0], 2)}, Accuracy: {round(evaluation_results[1], 2)}\")"
      ]
    },
    {
      "cell_type": "markdown",
      "metadata": {
        "id": "ajntLyWg4SG_"
      },
      "source": [
        "Il modello non subisce notevoli cambiamenti, infatti l'accuracy rimane pressoché la stessa."
      ]
    },
    {
      "cell_type": "markdown",
      "metadata": {
        "id": "Bt7ixulY1BQZ"
      },
      "source": [
        "## Sesta prova\n",
        "\n",
        "In questa prova proviamo a migliorare la precisione andando ad aggiungere dei layer Convoluzionali e un layer di normlizzazione."
      ]
    },
    {
      "cell_type": "code",
      "execution_count": 15,
      "metadata": {
        "colab": {
          "base_uri": "https://localhost:8080/"
        },
        "id": "uCPmWKSpKR2R",
        "outputId": "74c81fb3-cf5f-4eaf-8d80-db58ac362c3e"
      },
      "outputs": [
        {
          "name": "stdout",
          "output_type": "stream",
          "text": [
            "Model: \"model_2\"\n",
            "__________________________________________________________________________________________________\n",
            " Layer (type)                Output Shape                 Param #   Connected to                  \n",
            "==================================================================================================\n",
            " input_6 (InputLayer)        [(None, 48, 48, 1)]          0         []                            \n",
            "                                                                                                  \n",
            " conv2d_2 (Conv2D)           (None, 46, 46, 32)           320       ['input_6[0][0]']             \n",
            "                                                                                                  \n",
            " max_pooling2d_2 (MaxPoolin  (None, 23, 23, 32)           0         ['conv2d_2[0][0]']            \n",
            " g2D)                                                                                             \n",
            "                                                                                                  \n",
            " input_5 (InputLayer)        [(None, 84)]                 0         []                            \n",
            "                                                                                                  \n",
            " conv2d_3 (Conv2D)           (None, 21, 21, 24)           6936      ['max_pooling2d_2[0][0]']     \n",
            "                                                                                                  \n",
            " embedding_1 (Embedding)     (None, 84, 8)                160000    ['input_5[0][0]']             \n",
            "                                                                                                  \n",
            " max_pooling2d_3 (MaxPoolin  (None, 10, 10, 24)           0         ['conv2d_3[0][0]']            \n",
            " g2D)                                                                                             \n",
            "                                                                                                  \n",
            " flatten_3 (Flatten)         (None, 672)                  0         ['embedding_1[0][0]']         \n",
            "                                                                                                  \n",
            " flatten_4 (Flatten)         (None, 2400)                 0         ['max_pooling2d_3[0][0]']     \n",
            "                                                                                                  \n",
            " normalization (Normalizati  (None, 672)                  1345      ['flatten_3[0][0]']           \n",
            " on)                                                                                              \n",
            "                                                                                                  \n",
            " concatenate_2 (Concatenate  (None, 3072)                 0         ['flatten_4[0][0]',           \n",
            " )                                                                   'normalization[0][0]']       \n",
            "                                                                                                  \n",
            " dropout_2 (Dropout)         (None, 3072)                 0         ['concatenate_2[0][0]']       \n",
            "                                                                                                  \n",
            " dense_5 (Dense)             (None, 7)                    21511     ['dropout_2[0][0]']           \n",
            "                                                                                                  \n",
            "==================================================================================================\n",
            "Total params: 190112 (742.63 KB)\n",
            "Trainable params: 188767 (737.37 KB)\n",
            "Non-trainable params: 1345 (5.26 KB)\n",
            "__________________________________________________________________________________________________\n"
          ]
        }
      ],
      "source": [
        "text_input = layers.Input(shape=text_padded.shape[1], dtype=tf.int32)\n",
        "embedding_layer = layers.Embedding(input_dim=max_words, output_dim=8, input_length=text_padded.shape[1])(text_input)\n",
        "text_flatten = layers.Flatten()(embedding_layer)\n",
        "nl = layers.Normalization()(text_flatten)\n",
        "\n",
        "image_input = layers.Input(shape=(48, 48, 1))\n",
        "conv_layer = layers.Conv2D(32, (3, 3), activation='relu')(image_input)\n",
        "pooling_layer1 = layers.MaxPooling2D((2, 2))(conv_layer)\n",
        "conv_layer2 = layers.Conv2D(24, (3, 3), activation='relu')(pooling_layer1)\n",
        "pooling_layer2 = layers.MaxPooling2D((2, 2))(conv_layer2)\n",
        "image_flatten = layers.Flatten()(pooling_layer2)\n",
        "\n",
        "concatenated = layers.Concatenate()([image_flatten, nl])\n",
        "dropout_layer = layers.Dropout(0.5)(concatenated)\n",
        "output_layer = layers.Dense(len(label_encoder.classes_), activation='softmax')(dropout_layer)\n",
        "\n",
        "optimizer = Adam(learning_rate=0.0001)\n",
        "model = models.Model(inputs=[text_input, image_input], outputs=output_layer)\n",
        "model.compile(optimizer=optimizer, loss='categorical_crossentropy', metrics=['accuracy'])\n",
        "model.summary()"
      ]
    },
    {
      "cell_type": "code",
      "execution_count": 60,
      "metadata": {
        "colab": {
          "base_uri": "https://localhost:8080/"
        },
        "id": "W32fE55iKYxm",
        "outputId": "6bd1bce1-c23d-41a0-93d7-942ee4888bc7"
      },
      "outputs": [
        {
          "name": "stdout",
          "output_type": "stream",
          "text": [
            "Epoch 1/100\n",
            "585/585 [==============================] - 22s 37ms/step - loss: 1.7124 - accuracy: 0.3011 - val_loss: 1.6489 - val_accuracy: 0.3095\n",
            "Epoch 2/100\n",
            "585/585 [==============================] - 23s 40ms/step - loss: 1.6221 - accuracy: 0.3467 - val_loss: 1.5842 - val_accuracy: 0.3714\n",
            "Epoch 3/100\n",
            "585/585 [==============================] - 22s 38ms/step - loss: 1.5618 - accuracy: 0.3916 - val_loss: 1.5296 - val_accuracy: 0.4184\n",
            "Epoch 4/100\n",
            "585/585 [==============================] - 21s 37ms/step - loss: 1.5230 - accuracy: 0.4123 - val_loss: 1.4995 - val_accuracy: 0.4536\n",
            "Epoch 5/100\n",
            "585/585 [==============================] - 21s 37ms/step - loss: 1.4929 - accuracy: 0.4353 - val_loss: 1.4710 - val_accuracy: 0.4653\n",
            "Epoch 6/100\n",
            "585/585 [==============================] - 21s 35ms/step - loss: 1.4634 - accuracy: 0.4491 - val_loss: 1.4483 - val_accuracy: 0.4792\n",
            "Epoch 7/100\n",
            "585/585 [==============================] - 21s 36ms/step - loss: 1.4325 - accuracy: 0.4679 - val_loss: 1.4231 - val_accuracy: 0.5005\n",
            "Epoch 8/100\n",
            "585/585 [==============================] - 21s 36ms/step - loss: 1.4077 - accuracy: 0.4803 - val_loss: 1.3969 - val_accuracy: 0.4995\n",
            "Epoch 9/100\n",
            "585/585 [==============================] - 22s 38ms/step - loss: 1.3813 - accuracy: 0.4944 - val_loss: 1.3774 - val_accuracy: 0.5080\n",
            "Epoch 10/100\n",
            "585/585 [==============================] - 22s 38ms/step - loss: 1.3574 - accuracy: 0.5048 - val_loss: 1.3525 - val_accuracy: 0.5272\n",
            "Epoch 11/100\n",
            "585/585 [==============================] - 24s 41ms/step - loss: 1.3289 - accuracy: 0.5206 - val_loss: 1.3292 - val_accuracy: 0.5293\n",
            "Epoch 12/100\n",
            "585/585 [==============================] - 21s 35ms/step - loss: 1.3057 - accuracy: 0.5275 - val_loss: 1.3114 - val_accuracy: 0.5432\n",
            "Epoch 13/100\n",
            "585/585 [==============================] - 21s 36ms/step - loss: 1.2814 - accuracy: 0.5426 - val_loss: 1.2893 - val_accuracy: 0.5422\n",
            "Epoch 14/100\n",
            "585/585 [==============================] - 22s 37ms/step - loss: 1.2612 - accuracy: 0.5491 - val_loss: 1.2701 - val_accuracy: 0.5571\n",
            "Epoch 15/100\n",
            "585/585 [==============================] - 21s 36ms/step - loss: 1.2369 - accuracy: 0.5589 - val_loss: 1.2527 - val_accuracy: 0.5592\n",
            "Epoch 16/100\n",
            "585/585 [==============================] - 21s 36ms/step - loss: 1.2125 - accuracy: 0.5696 - val_loss: 1.2356 - val_accuracy: 0.5816\n",
            "Epoch 17/100\n",
            "585/585 [==============================] - 20s 35ms/step - loss: 1.1966 - accuracy: 0.5727 - val_loss: 1.2158 - val_accuracy: 0.5827\n",
            "Epoch 18/100\n",
            "585/585 [==============================] - 21s 36ms/step - loss: 1.1765 - accuracy: 0.5811 - val_loss: 1.2022 - val_accuracy: 0.5784\n",
            "Epoch 19/100\n",
            "585/585 [==============================] - 21s 36ms/step - loss: 1.1578 - accuracy: 0.5919 - val_loss: 1.1920 - val_accuracy: 0.5891\n",
            "Epoch 20/100\n",
            "585/585 [==============================] - 21s 36ms/step - loss: 1.1414 - accuracy: 0.5995 - val_loss: 1.1735 - val_accuracy: 0.6030\n",
            "Epoch 21/100\n",
            "585/585 [==============================] - 21s 36ms/step - loss: 1.1238 - accuracy: 0.6025 - val_loss: 1.1577 - val_accuracy: 0.5923\n",
            "Epoch 22/100\n",
            "585/585 [==============================] - 21s 35ms/step - loss: 1.1086 - accuracy: 0.6094 - val_loss: 1.1475 - val_accuracy: 0.6179\n",
            "Epoch 23/100\n",
            "585/585 [==============================] - 21s 36ms/step - loss: 1.0894 - accuracy: 0.6196 - val_loss: 1.1317 - val_accuracy: 0.6169\n",
            "Epoch 24/100\n",
            "585/585 [==============================] - 21s 36ms/step - loss: 1.0774 - accuracy: 0.6231 - val_loss: 1.1222 - val_accuracy: 0.6158\n",
            "Epoch 25/100\n",
            "585/585 [==============================] - 21s 36ms/step - loss: 1.0680 - accuracy: 0.6277 - val_loss: 1.1135 - val_accuracy: 0.6137\n",
            "Epoch 26/100\n",
            "585/585 [==============================] - 20s 35ms/step - loss: 1.0540 - accuracy: 0.6338 - val_loss: 1.1073 - val_accuracy: 0.6169\n",
            "Epoch 27/100\n",
            "585/585 [==============================] - 21s 36ms/step - loss: 1.0385 - accuracy: 0.6431 - val_loss: 1.0940 - val_accuracy: 0.6190\n",
            "Epoch 28/100\n",
            "585/585 [==============================] - 21s 36ms/step - loss: 1.0244 - accuracy: 0.6463 - val_loss: 1.1019 - val_accuracy: 0.6083\n",
            "Epoch 29/100\n",
            "585/585 [==============================] - 21s 36ms/step - loss: 1.0160 - accuracy: 0.6480 - val_loss: 1.0846 - val_accuracy: 0.6275\n",
            "Epoch 30/100\n",
            "585/585 [==============================] - 21s 36ms/step - loss: 1.0062 - accuracy: 0.6502 - val_loss: 1.0794 - val_accuracy: 0.6243\n",
            "Epoch 31/100\n",
            "585/585 [==============================] - 21s 35ms/step - loss: 0.9885 - accuracy: 0.6601 - val_loss: 1.0705 - val_accuracy: 0.6297\n",
            "Epoch 32/100\n",
            "585/585 [==============================] - 21s 36ms/step - loss: 0.9826 - accuracy: 0.6637 - val_loss: 1.0585 - val_accuracy: 0.6275\n",
            "Epoch 33/100\n",
            "585/585 [==============================] - 21s 36ms/step - loss: 0.9669 - accuracy: 0.6685 - val_loss: 1.0550 - val_accuracy: 0.6243\n",
            "Epoch 34/100\n",
            "585/585 [==============================] - 21s 36ms/step - loss: 0.9549 - accuracy: 0.6759 - val_loss: 1.0490 - val_accuracy: 0.6265\n",
            "Epoch 35/100\n",
            "585/585 [==============================] - 20s 35ms/step - loss: 0.9474 - accuracy: 0.6739 - val_loss: 1.0434 - val_accuracy: 0.6275\n",
            "Epoch 36/100\n",
            "585/585 [==============================] - 21s 36ms/step - loss: 0.9370 - accuracy: 0.6831 - val_loss: 1.0434 - val_accuracy: 0.6329\n",
            "Epoch 37/100\n",
            "585/585 [==============================] - 21s 36ms/step - loss: 0.9252 - accuracy: 0.6843 - val_loss: 1.0340 - val_accuracy: 0.6329\n",
            "Epoch 38/100\n",
            "585/585 [==============================] - 26s 44ms/step - loss: 0.9226 - accuracy: 0.6871 - val_loss: 1.0292 - val_accuracy: 0.6318\n",
            "Epoch 39/100\n",
            "585/585 [==============================] - 21s 36ms/step - loss: 0.9118 - accuracy: 0.6904 - val_loss: 1.0313 - val_accuracy: 0.6403\n",
            "Epoch 40/100\n",
            "585/585 [==============================] - 21s 36ms/step - loss: 0.8997 - accuracy: 0.6951 - val_loss: 1.0312 - val_accuracy: 0.6382\n",
            "Epoch 41/100\n",
            "585/585 [==============================] - 20s 35ms/step - loss: 0.8897 - accuracy: 0.6989 - val_loss: 1.0203 - val_accuracy: 0.6361\n",
            "Epoch 42/100\n",
            "585/585 [==============================] - 21s 36ms/step - loss: 0.8792 - accuracy: 0.7050 - val_loss: 1.0172 - val_accuracy: 0.6393\n",
            "Epoch 43/100\n",
            "585/585 [==============================] - 21s 37ms/step - loss: 0.8756 - accuracy: 0.7050 - val_loss: 1.0154 - val_accuracy: 0.6382\n",
            "Epoch 44/100\n",
            "585/585 [==============================] - 22s 37ms/step - loss: 0.8642 - accuracy: 0.7102 - val_loss: 1.0095 - val_accuracy: 0.6414\n",
            "Epoch 45/100\n",
            "585/585 [==============================] - 21s 36ms/step - loss: 0.8560 - accuracy: 0.7127 - val_loss: 1.0129 - val_accuracy: 0.6457\n",
            "Epoch 46/100\n",
            "585/585 [==============================] - 20s 35ms/step - loss: 0.8485 - accuracy: 0.7154 - val_loss: 0.9989 - val_accuracy: 0.6467\n",
            "Epoch 47/100\n",
            "585/585 [==============================] - 21s 36ms/step - loss: 0.8421 - accuracy: 0.7166 - val_loss: 1.0004 - val_accuracy: 0.6446\n",
            "Epoch 48/100\n",
            "585/585 [==============================] - 21s 36ms/step - loss: 0.8318 - accuracy: 0.7225 - val_loss: 0.9956 - val_accuracy: 0.6457\n",
            "Epoch 49/100\n",
            "585/585 [==============================] - 21s 36ms/step - loss: 0.8244 - accuracy: 0.7271 - val_loss: 0.9982 - val_accuracy: 0.6499\n",
            "Epoch 50/100\n",
            "585/585 [==============================] - 20s 35ms/step - loss: 0.8185 - accuracy: 0.7271 - val_loss: 0.9894 - val_accuracy: 0.6478\n",
            "Epoch 51/100\n",
            "585/585 [==============================] - 21s 36ms/step - loss: 0.8101 - accuracy: 0.7306 - val_loss: 0.9895 - val_accuracy: 0.6499\n",
            "Epoch 52/100\n",
            "585/585 [==============================] - 21s 36ms/step - loss: 0.8017 - accuracy: 0.7359 - val_loss: 0.9882 - val_accuracy: 0.6489\n",
            "Epoch 53/100\n",
            "585/585 [==============================] - 21s 36ms/step - loss: 0.7910 - accuracy: 0.7390 - val_loss: 0.9823 - val_accuracy: 0.6521\n",
            "Epoch 54/100\n",
            "585/585 [==============================] - 21s 36ms/step - loss: 0.7878 - accuracy: 0.7411 - val_loss: 0.9801 - val_accuracy: 0.6542\n",
            "Epoch 55/100\n",
            "585/585 [==============================] - 20s 35ms/step - loss: 0.7827 - accuracy: 0.7395 - val_loss: 0.9718 - val_accuracy: 0.6553\n",
            "Epoch 56/100\n",
            "585/585 [==============================] - 21s 36ms/step - loss: 0.7733 - accuracy: 0.7447 - val_loss: 0.9742 - val_accuracy: 0.6553\n",
            "Epoch 57/100\n",
            "585/585 [==============================] - 21s 36ms/step - loss: 0.7695 - accuracy: 0.7480 - val_loss: 0.9715 - val_accuracy: 0.6585\n",
            "Epoch 58/100\n",
            "585/585 [==============================] - 21s 36ms/step - loss: 0.7583 - accuracy: 0.7487 - val_loss: 0.9662 - val_accuracy: 0.6542\n",
            "Epoch 59/100\n",
            "585/585 [==============================] - 20s 35ms/step - loss: 0.7585 - accuracy: 0.7487 - val_loss: 0.9683 - val_accuracy: 0.6531\n",
            "Epoch 60/100\n",
            "585/585 [==============================] - 21s 36ms/step - loss: 0.7501 - accuracy: 0.7552 - val_loss: 0.9641 - val_accuracy: 0.6521\n",
            "Epoch 61/100\n",
            "585/585 [==============================] - 21s 36ms/step - loss: 0.7416 - accuracy: 0.7587 - val_loss: 0.9715 - val_accuracy: 0.6596\n",
            "Epoch 62/100\n",
            "585/585 [==============================] - 21s 36ms/step - loss: 0.7340 - accuracy: 0.7590 - val_loss: 0.9629 - val_accuracy: 0.6574\n",
            "Epoch 63/100\n",
            "585/585 [==============================] - 20s 35ms/step - loss: 0.7345 - accuracy: 0.7593 - val_loss: 0.9662 - val_accuracy: 0.6596\n",
            "Epoch 64/100\n",
            "585/585 [==============================] - 21s 36ms/step - loss: 0.7256 - accuracy: 0.7595 - val_loss: 0.9575 - val_accuracy: 0.6510\n",
            "Epoch 65/100\n",
            "585/585 [==============================] - 21s 36ms/step - loss: 0.7197 - accuracy: 0.7618 - val_loss: 0.9597 - val_accuracy: 0.6606\n",
            "Epoch 66/100\n",
            "585/585 [==============================] - 21s 36ms/step - loss: 0.7135 - accuracy: 0.7661 - val_loss: 0.9556 - val_accuracy: 0.6499\n",
            "Epoch 67/100\n",
            "585/585 [==============================] - 21s 36ms/step - loss: 0.7030 - accuracy: 0.7715 - val_loss: 0.9581 - val_accuracy: 0.6574\n",
            "Epoch 68/100\n",
            "585/585 [==============================] - 21s 35ms/step - loss: 0.7021 - accuracy: 0.7709 - val_loss: 0.9588 - val_accuracy: 0.6574\n",
            "Epoch 69/100\n",
            "585/585 [==============================] - 21s 36ms/step - loss: 0.6945 - accuracy: 0.7725 - val_loss: 0.9556 - val_accuracy: 0.6585\n",
            "Epoch 70/100\n",
            "585/585 [==============================] - 21s 36ms/step - loss: 0.6898 - accuracy: 0.7749 - val_loss: 0.9519 - val_accuracy: 0.6478\n",
            "Epoch 71/100\n",
            "585/585 [==============================] - 21s 36ms/step - loss: 0.6822 - accuracy: 0.7795 - val_loss: 0.9470 - val_accuracy: 0.6531\n",
            "Epoch 72/100\n",
            "585/585 [==============================] - 20s 35ms/step - loss: 0.6764 - accuracy: 0.7785 - val_loss: 0.9486 - val_accuracy: 0.6606\n",
            "Epoch 73/100\n",
            "585/585 [==============================] - 21s 36ms/step - loss: 0.6727 - accuracy: 0.7774 - val_loss: 0.9488 - val_accuracy: 0.6489\n",
            "Epoch 74/100\n",
            "585/585 [==============================] - 21s 36ms/step - loss: 0.6634 - accuracy: 0.7854 - val_loss: 0.9498 - val_accuracy: 0.6596\n",
            "Epoch 75/100\n",
            "585/585 [==============================] - 21s 36ms/step - loss: 0.6571 - accuracy: 0.7836 - val_loss: 0.9487 - val_accuracy: 0.6542\n",
            "Epoch 76/100\n",
            "585/585 [==============================] - 21s 36ms/step - loss: 0.6536 - accuracy: 0.7887 - val_loss: 0.9405 - val_accuracy: 0.6681\n",
            "Epoch 77/100\n",
            "585/585 [==============================] - 20s 35ms/step - loss: 0.6508 - accuracy: 0.7884 - val_loss: 0.9448 - val_accuracy: 0.6564\n",
            "Epoch 78/100\n",
            "585/585 [==============================] - 21s 36ms/step - loss: 0.6460 - accuracy: 0.7927 - val_loss: 0.9438 - val_accuracy: 0.6564\n",
            "Epoch 79/100\n",
            "585/585 [==============================] - 21s 36ms/step - loss: 0.6390 - accuracy: 0.7911 - val_loss: 0.9409 - val_accuracy: 0.6606\n",
            "Epoch 80/100\n",
            "585/585 [==============================] - 21s 36ms/step - loss: 0.6346 - accuracy: 0.7937 - val_loss: 0.9405 - val_accuracy: 0.6574\n",
            "Epoch 81/100\n",
            "585/585 [==============================] - 20s 35ms/step - loss: 0.6336 - accuracy: 0.7940 - val_loss: 0.9370 - val_accuracy: 0.6499\n",
            "Epoch 82/100\n",
            "585/585 [==============================] - 21s 36ms/step - loss: 0.6249 - accuracy: 0.7957 - val_loss: 0.9450 - val_accuracy: 0.6499\n",
            "Epoch 83/100\n",
            "585/585 [==============================] - 21s 36ms/step - loss: 0.6257 - accuracy: 0.7936 - val_loss: 0.9350 - val_accuracy: 0.6542\n",
            "Epoch 84/100\n",
            "585/585 [==============================] - 21s 36ms/step - loss: 0.6121 - accuracy: 0.8026 - val_loss: 0.9362 - val_accuracy: 0.6585\n",
            "Epoch 85/100\n",
            "585/585 [==============================] - 21s 36ms/step - loss: 0.6094 - accuracy: 0.8008 - val_loss: 0.9362 - val_accuracy: 0.6617\n",
            "Epoch 86/100\n",
            "585/585 [==============================] - 20s 35ms/step - loss: 0.6048 - accuracy: 0.8058 - val_loss: 0.9329 - val_accuracy: 0.6638\n",
            "Epoch 87/100\n",
            "585/585 [==============================] - 21s 36ms/step - loss: 0.6024 - accuracy: 0.8046 - val_loss: 0.9313 - val_accuracy: 0.6606\n",
            "Epoch 88/100\n",
            "585/585 [==============================] - 21s 36ms/step - loss: 0.5991 - accuracy: 0.8086 - val_loss: 0.9366 - val_accuracy: 0.6596\n",
            "Epoch 89/100\n",
            "585/585 [==============================] - 21s 36ms/step - loss: 0.5916 - accuracy: 0.8098 - val_loss: 0.9335 - val_accuracy: 0.6574\n",
            "Epoch 90/100\n",
            "585/585 [==============================] - 21s 35ms/step - loss: 0.5894 - accuracy: 0.8083 - val_loss: 0.9380 - val_accuracy: 0.6585\n",
            "Epoch 91/100\n",
            "585/585 [==============================] - 21s 36ms/step - loss: 0.5842 - accuracy: 0.8110 - val_loss: 0.9319 - val_accuracy: 0.6628\n",
            "Epoch 92/100\n",
            "585/585 [==============================] - 21s 37ms/step - loss: 0.5793 - accuracy: 0.8138 - val_loss: 0.9288 - val_accuracy: 0.6596\n",
            "Epoch 93/100\n",
            "585/585 [==============================] - 21s 36ms/step - loss: 0.5756 - accuracy: 0.8176 - val_loss: 0.9324 - val_accuracy: 0.6531\n",
            "Epoch 94/100\n",
            "585/585 [==============================] - 21s 36ms/step - loss: 0.5671 - accuracy: 0.8168 - val_loss: 0.9312 - val_accuracy: 0.6585\n",
            "Epoch 95/100\n",
            "585/585 [==============================] - 21s 35ms/step - loss: 0.5660 - accuracy: 0.8165 - val_loss: 0.9301 - val_accuracy: 0.6574\n",
            "Epoch 96/100\n",
            "585/585 [==============================] - 21s 36ms/step - loss: 0.5636 - accuracy: 0.8173 - val_loss: 0.9301 - val_accuracy: 0.6553\n",
            "Epoch 97/100\n",
            "585/585 [==============================] - 21s 36ms/step - loss: 0.5546 - accuracy: 0.8200 - val_loss: 0.9311 - val_accuracy: 0.6596\n",
            "117/117 [==============================] - 1s 10ms/step - loss: 0.9222 - accuracy: 0.6782\n",
            "Loss: 0.92, Accuracy: 0.68\n"
          ]
        }
      ],
      "source": [
        "model.fit([text_train, image_train], emotion_train, epochs=EPOCH, validation_data=([text_val, image_val], emotion_val), callbacks=[checkpoint_callback, early_stopping_callback])\n",
        "\n",
        "evaluation_results = model.evaluate([text_test, image_test], emotion_test)\n",
        "print(f\"Loss: {round(evaluation_results[0], 2)}, Accuracy: {round(evaluation_results[1], 2)}\")"
      ]
    },
    {
      "cell_type": "markdown",
      "metadata": {
        "id": "jTh7EvR83z9h"
      },
      "source": [
        "L'accuracy sale al 68% a fronte però di una diminuzione dei parametri ma di un allungamento dei tempi."
      ]
    }
  ],
  "metadata": {
    "accelerator": "GPU",
    "colab": {
      "provenance": []
    },
    "gpuClass": "standard",
    "kernelspec": {
      "display_name": "Python 3",
      "name": "python3"
    },
    "language_info": {
      "name": "python"
    }
  },
  "nbformat": 4,
  "nbformat_minor": 0
}
