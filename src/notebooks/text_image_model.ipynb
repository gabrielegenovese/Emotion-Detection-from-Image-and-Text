{
  "cells": [
    {
      "cell_type": "markdown",
      "source": [
        "# Analisi di un modello per la predizione delle emozioni da un input combinato di testo e immagine\n",
        "\n",
        "In questo notebook si vuole analizzare il processo della creazione di un modello multimodale per predirre le emozioni. Per l'emotion detection esistono molti modelli che prendono in input un testo o un immagine di un espressione facciale, quindi abbiamo creato il dataset combinando due dataset esistenti. Le istruzioni per costruilo si trovano nella [repository](https://gitlab.com/gabrigeno/emotion-detection-from-image-and-text) del progetto. Una volta creato il dataset, bisogna caricarlo su drive in una cartella chiamata AIExam."
      ],
      "metadata": {
        "id": "FCweZc7x21_x"
      }
    },
    {
      "cell_type": "markdown",
      "source": [
        "## Data retrival"
      ],
      "metadata": {
        "id": "NirGlgMbHea4"
      }
    },
    {
      "cell_type": "code",
      "execution_count": null,
      "metadata": {
        "colab": {
          "base_uri": "https://localhost:8080/"
        },
        "id": "BVlvNevZo1Oh",
        "outputId": "4014040a-a3a3-463c-bc48-ddf6bf0cee45"
      },
      "outputs": [
        {
          "output_type": "stream",
          "name": "stdout",
          "text": [
            "Mounted at /content/drive\n"
          ]
        }
      ],
      "source": [
        "from google.colab import drive\n",
        "drive.mount('/content/drive')"
      ]
    },
    {
      "cell_type": "code",
      "source": [
        "!cp /content/drive/MyDrive/AIExam/data.zip /content\n",
        "!pip install contractions emoji ekphrasis --quiet\n",
        "!unzip data.zip"
      ],
      "metadata": {
        "id": "acBq0WM-QyzP"
      },
      "execution_count": null,
      "outputs": []
    },
    {
      "cell_type": "markdown",
      "source": [
        "## Data elaboration"
      ],
      "metadata": {
        "id": "M8E6b5ygZwAI"
      }
    },
    {
      "cell_type": "code",
      "source": [
        "import tensorflow as tf\n",
        "from tensorflow.keras import layers, models, metrics\n",
        "from sklearn.model_selection import train_test_split\n",
        "from sklearn.preprocessing import LabelEncoder\n",
        "from tensorflow.keras.preprocessing.text import Tokenizer\n",
        "from tensorflow.keras.preprocessing.sequence import pad_sequences\n",
        "from tensorflow.keras.callbacks import EarlyStopping\n",
        "from tensorflow.keras.callbacks import ModelCheckpoint\n",
        "from tensorflow.keras.layers import LSTM, Dropout\n",
        "from tensorflow.keras.optimizers import Adam\n",
        "from tensorflow.keras.preprocessing.image import ImageDataGenerator\n",
        "from matplotlib import pyplot as plt\n",
        "import pandas as pd\n",
        "import csv\n",
        "from PIL import Image\n",
        "import re\n",
        "import numpy as np\n",
        "import contractions, emoji\n",
        "from ekphrasis.classes.preprocessor import TextPreProcessor\n",
        "from ekphrasis.classes.tokenizer import SocialTokenizer\n",
        "from ekphrasis.dicts.emoticons import emoticons\n",
        "\n",
        "EPOCH = 100"
      ],
      "metadata": {
        "id": "czejXtxc7u-I"
      },
      "execution_count": null,
      "outputs": []
    },
    {
      "cell_type": "code",
      "source": [
        "def load_data(file_path):\n",
        "    data = []\n",
        "    with open(file_path, newline='', encoding='utf-8') as csvfile:\n",
        "        csv_reader = csv.reader(csvfile)\n",
        "        next(csv_reader, None)\n",
        "        for row in csv_reader:\n",
        "            text, image_path, emotion = row\n",
        "            img = Image.open(image_path)\n",
        "            img_array = np.array(img)\n",
        "            entry = {'text': text, 'image_data': img_array, 'emotion': emotion}\n",
        "            data.append(entry)\n",
        "    return data\n",
        "\n",
        "file_path = \"data/processed/text_image_emotion.csv\"\n",
        "data = load_data(file_path)\n",
        "print(data[0])"
      ],
      "metadata": {
        "colab": {
          "base_uri": "https://localhost:8080/"
        },
        "id": "uI1I4NJH5lDb",
        "outputId": "76f642d5-0d0f-44cd-eace-33358a5864d0"
      },
      "execution_count": null,
      "outputs": [
        {
          "output_type": "stream",
          "name": "stdout",
          "text": [
            "{'text': 'WHY THE FUCK IS BAYLESS ISOING', 'image_data': array([[186,  71, 113, ...,  37,  70, 123],\n",
            "       [143, 105,  31, ...,  83,  64,  84],\n",
            "       [152,  91,  69, ...,  89, 103,  50],\n",
            "       ...,\n",
            "       [136,  91, 116, ...,  22,  20,  13],\n",
            "       [227, 112, 109, ...,  19,  16,  12],\n",
            "       [254, 176, 100, ...,  13,  13,  13]], dtype=uint8), 'emotion': 'anger'}\n"
          ]
        }
      ]
    },
    {
      "cell_type": "code",
      "source": [
        "df_train_raw = pd.read_csv(file_path)\n",
        "\n",
        "c = df_train_raw.emotion.value_counts(normalize=True)\n",
        "c.plot(kind=\"pie\", figsize=(5, 5), title=\"Training dataset emotion distribution\")\n",
        "print(\"--- Distribution of Emotion ---\")\n",
        "print(c)\n",
        "train_count = df_train_raw.text.apply(lambda x: len(x.split(\" \")))\n",
        "\n",
        "print(f\"\\nMin words in a train sample: {train_count.min()}\")\n",
        "print(f\"Max words in a train sample: {train_count.max()}\")\n",
        "print(f\"Median in a train sample: {train_count.median()}\")"
      ],
      "metadata": {
        "id": "1YJojNd8uctg",
        "colab": {
          "base_uri": "https://localhost:8080/",
          "height": 280
        },
        "outputId": "16d74a9b-82ea-436f-aca8-625e46789977"
      },
      "execution_count": null,
      "outputs": [
        {
          "output_type": "stream",
          "name": "stdout",
          "text": [
            "--- Distribution of Emotion ---\n",
            "joy         0.282908\n",
            "neutral     0.243030\n",
            "anger       0.156648\n",
            "surprise    0.150884\n",
            "sadness     0.119907\n",
            "fear        0.025174\n",
            "disgust     0.021448\n",
            "Name: emotion, dtype: float64\n",
            "\n",
            "Min words in a train sample: 1\n",
            "Max words in a train sample: 33\n",
            "Median in a train sample: 13.0\n"
          ]
        },
        {
          "output_type": "display_data",
          "data": {
            "text/plain": [
              "<Figure size 500x500 with 1 Axes>"
            ],
            "image/png": "[encoded data removed]"
          },
          "metadata": {}
        }
      ]
    },
    {
      "cell_type": "markdown",
      "source": [
        "Notiamo che il dataset presenta dei testi lunghi al massimo 33 parole con un minimo di una parola."
      ],
      "metadata": {
        "id": "q4k061Ue9YNj"
      }
    },
    {
      "cell_type": "code",
      "source": [
        "texts = [entry['text'] for entry in data]\n",
        "images = np.array([entry['image_data'] for entry in data])\n",
        "emotions = [entry['emotion'] for entry in data]\n",
        "\n",
        "def show_data(i):\n",
        "  print(\"\\nDati con indice\", i)\n",
        "  plt.imshow(images[i],cmap = plt.cm.gray)\n",
        "  plt.show()\n",
        "  print(\"Testo associato:\", texts[i])\n",
        "  print(\"Emozione:\", emotions[i])\n",
        "\n",
        "show_data(123)\n",
        "\n",
        "i = 12345\n",
        "show_data(i)"
      ],
      "metadata": {
        "colab": {
          "base_uri": "https://localhost:8080/",
          "height": 211
        },
        "id": "3r1gj9Qb8lYn",
        "outputId": "5402a051-1718-4c50-a1de-d6ac35d188f5"
      },
      "execution_count": null,
      "outputs": [
        {
          "output_type": "stream",
          "name": "stdout",
          "text": [
            "\n",
            "Dati con indice 123\n"
          ]
        },
        {
          "output_type": "display_data",
          "data": {
            "text/plain": [
              "<Figure size 640x480 with 1 Axes>"
            ],
            "image/png": "[encoded data removed]"
          },
          "metadata": {}
        },
        {
          "output_type": "stream",
          "name": "stdout",
          "text": [
            "Testo associato: An ex-friend of mine proclaimed than anyone who speaks of being raped is a horrible, unethical human being.\n",
            "Emozione: anger\n",
            "\n",
            "Dati con indice 12345\n"
          ]
        },
        {
          "output_type": "display_data",
          "data": {
            "text/plain": [
              "<Figure size 640x480 with 1 Axes>"
            ],
            "image/png": "[encoded data removed]"
          },
          "metadata": {}
        },
        {
          "output_type": "stream",
          "name": "stdout",
          "text": [
            "Testo associato: OH MY GOD OH MY GOD CONGRATS!!!!\n",
            "Emozione: joy\n"
          ]
        }
      ]
    },
    {
      "cell_type": "markdown",
      "source": [
        "## Encoding delle emozioni\n",
        "Traduciamo le emozioni in un vettore di numeri per facilitarne l'uso nella rete neurale."
      ],
      "metadata": {
        "id": "3PKEtV7i9Z-5"
      }
    },
    {
      "cell_type": "code",
      "source": [
        "label_encoder = LabelEncoder()\n",
        "encoded_emotions = label_encoder.fit_transform(emotions)\n",
        "categorical_emotions = tf.keras.utils.to_categorical(encoded_emotions, num_classes=len(label_encoder.classes_))\n",
        "\n",
        "custom_p = lambda n: print(\"emotion\\t \", n, \"  \\tis encoded with the number\\t\", encoded_emotions[emotions.index(n)], \"\\tand vector\\t\", categorical_emotions[emotions.index(n)])\n",
        "\n",
        "custom_p(\"anger\")\n",
        "custom_p(\"disgust\")\n",
        "custom_p(\"fear\")\n",
        "custom_p(\"joy\")\n",
        "custom_p(\"neutral\")\n",
        "custom_p(\"sadness\")\n",
        "custom_p(\"surprise\")"
      ],
      "metadata": {
        "colab": {
          "base_uri": "https://localhost:8080/"
        },
        "id": "s-1lH06f91uX",
        "outputId": "91dce104-a0db-4ace-86a4-92b19439ae77"
      },
      "execution_count": null,
      "outputs": [
        {
          "output_type": "stream",
          "name": "stdout",
          "text": [
            "emotion\t  anger   \tis encoded with the number\t 0 \tand vector\t [1. 0. 0. 0. 0. 0. 0.]\n",
            "emotion\t  disgust   \tis encoded with the number\t 1 \tand vector\t [0. 1. 0. 0. 0. 0. 0.]\n",
            "emotion\t  fear   \tis encoded with the number\t 2 \tand vector\t [0. 0. 1. 0. 0. 0. 0.]\n",
            "emotion\t  joy   \tis encoded with the number\t 3 \tand vector\t [0. 0. 0. 1. 0. 0. 0.]\n",
            "emotion\t  neutral   \tis encoded with the number\t 4 \tand vector\t [0. 0. 0. 0. 1. 0. 0.]\n",
            "emotion\t  sadness   \tis encoded with the number\t 5 \tand vector\t [0. 0. 0. 0. 0. 1. 0.]\n",
            "emotion\t  surprise   \tis encoded with the number\t 6 \tand vector\t [0. 0. 0. 0. 0. 0. 1.]\n"
          ]
        }
      ]
    },
    {
      "cell_type": "markdown",
      "source": [
        "## Pre-processing\n",
        "In questo contesto possiamo applicare del pre-processing sui dati per migliorare il risultato e l'efficenza della rete.\n",
        "\n",
        "Per il momento usiamo un semplice tokenizer per il testo."
      ],
      "metadata": {
        "id": "QgreP5pM9AEP"
      }
    },
    {
      "cell_type": "code",
      "source": [
        "max_words = 20000\n",
        "tokenizer = Tokenizer(num_words=max_words, oov_token='<OOV>')\n",
        "tokenizer.fit_on_texts(texts)\n",
        "text_sequences = tokenizer.texts_to_sequences(texts)\n",
        "text_padded = pad_sequences(text_sequences, padding='post')"
      ],
      "metadata": {
        "id": "nWZ8cAV8uqRC"
      },
      "execution_count": null,
      "outputs": []
    },
    {
      "cell_type": "markdown",
      "source": [
        "## Creazione del dataset\n",
        "Dividiamo il dataset nella seguente maniera:\n",
        "*   train data: 80%  \n",
        "*   validation data: 10%  \n",
        "*   test data: 10%  "
      ],
      "metadata": {
        "id": "vf0JWYH2-jVj"
      }
    },
    {
      "cell_type": "code",
      "source": [
        "text_train, text_test_temp, image_train, image_test_temp, emotion_train, emotion_test_temp = train_test_split(\n",
        "    text_padded, images, categorical_emotions, test_size=0.2, random_state=42\n",
        ")\n",
        "\n",
        "text_test, text_val, image_test, image_val, emotion_test, emotion_val = train_test_split(\n",
        "    text_test_temp, image_test_temp, emotion_test_temp, test_size=0.5, random_state=42\n",
        ")\n",
        "\n",
        "print(\"Lunghezza dati di train:\", len(text_train))\n",
        "print(\"Lunghezza dati di validation:\", len(text_val))\n",
        "print(\"Lunghezza dati di test:\", len(text_test))"
      ],
      "metadata": {
        "id": "x94Fv1noeEvR",
        "colab": {
          "base_uri": "https://localhost:8080/"
        },
        "outputId": "0ea5708f-c6a2-4c17-ce22-0812651f7d88"
      },
      "execution_count": null,
      "outputs": [
        {
          "output_type": "stream",
          "name": "stdout",
          "text": [
            "Lunghezza dati di train: 20402\n",
            "Lunghezza dati di validation: 2551\n",
            "Lunghezza dati di test: 2550\n"
          ]
        }
      ]
    },
    {
      "cell_type": "markdown",
      "source": [
        "## Creazione del primo semplice modello\n",
        "\n",
        "Le emozioni prese in considerazioni sono 7, quindi un modello completamente randomico ha una precisione del 14%.\n",
        "\n",
        "Puntiamo quindi a fare meglio di un modello randomico creando un semplice modello con dei layer densi per ogni tipo di input e per poi concatenarli."
      ],
      "metadata": {
        "id": "mZdTj9B9_iAC"
      }
    },
    {
      "cell_type": "code",
      "source": [
        "# prima parte\n",
        "text_input = layers.Input(shape=text_padded.shape[1], dtype=tf.int32)\n",
        "text_dense_layer = layers.Dense(64, activation='relu')(text_input)\n",
        "\n",
        "# seconda parte\n",
        "image_input = layers.Input(shape=(48, 48))\n",
        "image_dense_layer = layers.Dense(64, activation='relu')(image_input)\n",
        "image_flatten = layers.Flatten()(image_dense_layer)\n",
        "\n",
        "concatenated = layers.Concatenate()([text_dense_layer, image_flatten])\n",
        "dropout_layer = layers.Dropout(0.5)(concatenated)\n",
        "dense_layer = layers.Dense(64, activation='relu')(image_input)\n",
        "output_layer = layers.Dense(len(label_encoder.classes_), activation='softmax')(dropout_layer)\n",
        "\n",
        "model = models.Model(inputs=[text_input, image_input], outputs=output_layer)\n",
        "\n",
        "optimizer = Adam(learning_rate=0.001)\n",
        "model.compile(optimizer=optimizer, loss='categorical_crossentropy', metrics=['accuracy', metrics.Precision(), metrics.Recall()])\n",
        "model.summary()\n",
        "\n",
        "checkpoint_callback = ModelCheckpoint(\"best_model.h5\", save_best_only=True, monitor=\"val_accuracy\", mode=\"max\")\n",
        "\n",
        "early_stopping_callback = EarlyStopping(monitor='val_loss', patience=5, restore_best_weights=True)"
      ],
      "metadata": {
        "colab": {
          "base_uri": "https://localhost:8080/"
        },
        "id": "TEJPlvWd_yM4",
        "outputId": "35a4faec-5b5c-4532-cfde-16d33b460f67"
      },
      "execution_count": null,
      "outputs": [
        {
          "output_type": "stream",
          "name": "stdout",
          "text": [
            "Model: \"model\"\n",
            "__________________________________________________________________________________________________\n",
            " Layer (type)                Output Shape                 Param #   Connected to                  \n",
            "==================================================================================================\n",
            " input_2 (InputLayer)        [(None, 48, 48)]             0         []                            \n",
            "                                                                                                  \n",
            " input_1 (InputLayer)        [(None, 34)]                 0         []                            \n",
            "                                                                                                  \n",
            " dense_1 (Dense)             (None, 48, 64)               3136      ['input_2[0][0]']             \n",
            "                                                                                                  \n",
            " dense (Dense)               (None, 64)                   2240      ['input_1[0][0]']             \n",
            "                                                                                                  \n",
            " flatten (Flatten)           (None, 3072)                 0         ['dense_1[0][0]']             \n",
            "                                                                                                  \n",
            " concatenate (Concatenate)   (None, 3136)                 0         ['dense[0][0]',               \n",
            "                                                                     'flatten[0][0]']             \n",
            "                                                                                                  \n",
            " dropout (Dropout)           (None, 3136)                 0         ['concatenate[0][0]']         \n",
            "                                                                                                  \n",
            " dense_3 (Dense)             (None, 7)                    21959     ['dropout[0][0]']             \n",
            "                                                                                                  \n",
            "==================================================================================================\n",
            "Total params: 27335 (106.78 KB)\n",
            "Trainable params: 27335 (106.78 KB)\n",
            "Non-trainable params: 0 (0.00 Byte)\n",
            "__________________________________________________________________________________________________\n"
          ]
        }
      ]
    },
    {
      "cell_type": "code",
      "source": [
        "model.fit([text_train, image_train], emotion_train, epochs=EPOCH, validation_data=([text_val, image_val], emotion_val), callbacks=[checkpoint_callback, early_stopping_callback])\n",
        "\n",
        "evaluation_results = model.evaluate([text_test, image_test], emotion_test)\n",
        "print(f\"Loss: {round(evaluation_results[0], 2)}, Accuracy: {round(evaluation_results[1], 2)}\")"
      ],
      "metadata": {
        "colab": {
          "base_uri": "https://localhost:8080/"
        },
        "id": "roZ91CiVCdi4",
        "outputId": "15394ced-ea69-49ae-b3c4-9508f8ab313b"
      },
      "execution_count": null,
      "outputs": [
        {
          "output_type": "stream",
          "name": "stdout",
          "text": [
            "Epoch 1/100\n",
            "638/638 [==============================] - 13s 13ms/step - loss: 50.6299 - accuracy: 0.2177 - precision: 0.2185 - recall: 0.2038 - val_loss: 10.1215 - val_accuracy: 0.2399 - val_precision: 0.2390 - val_recall: 0.1972\n",
            "Epoch 2/100\n"
          ]
        },
        {
          "output_type": "stream",
          "name": "stderr",
          "text": [
            "/usr/local/lib/python3.10/dist-packages/keras/src/engine/training.py:3103: UserWarning: You are saving your model as an HDF5 file via `model.save()`. This file format is considered legacy. We recommend using instead the native Keras format, e.g. `model.save('my_model.keras')`.\n",
            "  saving_api.save_model(\n"
          ]
        },
        {
          "output_type": "stream",
          "name": "stdout",
          "text": [
            "638/638 [==============================] - 8s 12ms/step - loss: 9.7192 - accuracy: 0.2175 - precision: 0.2189 - recall: 0.1702 - val_loss: 5.0998 - val_accuracy: 0.2356 - val_precision: 0.2467 - val_recall: 0.1595\n",
            "Epoch 3/100\n",
            "638/638 [==============================] - 8s 13ms/step - loss: 4.4643 - accuracy: 0.2392 - precision: 0.2323 - recall: 0.1260 - val_loss: 2.5952 - val_accuracy: 0.2650 - val_precision: 0.2730 - val_recall: 0.1070\n",
            "Epoch 4/100\n",
            "638/638 [==============================] - 7s 11ms/step - loss: 2.4811 - accuracy: 0.2699 - precision: 0.2696 - recall: 0.0769 - val_loss: 2.0210 - val_accuracy: 0.2834 - val_precision: 0.3318 - val_recall: 0.0576\n",
            "Epoch 5/100\n",
            "638/638 [==============================] - 5s 8ms/step - loss: 1.9386 - accuracy: 0.2915 - precision: 0.3327 - recall: 0.0457 - val_loss: 1.7864 - val_accuracy: 0.3022 - val_precision: 0.3750 - val_recall: 0.0259\n",
            "Epoch 6/100\n",
            "638/638 [==============================] - 4s 6ms/step - loss: 1.7672 - accuracy: 0.3071 - precision: 0.4297 - recall: 0.0367 - val_loss: 1.7851 - val_accuracy: 0.2952 - val_precision: 0.3962 - val_recall: 0.0247\n",
            "Epoch 7/100\n",
            "638/638 [==============================] - 3s 5ms/step - loss: 1.7213 - accuracy: 0.3145 - precision: 0.5007 - recall: 0.0343 - val_loss: 1.7164 - val_accuracy: 0.3226 - val_precision: 0.4793 - val_recall: 0.0318\n",
            "Epoch 8/100\n",
            "638/638 [==============================] - 3s 5ms/step - loss: 1.6832 - accuracy: 0.3177 - precision: 0.5566 - recall: 0.0335 - val_loss: 1.7359 - val_accuracy: 0.3234 - val_precision: 0.5367 - val_recall: 0.0372\n",
            "Epoch 9/100\n",
            "638/638 [==============================] - 4s 6ms/step - loss: 1.6746 - accuracy: 0.3236 - precision: 0.5916 - recall: 0.0373 - val_loss: 1.6958 - val_accuracy: 0.3144 - val_precision: 0.5391 - val_recall: 0.0270\n",
            "Epoch 10/100\n",
            "638/638 [==============================] - 4s 6ms/step - loss: 1.6706 - accuracy: 0.3222 - precision: 0.5894 - recall: 0.0354 - val_loss: 1.7444 - val_accuracy: 0.2889 - val_precision: 0.4096 - val_recall: 0.0133\n",
            "Epoch 11/100\n",
            "638/638 [==============================] - 3s 5ms/step - loss: 1.6737 - accuracy: 0.3181 - precision: 0.6087 - recall: 0.0336 - val_loss: 1.7026 - val_accuracy: 0.3332 - val_precision: 0.5429 - val_recall: 0.0447\n",
            "Epoch 12/100\n",
            "638/638 [==============================] - 3s 5ms/step - loss: 1.6823 - accuracy: 0.3170 - precision: 0.5978 - recall: 0.0313 - val_loss: 1.7339 - val_accuracy: 0.3034 - val_precision: 0.4706 - val_recall: 0.0157\n",
            "Epoch 13/100\n",
            "638/638 [==============================] - 3s 5ms/step - loss: 1.6760 - accuracy: 0.3168 - precision: 0.6076 - recall: 0.0296 - val_loss: 1.7159 - val_accuracy: 0.3046 - val_precision: 0.4828 - val_recall: 0.0165\n",
            "Epoch 14/100\n",
            "638/638 [==============================] - 4s 6ms/step - loss: 1.6718 - accuracy: 0.3200 - precision: 0.6132 - recall: 0.0328 - val_loss: 1.7450 - val_accuracy: 0.2905 - val_precision: 0.3538 - val_recall: 0.0090\n",
            "80/80 [==============================] - 0s 3ms/step - loss: 1.7102 - accuracy: 0.3106 - precision: 0.5093 - recall: 0.0216\n",
            "Loss: 1.71, Accuracy: 0.31\n"
          ]
        }
      ]
    },
    {
      "cell_type": "markdown",
      "source": [
        "Tramite questo semplice modello con 27335 parametri si raggiunge una precisione circa del 31%  (Loss: 1.71, Precision: 0.50, Recall: 0.02) andando quindi a migliorare la precisione di circa 2.5 volte rispetto a un modello casuale."
      ],
      "metadata": {
        "id": "9pgCa3mCDWR4"
      }
    },
    {
      "cell_type": "markdown",
      "source": [
        "## Seconda prova\n",
        "In questo seconda prova andiamo a cambiare solo le immagini normalizzandole per andare a vedere come influisce sulla rete."
      ],
      "metadata": {
        "id": "sWZbUv5MGzp0"
      }
    },
    {
      "cell_type": "code",
      "source": [
        "print(\"Image\", images[i])\n",
        "norm_images = images / 255\n",
        "print(\"\\nNormalized image\", norm_images[i])\n",
        "\n",
        "# ricreaiamo il dataset\n",
        "text_train, text_test_temp, image_train, image_test_temp, emotion_train, emotion_test_temp = train_test_split(\n",
        "    text_padded, norm_images, categorical_emotions, test_size=0.2, random_state=42\n",
        ")\n",
        "\n",
        "text_test, text_val, image_test, image_val, emotion_test, emotion_val = train_test_split(\n",
        "    text_test_temp, image_test_temp, emotion_test_temp, test_size=0.5, random_state=42\n",
        ")"
      ],
      "metadata": {
        "id": "X9vYe5PyFM6-",
        "colab": {
          "base_uri": "https://localhost:8080/"
        },
        "outputId": "30261d6f-5052-4b9d-efb5-b1d05c8361ef"
      },
      "execution_count": null,
      "outputs": [
        {
          "output_type": "stream",
          "name": "stdout",
          "text": [
            "Image [[159 156 159 ... 142 129 137]\n",
            " [160 161 158 ... 162 150 127]\n",
            " [157 160 151 ... 132 159 133]\n",
            " ...\n",
            " [ 23  20  25 ...  19  36  37]\n",
            " [ 19  21  25 ...  23  39  27]\n",
            " [ 17  23  22 ...  28  44  24]]\n",
            "\n",
            "Normalized image [[0.62352941 0.61176471 0.62352941 ... 0.55686275 0.50588235 0.5372549 ]\n",
            " [0.62745098 0.63137255 0.61960784 ... 0.63529412 0.58823529 0.49803922]\n",
            " [0.61568627 0.62745098 0.59215686 ... 0.51764706 0.62352941 0.52156863]\n",
            " ...\n",
            " [0.09019608 0.07843137 0.09803922 ... 0.0745098  0.14117647 0.14509804]\n",
            " [0.0745098  0.08235294 0.09803922 ... 0.09019608 0.15294118 0.10588235]\n",
            " [0.06666667 0.09019608 0.08627451 ... 0.10980392 0.17254902 0.09411765]]\n"
          ]
        }
      ]
    },
    {
      "cell_type": "code",
      "source": [
        "model.fit([text_train, image_train], emotion_train, epochs=EPOCH, validation_data=([text_val, image_val], emotion_val), callbacks=[checkpoint_callback, early_stopping_callback])\n",
        "\n",
        "evaluation_results = model.evaluate([text_test, image_test], emotion_test)\n",
        "print(f\"Loss: {round(evaluation_results[0], 2)}, Accuracy: {round(evaluation_results[1], 2)}\")"
      ],
      "metadata": {
        "colab": {
          "base_uri": "https://localhost:8080/"
        },
        "id": "XbTA4ZaHFiW_",
        "outputId": "174cf0dd-6fcd-4f39-d6e2-2934446f30e1"
      },
      "execution_count": null,
      "outputs": [
        {
          "output_type": "stream",
          "name": "stdout",
          "text": [
            "Epoch 1/100\n",
            "638/638 [==============================] - 5s 7ms/step - loss: 1.7920 - accuracy: 0.2981 - precision_13: 0.2694 - recall_13: 0.0058 - val_loss: 1.7748 - val_accuracy: 0.3167 - val_precision_13: 0.3448 - val_recall_13: 0.0039\n",
            "Epoch 2/100\n",
            "638/638 [==============================] - 4s 6ms/step - loss: 1.6868 - accuracy: 0.3519 - precision_13: 0.5395 - recall_13: 0.0184 - val_loss: 1.6965 - val_accuracy: 0.3591 - val_precision_13: 0.4947 - val_recall_13: 0.0184\n",
            "Epoch 3/100\n",
            "638/638 [==============================] - 3s 5ms/step - loss: 1.6128 - accuracy: 0.3703 - precision_13: 0.5738 - recall_13: 0.0366 - val_loss: 1.5983 - val_accuracy: 0.4053 - val_precision_13: 0.6609 - val_recall_13: 0.0298\n",
            "Epoch 4/100\n",
            "638/638 [==============================] - 3s 5ms/step - loss: 1.6055 - accuracy: 0.3846 - precision_13: 0.6039 - recall_13: 0.0525 - val_loss: 1.5665 - val_accuracy: 0.4030 - val_precision_13: 0.6987 - val_recall_13: 0.0627\n",
            "Epoch 5/100\n",
            "638/638 [==============================] - 5s 7ms/step - loss: 1.5781 - accuracy: 0.3940 - precision_13: 0.6132 - recall_13: 0.0710 - val_loss: 1.5632 - val_accuracy: 0.4077 - val_precision_13: 0.6976 - val_recall_13: 0.0678\n",
            "Epoch 6/100\n",
            "638/638 [==============================] - 3s 5ms/step - loss: 1.5708 - accuracy: 0.3954 - precision_13: 0.6180 - recall_13: 0.0806 - val_loss: 1.5825 - val_accuracy: 0.4245 - val_precision_13: 0.6952 - val_recall_13: 0.0733\n",
            "Epoch 7/100\n",
            "638/638 [==============================] - 4s 7ms/step - loss: 1.5574 - accuracy: 0.4034 - precision_13: 0.6086 - recall_13: 0.0941 - val_loss: 1.5569 - val_accuracy: 0.4285 - val_precision_13: 0.6938 - val_recall_13: 0.0835\n",
            "Epoch 8/100\n",
            "638/638 [==============================] - 9s 13ms/step - loss: 1.5455 - accuracy: 0.4061 - precision_13: 0.6132 - recall_13: 0.0972 - val_loss: 1.5355 - val_accuracy: 0.4320 - val_precision_13: 0.6479 - val_recall_13: 0.1082\n",
            "Epoch 9/100\n",
            "638/638 [==============================] - 3s 5ms/step - loss: 1.5295 - accuracy: 0.4089 - precision_13: 0.6138 - recall_13: 0.1130 - val_loss: 1.5214 - val_accuracy: 0.4371 - val_precision_13: 0.6870 - val_recall_13: 0.1015\n",
            "Epoch 10/100\n",
            "638/638 [==============================] - 3s 5ms/step - loss: 1.5199 - accuracy: 0.4160 - precision_13: 0.6161 - recall_13: 0.1162 - val_loss: 1.5175 - val_accuracy: 0.4398 - val_precision_13: 0.6917 - val_recall_13: 0.1047\n",
            "Epoch 11/100\n",
            "638/638 [==============================] - 4s 6ms/step - loss: 1.5199 - accuracy: 0.4166 - precision_13: 0.6139 - recall_13: 0.1212 - val_loss: 1.5239 - val_accuracy: 0.4394 - val_precision_13: 0.6653 - val_recall_13: 0.1254\n",
            "Epoch 12/100\n",
            "638/638 [==============================] - 4s 6ms/step - loss: 1.5069 - accuracy: 0.4242 - precision_13: 0.6247 - recall_13: 0.1344 - val_loss: 1.5262 - val_accuracy: 0.4410 - val_precision_13: 0.6660 - val_recall_13: 0.1399\n",
            "Epoch 13/100\n",
            "638/638 [==============================] - 3s 5ms/step - loss: 1.4940 - accuracy: 0.4306 - precision_13: 0.6209 - recall_13: 0.1382 - val_loss: 1.5484 - val_accuracy: 0.4414 - val_precision_13: 0.6455 - val_recall_13: 0.1435\n",
            "Epoch 14/100\n",
            "638/638 [==============================] - 3s 5ms/step - loss: 1.4821 - accuracy: 0.4339 - precision_13: 0.6271 - recall_13: 0.1465 - val_loss: 1.5391 - val_accuracy: 0.4481 - val_precision_13: 0.6692 - val_recall_13: 0.1356\n",
            "Epoch 15/100\n",
            "638/638 [==============================] - 4s 6ms/step - loss: 1.4775 - accuracy: 0.4359 - precision_13: 0.6279 - recall_13: 0.1553 - val_loss: 1.5025 - val_accuracy: 0.4547 - val_precision_13: 0.6600 - val_recall_13: 0.1294\n",
            "Epoch 16/100\n",
            "638/638 [==============================] - 4s 6ms/step - loss: 1.4733 - accuracy: 0.4373 - precision_13: 0.6293 - recall_13: 0.1562 - val_loss: 1.5068 - val_accuracy: 0.4535 - val_precision_13: 0.6691 - val_recall_13: 0.1419\n",
            "Epoch 17/100\n",
            "638/638 [==============================] - 3s 5ms/step - loss: 1.4653 - accuracy: 0.4451 - precision_13: 0.6350 - recall_13: 0.1666 - val_loss: 1.5248 - val_accuracy: 0.4508 - val_precision_13: 0.6629 - val_recall_13: 0.1388\n",
            "Epoch 18/100\n",
            "638/638 [==============================] - 3s 5ms/step - loss: 1.4457 - accuracy: 0.4518 - precision_13: 0.6498 - recall_13: 0.1760 - val_loss: 1.5351 - val_accuracy: 0.4563 - val_precision_13: 0.6771 - val_recall_13: 0.1192\n",
            "Epoch 19/100\n",
            "638/638 [==============================] - 4s 6ms/step - loss: 1.4497 - accuracy: 0.4522 - precision_13: 0.6404 - recall_13: 0.1747 - val_loss: 1.5006 - val_accuracy: 0.4496 - val_precision_13: 0.6599 - val_recall_13: 0.1537\n",
            "Epoch 20/100\n",
            "638/638 [==============================] - 4s 6ms/step - loss: 1.4442 - accuracy: 0.4592 - precision_13: 0.6494 - recall_13: 0.1863 - val_loss: 1.4932 - val_accuracy: 0.4579 - val_precision_13: 0.6410 - val_recall_13: 0.1533\n",
            "Epoch 21/100\n",
            "638/638 [==============================] - 3s 5ms/step - loss: 1.4269 - accuracy: 0.4569 - precision_13: 0.6515 - recall_13: 0.1895 - val_loss: 1.4913 - val_accuracy: 0.4669 - val_precision_13: 0.6434 - val_recall_13: 0.1768\n",
            "Epoch 22/100\n",
            "638/638 [==============================] - 3s 4ms/step - loss: 1.4215 - accuracy: 0.4612 - precision_13: 0.6514 - recall_13: 0.1942 - val_loss: 1.5028 - val_accuracy: 0.4567 - val_precision_13: 0.6365 - val_recall_13: 0.1819\n",
            "Epoch 23/100\n",
            "638/638 [==============================] - 3s 5ms/step - loss: 1.4137 - accuracy: 0.4649 - precision_13: 0.6516 - recall_13: 0.1999 - val_loss: 1.4956 - val_accuracy: 0.4579 - val_precision_13: 0.6662 - val_recall_13: 0.1737\n",
            "Epoch 24/100\n",
            "638/638 [==============================] - 4s 7ms/step - loss: 1.4055 - accuracy: 0.4682 - precision_13: 0.6592 - recall_13: 0.2049 - val_loss: 1.5012 - val_accuracy: 0.4614 - val_precision_13: 0.6482 - val_recall_13: 0.1878\n",
            "Epoch 25/100\n",
            "638/638 [==============================] - 3s 5ms/step - loss: 1.3998 - accuracy: 0.4691 - precision_13: 0.6552 - recall_13: 0.2064 - val_loss: 1.4858 - val_accuracy: 0.4810 - val_precision_13: 0.6613 - val_recall_13: 0.1776\n",
            "Epoch 26/100\n",
            "638/638 [==============================] - 3s 5ms/step - loss: 1.3944 - accuracy: 0.4736 - precision_13: 0.6599 - recall_13: 0.2154 - val_loss: 1.5582 - val_accuracy: 0.4681 - val_precision_13: 0.6255 - val_recall_13: 0.1827\n",
            "Epoch 27/100\n",
            "638/638 [==============================] - 7s 10ms/step - loss: 1.3905 - accuracy: 0.4711 - precision_13: 0.6628 - recall_13: 0.2184 - val_loss: 1.5611 - val_accuracy: 0.4720 - val_precision_13: 0.6191 - val_recall_13: 0.1803\n",
            "Epoch 28/100\n",
            "638/638 [==============================] - 5s 9ms/step - loss: 1.3838 - accuracy: 0.4762 - precision_13: 0.6642 - recall_13: 0.2224 - val_loss: 1.5552 - val_accuracy: 0.4716 - val_precision_13: 0.6591 - val_recall_13: 0.1811\n",
            "Epoch 29/100\n",
            "638/638 [==============================] - 4s 7ms/step - loss: 1.3912 - accuracy: 0.4801 - precision_13: 0.6665 - recall_13: 0.2214 - val_loss: 1.4841 - val_accuracy: 0.4716 - val_precision_13: 0.6381 - val_recall_13: 0.1866\n",
            "Epoch 30/100\n",
            "638/638 [==============================] - 7s 10ms/step - loss: 1.3826 - accuracy: 0.4782 - precision_13: 0.6615 - recall_13: 0.2234 - val_loss: 1.4822 - val_accuracy: 0.4673 - val_precision_13: 0.6352 - val_recall_13: 0.2007\n",
            "Epoch 31/100\n",
            "638/638 [==============================] - 4s 6ms/step - loss: 1.3750 - accuracy: 0.4822 - precision_13: 0.6603 - recall_13: 0.2255 - val_loss: 1.4925 - val_accuracy: 0.4704 - val_precision_13: 0.6310 - val_recall_13: 0.1870\n",
            "Epoch 32/100\n",
            "638/638 [==============================] - 3s 5ms/step - loss: 1.3875 - accuracy: 0.4806 - precision_13: 0.6668 - recall_13: 0.2279 - val_loss: 1.5029 - val_accuracy: 0.4743 - val_precision_13: 0.6358 - val_recall_13: 0.1991\n",
            "Epoch 33/100\n",
            "638/638 [==============================] - 4s 7ms/step - loss: 1.3789 - accuracy: 0.4825 - precision_13: 0.6574 - recall_13: 0.2296 - val_loss: 1.4862 - val_accuracy: 0.4696 - val_precision_13: 0.6427 - val_recall_13: 0.2031\n",
            "Epoch 34/100\n",
            "638/638 [==============================] - 3s 5ms/step - loss: 1.3664 - accuracy: 0.4851 - precision_13: 0.6699 - recall_13: 0.2352 - val_loss: 1.4907 - val_accuracy: 0.4782 - val_precision_13: 0.6309 - val_recall_13: 0.1889\n",
            "Epoch 35/100\n",
            "638/638 [==============================] - 3s 5ms/step - loss: 1.3643 - accuracy: 0.4830 - precision_13: 0.6664 - recall_13: 0.2331 - val_loss: 1.4818 - val_accuracy: 0.4755 - val_precision_13: 0.6526 - val_recall_13: 0.2187\n",
            "Epoch 36/100\n",
            "638/638 [==============================] - 3s 5ms/step - loss: 1.3560 - accuracy: 0.4864 - precision_13: 0.6676 - recall_13: 0.2383 - val_loss: 1.4860 - val_accuracy: 0.4775 - val_precision_13: 0.6212 - val_recall_13: 0.2070\n",
            "Epoch 37/100\n",
            "638/638 [==============================] - 4s 7ms/step - loss: 1.3550 - accuracy: 0.4890 - precision_13: 0.6720 - recall_13: 0.2453 - val_loss: 1.4841 - val_accuracy: 0.4739 - val_precision_13: 0.6446 - val_recall_13: 0.1791\n",
            "Epoch 38/100\n",
            "638/638 [==============================] - 3s 5ms/step - loss: 1.3587 - accuracy: 0.4871 - precision_13: 0.6785 - recall_13: 0.2395 - val_loss: 1.4882 - val_accuracy: 0.4779 - val_precision_13: 0.6364 - val_recall_13: 0.1976\n",
            "Epoch 39/100\n",
            "638/638 [==============================] - 3s 5ms/step - loss: 1.3537 - accuracy: 0.4900 - precision_13: 0.6772 - recall_13: 0.2438 - val_loss: 1.5285 - val_accuracy: 0.4716 - val_precision_13: 0.6138 - val_recall_13: 0.1850\n",
            "Epoch 40/100\n",
            "638/638 [==============================] - 3s 5ms/step - loss: 1.3539 - accuracy: 0.4901 - precision_13: 0.6688 - recall_13: 0.2478 - val_loss: 1.4894 - val_accuracy: 0.4790 - val_precision_13: 0.6218 - val_recall_13: 0.1811\n",
            "80/80 [==============================] - 0s 2ms/step - loss: 1.4601 - accuracy: 0.4518 - precision_13: 0.6210 - recall_13: 0.2063\n",
            "Loss: 1.46, Accuracy: 0.45\n"
          ]
        }
      ]
    },
    {
      "cell_type": "markdown",
      "source": [
        "Applicando una semplice operazione di normalizzazione raggiungiamo con lo stesso modello una precisione del 45% (Loss: 1.46, Precision: 0.62, Recall: 0.21) migliorando di 3.2 volte rispetto a un modello casuale."
      ],
      "metadata": {
        "id": "J2nhEBgPJjLZ"
      }
    },
    {
      "cell_type": "markdown",
      "source": [
        "## Terza prova\n",
        "\n",
        "In questa prova andiamo ad aggiungere dei layer più complicati per i due input per migliorare ulteriormente la precisione. Scegliamo un layer Embedding per il testo e dei layer convoluzionali per le immagini."
      ],
      "metadata": {
        "id": "cGUb6lQXKjao"
      }
    },
    {
      "cell_type": "code",
      "source": [
        "text_input = layers.Input(shape=text_padded.shape[1], dtype=tf.int32)\n",
        "embedding_layer = layers.Embedding(input_dim=max_words, output_dim=8, input_length=text_padded.shape[1])(text_input)\n",
        "text_flatten = layers.Flatten()(embedding_layer)\n",
        "\n",
        "image_input = layers.Input(shape=(48, 48, 1))\n",
        "conv_layer = layers.Conv2D(32, (3, 3), activation='relu')(image_input)\n",
        "pooling_layer = layers.MaxPooling2D((2, 2))(conv_layer)\n",
        "image_flatten = layers.Flatten()(pooling_layer)\n",
        "\n",
        "concatenated = layers.Concatenate()([text_flatten, image_flatten])\n",
        "dropout_layer = layers.Dropout(0.5)(concatenated)\n",
        "output_layer = layers.Dense(len(label_encoder.classes_), activation='softmax')(dropout_layer)\n",
        "\n",
        "model = models.Model(inputs=[text_input, image_input], outputs=output_layer)\n",
        "optimizer = Adam(learning_rate=0.001)\n",
        "\n",
        "model.compile(optimizer=optimizer, loss='categorical_crossentropy', metrics=['accuracy', metrics.Precision(), metrics.Recall()])\n",
        "model.summary()"
      ],
      "metadata": {
        "colab": {
          "base_uri": "https://localhost:8080/"
        },
        "id": "KmIRHMY_KnN2",
        "outputId": "5abb033b-625e-4213-de1b-7b70782b9b33"
      },
      "execution_count": null,
      "outputs": [
        {
          "output_type": "stream",
          "name": "stdout",
          "text": [
            "Model: \"model_18\"\n",
            "__________________________________________________________________________________________________\n",
            " Layer (type)                Output Shape                 Param #   Connected to                  \n",
            "==================================================================================================\n",
            " input_38 (InputLayer)       [(None, 48, 48, 1)]          0         []                            \n",
            "                                                                                                  \n",
            " input_37 (InputLayer)       [(None, 34)]                 0         []                            \n",
            "                                                                                                  \n",
            " conv2d_22 (Conv2D)          (None, 46, 46, 32)           320       ['input_38[0][0]']            \n",
            "                                                                                                  \n",
            " embedding_12 (Embedding)    (None, 34, 8)                160000    ['input_37[0][0]']            \n",
            "                                                                                                  \n",
            " max_pooling2d_22 (MaxPooli  (None, 23, 23, 32)           0         ['conv2d_22[0][0]']           \n",
            " ng2D)                                                                                            \n",
            "                                                                                                  \n",
            " flatten_30 (Flatten)        (None, 272)                  0         ['embedding_12[0][0]']        \n",
            "                                                                                                  \n",
            " flatten_31 (Flatten)        (None, 16928)                0         ['max_pooling2d_22[0][0]']    \n",
            "                                                                                                  \n",
            " concatenate_18 (Concatenat  (None, 17200)                0         ['flatten_30[0][0]',          \n",
            " e)                                                                  'flatten_31[0][0]']          \n",
            "                                                                                                  \n",
            " dropout_18 (Dropout)        (None, 17200)                0         ['concatenate_18[0][0]']      \n",
            "                                                                                                  \n",
            " dense_36 (Dense)            (None, 7)                    120407    ['dropout_18[0][0]']          \n",
            "                                                                                                  \n",
            "==================================================================================================\n",
            "Total params: 280727 (1.07 MB)\n",
            "Trainable params: 280727 (1.07 MB)\n",
            "Non-trainable params: 0 (0.00 Byte)\n",
            "__________________________________________________________________________________________________\n"
          ]
        }
      ]
    },
    {
      "cell_type": "code",
      "source": [
        "model.fit([text_train, image_train], emotion_train, epochs=EPOCH, validation_data=([text_val, image_val], emotion_val), callbacks=[checkpoint_callback, early_stopping_callback])\n",
        "\n",
        "evaluation_results = model.evaluate([text_test, image_test], emotion_test)\n",
        "print(f\"Loss: {round(evaluation_results[0], 2)}, Accuracy: {round(evaluation_results[1], 2)}\")"
      ],
      "metadata": {
        "colab": {
          "base_uri": "https://localhost:8080/"
        },
        "id": "5qN0ClA2M9ws",
        "outputId": "1ad431e3-638b-4bc9-ed06-5e3ddc627263"
      },
      "execution_count": null,
      "outputs": [
        {
          "output_type": "stream",
          "name": "stdout",
          "text": [
            "Epoch 1/100\n",
            "638/638 [==============================] - 37s 56ms/step - loss: 1.5109 - accuracy: 0.4294 - precision_14: 0.7342 - recall_14: 0.1064 - val_loss: 1.3458 - val_accuracy: 0.5229 - val_precision_14: 0.7331 - val_recall_14: 0.2552\n",
            "Epoch 2/100\n",
            "638/638 [==============================] - 28s 44ms/step - loss: 1.2408 - accuracy: 0.5507 - precision_14: 0.7830 - recall_14: 0.2989 - val_loss: 1.1733 - val_accuracy: 0.5872 - val_precision_14: 0.7957 - val_recall_14: 0.3512\n",
            "Epoch 3/100\n",
            "638/638 [==============================] - 27s 43ms/step - loss: 1.0853 - accuracy: 0.6175 - precision_14: 0.7993 - recall_14: 0.4044 - val_loss: 1.1009 - val_accuracy: 0.6131 - val_precision_14: 0.7867 - val_recall_14: 0.4093\n",
            "Epoch 4/100\n",
            "638/638 [==============================] - 27s 42ms/step - loss: 0.9732 - accuracy: 0.6593 - precision_14: 0.8099 - recall_14: 0.4784 - val_loss: 1.0559 - val_accuracy: 0.6339 - val_precision_14: 0.7872 - val_recall_14: 0.4567\n",
            "Epoch 5/100\n",
            "638/638 [==============================] - 27s 43ms/step - loss: 0.8872 - accuracy: 0.6927 - precision_14: 0.8226 - recall_14: 0.5358 - val_loss: 1.0307 - val_accuracy: 0.6405 - val_precision_14: 0.7635 - val_recall_14: 0.4975\n",
            "Epoch 6/100\n",
            "638/638 [==============================] - 27s 42ms/step - loss: 0.8095 - accuracy: 0.7216 - precision_14: 0.8405 - recall_14: 0.5879 - val_loss: 1.0229 - val_accuracy: 0.6480 - val_precision_14: 0.7632 - val_recall_14: 0.5155\n",
            "Epoch 7/100\n",
            "638/638 [==============================] - 27s 42ms/step - loss: 0.7453 - accuracy: 0.7481 - precision_14: 0.8468 - recall_14: 0.6250 - val_loss: 0.9946 - val_accuracy: 0.6546 - val_precision_14: 0.7554 - val_recall_14: 0.5386\n",
            "Epoch 8/100\n",
            "638/638 [==============================] - 25s 40ms/step - loss: 0.6935 - accuracy: 0.7674 - precision_14: 0.8590 - recall_14: 0.6606 - val_loss: 0.9969 - val_accuracy: 0.6507 - val_precision_14: 0.7540 - val_recall_14: 0.5359\n",
            "Epoch 9/100\n",
            "638/638 [==============================] - 26s 40ms/step - loss: 0.6412 - accuracy: 0.7830 - precision_14: 0.8674 - recall_14: 0.6916 - val_loss: 1.0018 - val_accuracy: 0.6593 - val_precision_14: 0.7511 - val_recall_14: 0.5488\n",
            "Epoch 10/100\n",
            "638/638 [==============================] - 27s 42ms/step - loss: 0.5963 - accuracy: 0.7982 - precision_14: 0.8755 - recall_14: 0.7150 - val_loss: 0.9980 - val_accuracy: 0.6527 - val_precision_14: 0.7467 - val_recall_14: 0.5582\n",
            "Epoch 11/100\n",
            "638/638 [==============================] - 26s 41ms/step - loss: 0.5639 - accuracy: 0.8106 - precision_14: 0.8788 - recall_14: 0.7336 - val_loss: 0.9915 - val_accuracy: 0.6609 - val_precision_14: 0.7429 - val_recall_14: 0.5617\n",
            "Epoch 12/100\n",
            "638/638 [==============================] - 27s 43ms/step - loss: 0.5333 - accuracy: 0.8207 - precision_14: 0.8793 - recall_14: 0.7519 - val_loss: 0.9959 - val_accuracy: 0.6605 - val_precision_14: 0.7416 - val_recall_14: 0.5739\n",
            "Epoch 13/100\n",
            "638/638 [==============================] - 27s 42ms/step - loss: 0.5003 - accuracy: 0.8347 - precision_14: 0.8894 - recall_14: 0.7700 - val_loss: 1.0226 - val_accuracy: 0.6550 - val_precision_14: 0.7271 - val_recall_14: 0.5829\n",
            "Epoch 14/100\n",
            "638/638 [==============================] - 26s 41ms/step - loss: 0.4694 - accuracy: 0.8391 - precision_14: 0.8914 - recall_14: 0.7817 - val_loss: 1.0374 - val_accuracy: 0.6499 - val_precision_14: 0.7184 - val_recall_14: 0.5629\n",
            "Epoch 15/100\n",
            "638/638 [==============================] - 25s 39ms/step - loss: 0.4526 - accuracy: 0.8466 - precision_14: 0.8945 - recall_14: 0.7921 - val_loss: 1.0465 - val_accuracy: 0.6554 - val_precision_14: 0.7171 - val_recall_14: 0.5951\n",
            "Epoch 16/100\n",
            "638/638 [==============================] - 26s 40ms/step - loss: 0.4343 - accuracy: 0.8509 - precision_14: 0.8991 - recall_14: 0.8004 - val_loss: 1.0488 - val_accuracy: 0.6543 - val_precision_14: 0.7146 - val_recall_14: 0.5900\n",
            "80/80 [==============================] - 1s 10ms/step - loss: 0.9787 - accuracy: 0.6604 - precision_14: 0.7538 - recall_14: 0.5608\n",
            "Loss: 0.98, Accuracy: 0.66\n"
          ]
        }
      ]
    },
    {
      "cell_type": "markdown",
      "source": [
        "Aggiungendo dei layer che vanno ad operare su i due input abbiamo un aumento di circa 9.2 volte dei parametri arrivando a una precisione del 66% circa (Loss: 0.98, Precision: 0.75, Recall: 0.56) che corrisponde a circa 4.6 volte migliore del modello randomico."
      ],
      "metadata": {
        "id": "HpkhgRbCOi7_"
      }
    },
    {
      "cell_type": "markdown",
      "source": [
        "## Quarta prova\n",
        "Riduciamo il dataset, togliendo le scritte troppo piccole o troppo grandi. Abbassiamo il numero di filtri convoluzionali. Controlliamo anche che la distribuzione non sia cambiata di troppo."
      ],
      "metadata": {
        "id": "esuwucS38xv5"
      }
    },
    {
      "cell_type": "code",
      "source": [
        "data = list(filter(lambda x: len(x[\"text\"].split(\" \")) < 20, data))\n",
        "print(\"Numero di dati =\", len(data))\n",
        "data = list(filter(lambda x: len(x[\"text\"].split(\" \")) > 5, data))\n",
        "print(\"Numero di dati =\", len(data))\n",
        "texts = [entry['text'] for entry in data]\n",
        "images = np.array([entry['image_data'] for entry in data])\n",
        "norm_images = images / 255\n",
        "emotions = [entry['emotion'] for entry in data]\n",
        "c = pd.Series(emotions).value_counts(normalize=True)\n",
        "c.plot(kind=\"pie\", figsize=(5, 5), title=\"Training dataset emotion distribution\")\n",
        "print(\"\\n--- Distribution of Emotion ---\")\n",
        "print(c)\n",
        "\n",
        "max_words = 20000\n",
        "tokenizer = Tokenizer(num_words=max_words, oov_token='<OOV>')\n",
        "tokenizer.fit_on_texts(texts)\n",
        "text_sequences = tokenizer.texts_to_sequences(texts)\n",
        "text_padded = pad_sequences(text_sequences, padding='post')\n",
        "label_encoder = LabelEncoder()\n",
        "encoded_emotions = label_encoder.fit_transform(emotions)\n",
        "categorical_emotions = tf.keras.utils.to_categorical(encoded_emotions, num_classes=len(label_encoder.classes_))\n",
        "\n",
        "text_train, text_test_temp, image_train, image_test_temp, emotion_train, emotion_test_temp = train_test_split(\n",
        "    text_padded, norm_images, categorical_emotions, test_size=0.2, random_state=42\n",
        ")\n",
        "\n",
        "text_test, text_val, image_test, image_val, emotion_test, emotion_val = train_test_split(\n",
        "    text_test_temp, image_test_temp, emotion_test_temp, test_size=0.5, random_state=42\n",
        ")"
      ],
      "metadata": {
        "colab": {
          "base_uri": "https://localhost:8080/",
          "height": 652
        },
        "id": "PfmpdqFJ8mqc",
        "outputId": "8adeae13-fbdf-4a34-cc6c-fd0ebd19e9a6"
      },
      "execution_count": null,
      "outputs": [
        {
          "output_type": "stream",
          "name": "stdout",
          "text": [
            "Numero di dati = 20335\n",
            "Numero di dati = 16271\n",
            "\n",
            "--- Distribution of Emotion ---\n",
            "joy         0.278287\n",
            "neutral     0.235450\n",
            "surprise    0.159609\n",
            "anger       0.155922\n",
            "sadness     0.123164\n",
            "fear        0.024891\n",
            "disgust     0.022678\n",
            "dtype: float64\n"
          ]
        },
        {
          "output_type": "display_data",
          "data": {
            "text/plain": [
              "<Figure size 500x500 with 1 Axes>"
            ],
            "image/png": "[encoded data removed]"
          },
          "metadata": {}
        }
      ]
    },
    {
      "cell_type": "code",
      "source": [
        "text_input = layers.Input(shape=(text_padded.shape[1],), dtype=tf.int32)\n",
        "embedding_layer = layers.Embedding(input_dim=max_words, output_dim=8, input_length=text_padded.shape[1])(text_input)\n",
        "text_flatten = layers.Flatten()(embedding_layer)\n",
        "\n",
        "image_input = layers.Input(shape=(48, 48, 1))\n",
        "conv_layer = layers.Conv2D(24, (3, 3), activation='relu')(image_input)\n",
        "pooling_layer = layers.MaxPooling2D((2, 2))(conv_layer)\n",
        "image_flatten = layers.Flatten()(pooling_layer)\n",
        "\n",
        "concatenated = layers.Concatenate()([text_flatten, image_flatten])\n",
        "dropout_layer = layers.Dropout(0.5)(concatenated)\n",
        "output_layer = layers.Dense(len(label_encoder.classes_), activation='softmax')(dropout_layer)\n",
        "\n",
        "optimizer = Adam(learning_rate=0.001)\n",
        "model = models.Model(inputs=[text_input, image_input], outputs=output_layer)\n",
        "model.compile(optimizer=optimizer, loss='categorical_crossentropy', metrics=['accuracy', metrics.Precision(), metrics.Recall()])\n",
        "model.summary()"
      ],
      "metadata": {
        "colab": {
          "base_uri": "https://localhost:8080/"
        },
        "id": "gnBXq9Ow9tTB",
        "outputId": "10171b25-052f-40a9-ed7e-163b0a6abbc5"
      },
      "execution_count": null,
      "outputs": [
        {
          "output_type": "stream",
          "name": "stdout",
          "text": [
            "Model: \"model_19\"\n",
            "__________________________________________________________________________________________________\n",
            " Layer (type)                Output Shape                 Param #   Connected to                  \n",
            "==================================================================================================\n",
            " input_40 (InputLayer)       [(None, 48, 48, 1)]          0         []                            \n",
            "                                                                                                  \n",
            " input_39 (InputLayer)       [(None, 24)]                 0         []                            \n",
            "                                                                                                  \n",
            " conv2d_23 (Conv2D)          (None, 46, 46, 24)           240       ['input_40[0][0]']            \n",
            "                                                                                                  \n",
            " embedding_13 (Embedding)    (None, 24, 8)                160000    ['input_39[0][0]']            \n",
            "                                                                                                  \n",
            " max_pooling2d_23 (MaxPooli  (None, 23, 23, 24)           0         ['conv2d_23[0][0]']           \n",
            " ng2D)                                                                                            \n",
            "                                                                                                  \n",
            " flatten_32 (Flatten)        (None, 192)                  0         ['embedding_13[0][0]']        \n",
            "                                                                                                  \n",
            " flatten_33 (Flatten)        (None, 12696)                0         ['max_pooling2d_23[0][0]']    \n",
            "                                                                                                  \n",
            " concatenate_19 (Concatenat  (None, 12888)                0         ['flatten_32[0][0]',          \n",
            " e)                                                                  'flatten_33[0][0]']          \n",
            "                                                                                                  \n",
            " dropout_19 (Dropout)        (None, 12888)                0         ['concatenate_19[0][0]']      \n",
            "                                                                                                  \n",
            " dense_37 (Dense)            (None, 7)                    90223     ['dropout_19[0][0]']          \n",
            "                                                                                                  \n",
            "==================================================================================================\n",
            "Total params: 250463 (978.37 KB)\n",
            "Trainable params: 250463 (978.37 KB)\n",
            "Non-trainable params: 0 (0.00 Byte)\n",
            "__________________________________________________________________________________________________\n"
          ]
        }
      ]
    },
    {
      "cell_type": "code",
      "source": [
        "model.fit([text_train, image_train], emotion_train, epochs=EPOCH, validation_data=([text_val, image_val], emotion_val), callbacks=[checkpoint_callback, early_stopping_callback])\n",
        "\n",
        "evaluation_results = model.evaluate([text_test, image_test], emotion_test)\n",
        "print(f\"Loss: {round(evaluation_results[0], 2)}, Accuracy: {round(evaluation_results[1], 2)}\")"
      ],
      "metadata": {
        "colab": {
          "base_uri": "https://localhost:8080/"
        },
        "id": "B9uAx2CZ96av",
        "outputId": "50c9bd06-f013-4c07-ff6e-e99faf8d6335"
      },
      "execution_count": null,
      "outputs": [
        {
          "output_type": "stream",
          "name": "stdout",
          "text": [
            "Epoch 1/100\n",
            "407/407 [==============================] - 24s 57ms/step - loss: 1.5825 - accuracy: 0.3859 - precision_15: 0.7193 - recall_15: 0.0423 - val_loss: 1.4831 - val_accuracy: 0.4601 - val_precision_15: 0.6948 - val_recall_15: 0.1063\n",
            "Epoch 2/100\n",
            "407/407 [==============================] - 18s 45ms/step - loss: 1.3571 - accuracy: 0.5060 - precision_15: 0.7715 - recall_15: 0.2099 - val_loss: 1.3622 - val_accuracy: 0.5018 - val_precision_15: 0.7661 - val_recall_15: 0.1972\n",
            "Epoch 3/100\n",
            "407/407 [==============================] - 15s 36ms/step - loss: 1.1851 - accuracy: 0.5768 - precision_15: 0.7926 - recall_15: 0.3203 - val_loss: 1.2485 - val_accuracy: 0.5504 - val_precision_15: 0.7754 - val_recall_15: 0.2905\n",
            "Epoch 4/100\n",
            "407/407 [==============================] - 15s 36ms/step - loss: 1.0566 - accuracy: 0.6265 - precision_15: 0.8192 - recall_15: 0.4091 - val_loss: 1.1940 - val_accuracy: 0.5774 - val_precision_15: 0.7447 - val_recall_15: 0.3673\n",
            "Epoch 5/100\n",
            "407/407 [==============================] - 14s 36ms/step - loss: 0.9481 - accuracy: 0.6765 - precision_15: 0.8347 - recall_15: 0.4779 - val_loss: 1.1603 - val_accuracy: 0.5811 - val_precision_15: 0.7341 - val_recall_15: 0.4103\n",
            "Epoch 6/100\n",
            "407/407 [==============================] - 14s 35ms/step - loss: 0.8660 - accuracy: 0.7021 - precision_15: 0.8456 - recall_15: 0.5378 - val_loss: 1.1269 - val_accuracy: 0.5952 - val_precision_15: 0.7312 - val_recall_15: 0.4361\n",
            "Epoch 7/100\n",
            "407/407 [==============================] - 15s 37ms/step - loss: 0.7945 - accuracy: 0.7329 - precision_15: 0.8569 - recall_15: 0.5855 - val_loss: 1.1222 - val_accuracy: 0.5977 - val_precision_15: 0.7229 - val_recall_15: 0.4502\n",
            "Epoch 8/100\n",
            "407/407 [==============================] - 15s 37ms/step - loss: 0.7285 - accuracy: 0.7595 - precision_15: 0.8636 - recall_15: 0.6266 - val_loss: 1.0977 - val_accuracy: 0.6075 - val_precision_15: 0.7337 - val_recall_15: 0.4552\n",
            "Epoch 9/100\n",
            "407/407 [==============================] - 14s 35ms/step - loss: 0.6660 - accuracy: 0.7824 - precision_15: 0.8787 - recall_15: 0.6678 - val_loss: 1.1001 - val_accuracy: 0.6130 - val_precision_15: 0.7103 - val_recall_15: 0.4730\n",
            "Epoch 10/100\n",
            "407/407 [==============================] - 15s 36ms/step - loss: 0.6165 - accuracy: 0.7961 - precision_15: 0.8844 - recall_15: 0.6927 - val_loss: 1.1051 - val_accuracy: 0.6038 - val_precision_15: 0.7069 - val_recall_15: 0.4859\n",
            "Epoch 11/100\n",
            "407/407 [==============================] - 14s 35ms/step - loss: 0.5654 - accuracy: 0.8168 - precision_15: 0.8944 - recall_15: 0.7246 - val_loss: 1.1176 - val_accuracy: 0.6026 - val_precision_15: 0.6983 - val_recall_15: 0.5018\n",
            "Epoch 12/100\n",
            "407/407 [==============================] - 14s 35ms/step - loss: 0.5293 - accuracy: 0.8295 - precision_15: 0.9009 - recall_15: 0.7440 - val_loss: 1.1097 - val_accuracy: 0.6186 - val_precision_15: 0.7037 - val_recall_15: 0.5092\n",
            "Epoch 13/100\n",
            "407/407 [==============================] - 14s 35ms/step - loss: 0.4977 - accuracy: 0.8393 - precision_15: 0.9069 - recall_15: 0.7651 - val_loss: 1.1267 - val_accuracy: 0.6032 - val_precision_15: 0.7000 - val_recall_15: 0.5160\n",
            "51/51 [==============================] - 0s 9ms/step - loss: 1.1331 - accuracy: 0.5950 - precision_15: 0.7474 - recall_15: 0.4474\n",
            "Loss: 1.13, Accuracy: 0.59\n"
          ]
        }
      ]
    },
    {
      "cell_type": "markdown",
      "source": [
        "Loss: 1.13, Accuracy: 0.59, Precision: 0.75, Recall: 0.45."
      ],
      "metadata": {
        "id": "PgmRMdhJ_b-7"
      }
    },
    {
      "cell_type": "markdown",
      "source": [
        "## Quinta prova\n",
        "In questo test, cerchiamo di migliorare il preprocessing del testo."
      ],
      "metadata": {
        "id": "ljIEAKMRRuRL"
      }
    },
    {
      "cell_type": "code",
      "source": [
        "def lowerize(data):\n",
        "  return list(map(lambda x: x.lower(), data))\n",
        "\n",
        "def remove_special_chars(data):\n",
        "  return list(map(lambda x: x.replace('|'.join([re.escape(c) for c in list(\"#%&*/:\\^_{|}~\")]), \"\"), data))\n",
        "\n",
        "def convert_emojis(data):\n",
        "  return list(map(lambda x: emoji.demojize(x), data))\n",
        "\n",
        "def split_contractions(data):\n",
        "  return list(map(lambda x: contractions.fix(x), data))\n",
        "\n",
        "text_processor = TextPreProcessor(normalize= ['money', 'user', 'time', 'date', 'number', 'phone'],\n",
        "                                  annotate={\"elongated\", \"repeated\", 'emphasis', 'censored'},\n",
        "                                  fix_html=True, tokenizer=SocialTokenizer(lowercase=True).tokenize,\n",
        "                                  segmenter=\"twitter\", corrector=\"twitter\", unpack_contractions=False,\n",
        "                                  spell_correct_elong=True, spell_correction=True, fix_text=True,\n",
        "                                  dicts=[emoticons])\n",
        "\n",
        "def df_preprocessing(df_pre):\n",
        "  df_pre = lowerize(df_pre)\n",
        "  df_pre = convert_emojis(df_pre)\n",
        "  df_pre = split_contractions(df_pre)\n",
        "  df_pre = list(map(lambda x: ' '.join(text_processor.pre_process_doc(x)).strip(), df_pre))\n",
        "  df_pre = remove_special_chars(df_pre)\n",
        "  return df_pre"
      ],
      "metadata": {
        "id": "CkxIEi09RtAP"
      },
      "execution_count": null,
      "outputs": []
    },
    {
      "cell_type": "code",
      "source": [
        "texts = [entry['text'] for entry in data]\n",
        "images = np.array([entry['image_data'] for entry in data])\n",
        "norm_images = images / 255\n",
        "emotions = [entry['emotion'] for entry in data]\n",
        "\n",
        "texts = df_preprocessing(texts)\n",
        "\n",
        "max_words = 20000\n",
        "tokenizer = Tokenizer(num_words=max_words, oov_token='<OOV>')\n",
        "tokenizer.fit_on_texts(texts)\n",
        "text_sequences = tokenizer.texts_to_sequences(texts)\n",
        "text_padded = pad_sequences(text_sequences, padding='post')\n",
        "label_encoder = LabelEncoder()\n",
        "encoded_emotions = label_encoder.fit_transform(emotions)\n",
        "categorical_emotions = tf.keras.utils.to_categorical(encoded_emotions, num_classes=len(label_encoder.classes_))\n",
        "\n",
        "text_train, text_test_temp, image_train, image_test_temp, emotion_train, emotion_test_temp = train_test_split(\n",
        "    text_padded, norm_images, categorical_emotions, test_size=0.2, random_state=42\n",
        ")\n",
        "\n",
        "text_test, text_val, image_test, image_val, emotion_test, emotion_val = train_test_split(\n",
        "    text_test_temp, image_test_temp, emotion_test_temp, test_size=0.2, random_state=42\n",
        ")"
      ],
      "metadata": {
        "id": "uGjZImmeT73F"
      },
      "execution_count": null,
      "outputs": []
    },
    {
      "cell_type": "code",
      "source": [
        "text_input = layers.Input(shape=text_padded.shape[1], dtype=tf.int32)\n",
        "embedding_layer = layers.Embedding(input_dim=max_words, output_dim=8, input_length=text_padded.shape[1])(text_input)\n",
        "text_flatten = layers.Flatten()(embedding_layer)\n",
        "\n",
        "image_input = layers.Input(shape=(48, 48, 1))\n",
        "conv_layer = layers.Conv2D(24, (3, 3), activation='relu')(image_input)\n",
        "pooling_layer = layers.MaxPooling2D((2, 2))(conv_layer)\n",
        "image_flatten = layers.Flatten()(pooling_layer)\n",
        "\n",
        "concatenated = layers.Concatenate()([text_flatten, image_flatten])\n",
        "dropout_layer = layers.Dropout(0.5)(concatenated)\n",
        "output_layer = layers.Dense(len(label_encoder.classes_), activation='softmax')(dropout_layer)\n",
        "\n",
        "optimizer = Adam(learning_rate=0.0001)\n",
        "model = models.Model(inputs=[text_input, image_input], outputs=output_layer)\n",
        "model.compile(optimizer=optimizer, loss='categorical_crossentropy', metrics=['accuracy', metrics.Precision(), metrics.Recall()])\n",
        "model.summary()"
      ],
      "metadata": {
        "colab": {
          "base_uri": "https://localhost:8080/"
        },
        "id": "52jtX_h7mUyZ",
        "outputId": "893a0364-9726-4749-b4fd-da886624676f"
      },
      "execution_count": null,
      "outputs": [
        {
          "output_type": "stream",
          "name": "stdout",
          "text": [
            "Model: \"model_20\"\n",
            "__________________________________________________________________________________________________\n",
            " Layer (type)                Output Shape                 Param #   Connected to                  \n",
            "==================================================================================================\n",
            " input_42 (InputLayer)       [(None, 48, 48, 1)]          0         []                            \n",
            "                                                                                                  \n",
            " input_41 (InputLayer)       [(None, 84)]                 0         []                            \n",
            "                                                                                                  \n",
            " conv2d_24 (Conv2D)          (None, 46, 46, 24)           240       ['input_42[0][0]']            \n",
            "                                                                                                  \n",
            " embedding_14 (Embedding)    (None, 84, 8)                160000    ['input_41[0][0]']            \n",
            "                                                                                                  \n",
            " max_pooling2d_24 (MaxPooli  (None, 23, 23, 24)           0         ['conv2d_24[0][0]']           \n",
            " ng2D)                                                                                            \n",
            "                                                                                                  \n",
            " flatten_34 (Flatten)        (None, 672)                  0         ['embedding_14[0][0]']        \n",
            "                                                                                                  \n",
            " flatten_35 (Flatten)        (None, 12696)                0         ['max_pooling2d_24[0][0]']    \n",
            "                                                                                                  \n",
            " concatenate_20 (Concatenat  (None, 13368)                0         ['flatten_34[0][0]',          \n",
            " e)                                                                  'flatten_35[0][0]']          \n",
            "                                                                                                  \n",
            " dropout_20 (Dropout)        (None, 13368)                0         ['concatenate_20[0][0]']      \n",
            "                                                                                                  \n",
            " dense_38 (Dense)            (None, 7)                    93583     ['dropout_20[0][0]']          \n",
            "                                                                                                  \n",
            "==================================================================================================\n",
            "Total params: 253823 (991.50 KB)\n",
            "Trainable params: 253823 (991.50 KB)\n",
            "Non-trainable params: 0 (0.00 Byte)\n",
            "__________________________________________________________________________________________________\n"
          ]
        }
      ]
    },
    {
      "cell_type": "code",
      "source": [
        "model.fit([text_train, image_train], emotion_train, epochs=EPOCH, validation_data=([text_val, image_val], emotion_val), callbacks=[checkpoint_callback, early_stopping_callback])\n",
        "\n",
        "evaluation_results = model.evaluate([text_test, image_test], emotion_test)\n",
        "print(f\"Loss: {round(evaluation_results[0], 2)}, Accuracy: {round(evaluation_results[1], 2)}\")"
      ],
      "metadata": {
        "colab": {
          "base_uri": "https://localhost:8080/"
        },
        "id": "08d7_l3TmYsX",
        "outputId": "4f0380d4-6e76-434c-f17e-55a406a09e87"
      },
      "execution_count": null,
      "outputs": [
        {
          "output_type": "stream",
          "name": "stdout",
          "text": [
            "Epoch 1/100\n",
            "407/407 [==============================] - 16s 36ms/step - loss: 1.7155 - accuracy: 0.2840 - precision_16: 0.2000 - recall_16: 7.6829e-05 - val_loss: 1.6664 - val_accuracy: 0.3425 - val_precision_16: 0.0000e+00 - val_recall_16: 0.0000e+00\n",
            "Epoch 2/100\n",
            "407/407 [==============================] - 15s 37ms/step - loss: 1.6257 - accuracy: 0.3642 - precision_16: 0.7391 - recall_16: 0.0013 - val_loss: 1.6062 - val_accuracy: 0.4163 - val_precision_16: 1.0000 - val_recall_16: 0.0046\n",
            "Epoch 3/100\n",
            "407/407 [==============================] - 15s 37ms/step - loss: 1.5684 - accuracy: 0.4116 - precision_16: 0.7759 - recall_16: 0.0138 - val_loss: 1.5654 - val_accuracy: 0.4332 - val_precision_16: 0.9333 - val_recall_16: 0.0215\n",
            "Epoch 4/100\n",
            "407/407 [==============================] - 15s 37ms/step - loss: 1.5246 - accuracy: 0.4321 - precision_16: 0.7776 - recall_16: 0.0379 - val_loss: 1.5398 - val_accuracy: 0.4485 - val_precision_16: 0.9600 - val_recall_16: 0.0369\n",
            "Epoch 5/100\n",
            "407/407 [==============================] - 15s 37ms/step - loss: 1.4906 - accuracy: 0.4505 - precision_16: 0.7841 - recall_16: 0.0689 - val_loss: 1.5127 - val_accuracy: 0.4624 - val_precision_16: 0.8235 - val_recall_16: 0.0430\n",
            "Epoch 6/100\n",
            "407/407 [==============================] - 15s 36ms/step - loss: 1.4633 - accuracy: 0.4614 - precision_16: 0.7828 - recall_16: 0.0903 - val_loss: 1.4936 - val_accuracy: 0.4547 - val_precision_16: 0.7887 - val_recall_16: 0.0860\n",
            "Epoch 7/100\n",
            "407/407 [==============================] - 15s 37ms/step - loss: 1.4377 - accuracy: 0.4747 - precision_16: 0.7706 - recall_16: 0.1133 - val_loss: 1.4685 - val_accuracy: 0.4685 - val_precision_16: 0.7757 - val_recall_16: 0.1275\n",
            "Epoch 8/100\n",
            "407/407 [==============================] - 15s 37ms/step - loss: 1.4105 - accuracy: 0.4872 - precision_16: 0.7801 - recall_16: 0.1349 - val_loss: 1.4568 - val_accuracy: 0.4670 - val_precision_16: 0.8021 - val_recall_16: 0.1183\n",
            "Epoch 9/100\n",
            "407/407 [==============================] - 15s 36ms/step - loss: 1.3886 - accuracy: 0.4995 - precision_16: 0.7777 - recall_16: 0.1540 - val_loss: 1.4434 - val_accuracy: 0.4685 - val_precision_16: 0.7554 - val_recall_16: 0.1613\n",
            "Epoch 10/100\n",
            "407/407 [==============================] - 15s 37ms/step - loss: 1.3688 - accuracy: 0.5061 - precision_16: 0.7789 - recall_16: 0.1727 - val_loss: 1.4254 - val_accuracy: 0.4931 - val_precision_16: 0.7934 - val_recall_16: 0.1475\n",
            "Epoch 11/100\n",
            "407/407 [==============================] - 15s 36ms/step - loss: 1.3467 - accuracy: 0.5169 - precision_16: 0.7914 - recall_16: 0.1865 - val_loss: 1.4168 - val_accuracy: 0.4839 - val_precision_16: 0.7703 - val_recall_16: 0.1751\n",
            "Epoch 12/100\n",
            "407/407 [==============================] - 15s 36ms/step - loss: 1.3269 - accuracy: 0.5250 - precision_16: 0.7919 - recall_16: 0.2044 - val_loss: 1.3942 - val_accuracy: 0.4946 - val_precision_16: 0.7716 - val_recall_16: 0.1920\n",
            "Epoch 13/100\n",
            "407/407 [==============================] - 15s 37ms/step - loss: 1.3068 - accuracy: 0.5412 - precision_16: 0.7874 - recall_16: 0.2145 - val_loss: 1.3896 - val_accuracy: 0.5008 - val_precision_16: 0.7742 - val_recall_16: 0.1843\n",
            "Epoch 14/100\n",
            "407/407 [==============================] - 15s 37ms/step - loss: 1.2890 - accuracy: 0.5430 - precision_16: 0.7927 - recall_16: 0.2283 - val_loss: 1.3714 - val_accuracy: 0.5238 - val_precision_16: 0.7914 - val_recall_16: 0.1982\n",
            "Epoch 15/100\n",
            "407/407 [==============================] - 15s 37ms/step - loss: 1.2703 - accuracy: 0.5528 - precision_16: 0.7984 - recall_16: 0.2419 - val_loss: 1.3623 - val_accuracy: 0.5223 - val_precision_16: 0.7765 - val_recall_16: 0.2028\n",
            "Epoch 16/100\n",
            "407/407 [==============================] - 15s 36ms/step - loss: 1.2525 - accuracy: 0.5526 - precision_16: 0.8077 - recall_16: 0.2566 - val_loss: 1.3456 - val_accuracy: 0.5253 - val_precision_16: 0.7826 - val_recall_16: 0.2212\n",
            "Epoch 17/100\n",
            "407/407 [==============================] - 15s 36ms/step - loss: 1.2354 - accuracy: 0.5658 - precision_16: 0.8056 - recall_16: 0.2684 - val_loss: 1.3368 - val_accuracy: 0.5315 - val_precision_16: 0.7677 - val_recall_16: 0.2335\n",
            "Epoch 18/100\n",
            "407/407 [==============================] - 15s 36ms/step - loss: 1.2158 - accuracy: 0.5770 - precision_16: 0.8085 - recall_16: 0.2806 - val_loss: 1.3208 - val_accuracy: 0.5300 - val_precision_16: 0.7734 - val_recall_16: 0.2412\n",
            "Epoch 19/100\n",
            "407/407 [==============================] - 15s 37ms/step - loss: 1.2011 - accuracy: 0.5759 - precision_16: 0.8108 - recall_16: 0.2972 - val_loss: 1.3196 - val_accuracy: 0.5084 - val_precision_16: 0.7561 - val_recall_16: 0.2381\n",
            "Epoch 20/100\n",
            "407/407 [==============================] - 15s 36ms/step - loss: 1.1863 - accuracy: 0.5803 - precision_16: 0.8073 - recall_16: 0.3044 - val_loss: 1.3045 - val_accuracy: 0.5392 - val_precision_16: 0.7910 - val_recall_16: 0.2442\n",
            "Epoch 21/100\n",
            "407/407 [==============================] - 15s 37ms/step - loss: 1.1713 - accuracy: 0.5896 - precision_16: 0.8158 - recall_16: 0.3185 - val_loss: 1.2957 - val_accuracy: 0.5376 - val_precision_16: 0.7534 - val_recall_16: 0.2581\n",
            "Epoch 22/100\n",
            "407/407 [==============================] - 15s 37ms/step - loss: 1.1590 - accuracy: 0.5933 - precision_16: 0.8153 - recall_16: 0.3245 - val_loss: 1.2916 - val_accuracy: 0.5300 - val_precision_16: 0.7445 - val_recall_16: 0.2596\n",
            "Epoch 23/100\n",
            "407/407 [==============================] - 15s 37ms/step - loss: 1.1436 - accuracy: 0.5997 - precision_16: 0.8206 - recall_16: 0.3331 - val_loss: 1.2745 - val_accuracy: 0.5515 - val_precision_16: 0.7712 - val_recall_16: 0.2796\n",
            "Epoch 24/100\n",
            "407/407 [==============================] - 15s 37ms/step - loss: 1.1297 - accuracy: 0.6071 - precision_16: 0.8244 - recall_16: 0.3458 - val_loss: 1.2678 - val_accuracy: 0.5484 - val_precision_16: 0.7863 - val_recall_16: 0.2826\n",
            "Epoch 25/100\n",
            "407/407 [==============================] - 15s 37ms/step - loss: 1.1119 - accuracy: 0.6160 - precision_16: 0.8242 - recall_16: 0.3590 - val_loss: 1.2590 - val_accuracy: 0.5545 - val_precision_16: 0.7769 - val_recall_16: 0.2995\n",
            "Epoch 26/100\n",
            "407/407 [==============================] - 15s 36ms/step - loss: 1.1004 - accuracy: 0.6196 - precision_16: 0.8251 - recall_16: 0.3683 - val_loss: 1.2623 - val_accuracy: 0.5469 - val_precision_16: 0.7888 - val_recall_16: 0.2811\n",
            "Epoch 27/100\n",
            "407/407 [==============================] - 15s 36ms/step - loss: 1.0872 - accuracy: 0.6245 - precision_16: 0.8259 - recall_16: 0.3729 - val_loss: 1.2447 - val_accuracy: 0.5607 - val_precision_16: 0.7528 - val_recall_16: 0.3134\n",
            "Epoch 28/100\n",
            "407/407 [==============================] - 18s 45ms/step - loss: 1.0754 - accuracy: 0.6290 - precision_16: 0.8327 - recall_16: 0.3842 - val_loss: 1.2333 - val_accuracy: 0.5637 - val_precision_16: 0.7707 - val_recall_16: 0.3149\n",
            "Epoch 29/100\n",
            "407/407 [==============================] - 20s 50ms/step - loss: 1.0606 - accuracy: 0.6370 - precision_16: 0.8368 - recall_16: 0.3916 - val_loss: 1.2272 - val_accuracy: 0.5684 - val_precision_16: 0.7865 - val_recall_16: 0.3226\n",
            "Epoch 30/100\n",
            "407/407 [==============================] - 17s 42ms/step - loss: 1.0489 - accuracy: 0.6424 - precision_16: 0.8297 - recall_16: 0.4030 - val_loss: 1.2192 - val_accuracy: 0.5622 - val_precision_16: 0.8008 - val_recall_16: 0.3149\n",
            "Epoch 31/100\n",
            "407/407 [==============================] - 16s 40ms/step - loss: 1.0373 - accuracy: 0.6444 - precision_16: 0.8386 - recall_16: 0.4088 - val_loss: 1.2134 - val_accuracy: 0.5653 - val_precision_16: 0.7891 - val_recall_16: 0.3333\n",
            "Epoch 32/100\n",
            "407/407 [==============================] - 15s 37ms/step - loss: 1.0302 - accuracy: 0.6477 - precision_16: 0.8376 - recall_16: 0.4184 - val_loss: 1.2070 - val_accuracy: 0.5699 - val_precision_16: 0.7751 - val_recall_16: 0.3441\n",
            "Epoch 33/100\n",
            "407/407 [==============================] - 17s 41ms/step - loss: 1.0132 - accuracy: 0.6567 - precision_16: 0.8412 - recall_16: 0.4270 - val_loss: 1.2035 - val_accuracy: 0.5591 - val_precision_16: 0.8021 - val_recall_16: 0.3487\n",
            "Epoch 34/100\n",
            "407/407 [==============================] - 15s 36ms/step - loss: 1.0040 - accuracy: 0.6610 - precision_16: 0.8420 - recall_16: 0.4339 - val_loss: 1.1958 - val_accuracy: 0.5714 - val_precision_16: 0.7672 - val_recall_16: 0.3594\n",
            "Epoch 35/100\n",
            "407/407 [==============================] - 15s 36ms/step - loss: 0.9929 - accuracy: 0.6674 - precision_16: 0.8484 - recall_16: 0.4406 - val_loss: 1.1916 - val_accuracy: 0.5760 - val_precision_16: 0.7627 - val_recall_16: 0.3702\n",
            "Epoch 36/100\n",
            "407/407 [==============================] - 15s 36ms/step - loss: 0.9812 - accuracy: 0.6700 - precision_16: 0.8450 - recall_16: 0.4451 - val_loss: 1.1964 - val_accuracy: 0.5484 - val_precision_16: 0.7713 - val_recall_16: 0.3472\n",
            "Epoch 37/100\n",
            "407/407 [==============================] - 15s 36ms/step - loss: 0.9678 - accuracy: 0.6722 - precision_16: 0.8504 - recall_16: 0.4589 - val_loss: 1.1816 - val_accuracy: 0.5684 - val_precision_16: 0.7585 - val_recall_16: 0.3763\n",
            "Epoch 38/100\n",
            "407/407 [==============================] - 16s 40ms/step - loss: 0.9626 - accuracy: 0.6768 - precision_16: 0.8522 - recall_16: 0.4653 - val_loss: 1.1740 - val_accuracy: 0.5653 - val_precision_16: 0.7941 - val_recall_16: 0.3733\n",
            "Epoch 39/100\n",
            "407/407 [==============================] - 15s 36ms/step - loss: 0.9482 - accuracy: 0.6801 - precision_16: 0.8484 - recall_16: 0.4704 - val_loss: 1.1645 - val_accuracy: 0.5822 - val_precision_16: 0.7825 - val_recall_16: 0.3702\n",
            "Epoch 40/100\n",
            "407/407 [==============================] - 15s 36ms/step - loss: 0.9424 - accuracy: 0.6851 - precision_16: 0.8528 - recall_16: 0.4812 - val_loss: 1.1681 - val_accuracy: 0.5714 - val_precision_16: 0.7973 - val_recall_16: 0.3687\n",
            "Epoch 41/100\n",
            "407/407 [==============================] - 15s 36ms/step - loss: 0.9288 - accuracy: 0.6930 - precision_16: 0.8567 - recall_16: 0.4837 - val_loss: 1.1600 - val_accuracy: 0.5760 - val_precision_16: 0.7747 - val_recall_16: 0.3856\n",
            "Epoch 42/100\n",
            "407/407 [==============================] - 15s 36ms/step - loss: 0.9138 - accuracy: 0.6948 - precision_16: 0.8571 - recall_16: 0.4941 - val_loss: 1.1533 - val_accuracy: 0.5745 - val_precision_16: 0.7692 - val_recall_16: 0.3840\n",
            "Epoch 43/100\n",
            "407/407 [==============================] - 15s 37ms/step - loss: 0.9099 - accuracy: 0.6983 - precision_16: 0.8590 - recall_16: 0.5014 - val_loss: 1.1486 - val_accuracy: 0.5899 - val_precision_16: 0.7668 - val_recall_16: 0.4040\n",
            "Epoch 44/100\n",
            "407/407 [==============================] - 15s 37ms/step - loss: 0.8975 - accuracy: 0.7028 - precision_16: 0.8592 - recall_16: 0.5104 - val_loss: 1.1426 - val_accuracy: 0.5929 - val_precision_16: 0.7656 - val_recall_16: 0.3963\n",
            "Epoch 45/100\n",
            "407/407 [==============================] - 15s 37ms/step - loss: 0.8871 - accuracy: 0.7047 - precision_16: 0.8574 - recall_16: 0.5121 - val_loss: 1.1412 - val_accuracy: 0.5868 - val_precision_16: 0.7754 - val_recall_16: 0.3871\n",
            "Epoch 46/100\n",
            "407/407 [==============================] - 15s 37ms/step - loss: 0.8787 - accuracy: 0.7118 - precision_16: 0.8611 - recall_16: 0.5234 - val_loss: 1.1413 - val_accuracy: 0.5899 - val_precision_16: 0.7692 - val_recall_16: 0.3994\n",
            "Epoch 47/100\n",
            "407/407 [==============================] - 15s 36ms/step - loss: 0.8673 - accuracy: 0.7162 - precision_16: 0.8704 - recall_16: 0.5293 - val_loss: 1.1377 - val_accuracy: 0.5806 - val_precision_16: 0.7774 - val_recall_16: 0.4025\n",
            "Epoch 48/100\n",
            "407/407 [==============================] - 15s 37ms/step - loss: 0.8626 - accuracy: 0.7197 - precision_16: 0.8664 - recall_16: 0.5341 - val_loss: 1.1417 - val_accuracy: 0.5745 - val_precision_16: 0.7815 - val_recall_16: 0.3902\n",
            "Epoch 49/100\n",
            "407/407 [==============================] - 15s 36ms/step - loss: 0.8538 - accuracy: 0.7197 - precision_16: 0.8624 - recall_16: 0.5370 - val_loss: 1.1256 - val_accuracy: 0.5853 - val_precision_16: 0.7630 - val_recall_16: 0.4055\n",
            "Epoch 50/100\n",
            "407/407 [==============================] - 15s 36ms/step - loss: 0.8405 - accuracy: 0.7223 - precision_16: 0.8684 - recall_16: 0.5457 - val_loss: 1.1229 - val_accuracy: 0.5837 - val_precision_16: 0.7741 - val_recall_16: 0.3948\n",
            "Epoch 51/100\n",
            "407/407 [==============================] - 15s 36ms/step - loss: 0.8356 - accuracy: 0.7265 - precision_16: 0.8663 - recall_16: 0.5461 - val_loss: 1.1283 - val_accuracy: 0.5883 - val_precision_16: 0.7647 - val_recall_16: 0.3994\n",
            "Epoch 52/100\n",
            "407/407 [==============================] - 15s 36ms/step - loss: 0.8285 - accuracy: 0.7287 - precision_16: 0.8666 - recall_16: 0.5544 - val_loss: 1.1168 - val_accuracy: 0.5853 - val_precision_16: 0.7679 - val_recall_16: 0.4117\n",
            "Epoch 53/100\n",
            "407/407 [==============================] - 15s 36ms/step - loss: 0.8205 - accuracy: 0.7317 - precision_16: 0.8727 - recall_16: 0.5610 - val_loss: 1.1126 - val_accuracy: 0.5914 - val_precision_16: 0.7598 - val_recall_16: 0.4178\n",
            "Epoch 54/100\n",
            "407/407 [==============================] - 15s 37ms/step - loss: 0.8101 - accuracy: 0.7382 - precision_16: 0.8730 - recall_16: 0.5678 - val_loss: 1.1115 - val_accuracy: 0.5975 - val_precision_16: 0.7520 - val_recall_16: 0.4286\n",
            "Epoch 55/100\n",
            "407/407 [==============================] - 16s 38ms/step - loss: 0.8047 - accuracy: 0.7376 - precision_16: 0.8715 - recall_16: 0.5689 - val_loss: 1.1068 - val_accuracy: 0.5914 - val_precision_16: 0.7626 - val_recall_16: 0.4194\n",
            "Epoch 56/100\n",
            "407/407 [==============================] - 15s 37ms/step - loss: 0.7959 - accuracy: 0.7431 - precision_16: 0.8722 - recall_16: 0.5758 - val_loss: 1.1055 - val_accuracy: 0.5945 - val_precision_16: 0.7665 - val_recall_16: 0.4286\n",
            "Epoch 57/100\n",
            "407/407 [==============================] - 15s 36ms/step - loss: 0.7843 - accuracy: 0.7448 - precision_16: 0.8740 - recall_16: 0.5857 - val_loss: 1.1063 - val_accuracy: 0.5853 - val_precision_16: 0.7667 - val_recall_16: 0.4240\n",
            "Epoch 58/100\n",
            "407/407 [==============================] - 15s 36ms/step - loss: 0.7774 - accuracy: 0.7497 - precision_16: 0.8745 - recall_16: 0.5850 - val_loss: 1.1019 - val_accuracy: 0.5868 - val_precision_16: 0.7657 - val_recall_16: 0.4117\n",
            "Epoch 59/100\n",
            "407/407 [==============================] - 15s 36ms/step - loss: 0.7702 - accuracy: 0.7513 - precision_16: 0.8758 - recall_16: 0.5923 - val_loss: 1.0975 - val_accuracy: 0.5945 - val_precision_16: 0.7606 - val_recall_16: 0.4393\n",
            "Epoch 60/100\n",
            "407/407 [==============================] - 15s 36ms/step - loss: 0.7629 - accuracy: 0.7548 - precision_16: 0.8758 - recall_16: 0.6030 - val_loss: 1.1074 - val_accuracy: 0.5822 - val_precision_16: 0.7620 - val_recall_16: 0.4132\n",
            "Epoch 61/100\n",
            "407/407 [==============================] - 15s 36ms/step - loss: 0.7565 - accuracy: 0.7571 - precision_16: 0.8780 - recall_16: 0.6074 - val_loss: 1.0921 - val_accuracy: 0.6068 - val_precision_16: 0.7692 - val_recall_16: 0.4455\n",
            "Epoch 62/100\n",
            "407/407 [==============================] - 15s 36ms/step - loss: 0.7468 - accuracy: 0.7634 - precision_16: 0.8836 - recall_16: 0.6098 - val_loss: 1.0910 - val_accuracy: 0.5975 - val_precision_16: 0.7696 - val_recall_16: 0.4363\n",
            "Epoch 63/100\n",
            "407/407 [==============================] - 15s 36ms/step - loss: 0.7420 - accuracy: 0.7627 - precision_16: 0.8793 - recall_16: 0.6096 - val_loss: 1.0892 - val_accuracy: 0.5945 - val_precision_16: 0.7699 - val_recall_16: 0.4316\n",
            "Epoch 64/100\n",
            "407/407 [==============================] - 15s 36ms/step - loss: 0.7314 - accuracy: 0.7656 - precision_16: 0.8855 - recall_16: 0.6233 - val_loss: 1.0864 - val_accuracy: 0.5914 - val_precision_16: 0.7661 - val_recall_16: 0.4378\n",
            "Epoch 65/100\n",
            "407/407 [==============================] - 15s 36ms/step - loss: 0.7249 - accuracy: 0.7697 - precision_16: 0.8875 - recall_16: 0.6247 - val_loss: 1.0891 - val_accuracy: 0.5945 - val_precision_16: 0.7682 - val_recall_16: 0.4531\n",
            "Epoch 66/100\n",
            "407/407 [==============================] - 15s 37ms/step - loss: 0.7205 - accuracy: 0.7717 - precision_16: 0.8835 - recall_16: 0.6308 - val_loss: 1.0841 - val_accuracy: 0.5914 - val_precision_16: 0.7670 - val_recall_16: 0.4501\n",
            "Epoch 67/100\n",
            "407/407 [==============================] - 15s 37ms/step - loss: 0.7108 - accuracy: 0.7730 - precision_16: 0.8892 - recall_16: 0.6329 - val_loss: 1.0819 - val_accuracy: 0.6022 - val_precision_16: 0.7688 - val_recall_16: 0.4547\n",
            "Epoch 68/100\n",
            "407/407 [==============================] - 15s 37ms/step - loss: 0.7132 - accuracy: 0.7731 - precision_16: 0.8843 - recall_16: 0.6321 - val_loss: 1.0853 - val_accuracy: 0.5945 - val_precision_16: 0.7475 - val_recall_16: 0.4547\n",
            "Epoch 69/100\n",
            "407/407 [==============================] - 15s 37ms/step - loss: 0.7001 - accuracy: 0.7776 - precision_16: 0.8920 - recall_16: 0.6366 - val_loss: 1.0813 - val_accuracy: 0.5975 - val_precision_16: 0.7621 - val_recall_16: 0.4578\n",
            "Epoch 70/100\n",
            "407/407 [==============================] - 15s 37ms/step - loss: 0.6950 - accuracy: 0.7785 - precision_16: 0.8885 - recall_16: 0.6444 - val_loss: 1.0770 - val_accuracy: 0.5899 - val_precision_16: 0.7692 - val_recall_16: 0.4455\n",
            "Epoch 71/100\n",
            "407/407 [==============================] - 15s 37ms/step - loss: 0.6881 - accuracy: 0.7811 - precision_16: 0.8891 - recall_16: 0.6484 - val_loss: 1.0852 - val_accuracy: 0.5853 - val_precision_16: 0.7558 - val_recall_16: 0.4470\n",
            "Epoch 72/100\n",
            "407/407 [==============================] - 15s 36ms/step - loss: 0.6828 - accuracy: 0.7832 - precision_16: 0.8906 - recall_16: 0.6540 - val_loss: 1.0733 - val_accuracy: 0.5960 - val_precision_16: 0.7584 - val_recall_16: 0.4531\n",
            "Epoch 73/100\n",
            "407/407 [==============================] - 15s 36ms/step - loss: 0.6714 - accuracy: 0.7926 - precision_16: 0.8926 - recall_16: 0.6589 - val_loss: 1.0759 - val_accuracy: 0.5929 - val_precision_16: 0.7603 - val_recall_16: 0.4531\n",
            "Epoch 74/100\n",
            "407/407 [==============================] - 15s 37ms/step - loss: 0.6661 - accuracy: 0.7905 - precision_16: 0.8941 - recall_16: 0.6652 - val_loss: 1.0718 - val_accuracy: 0.5960 - val_precision_16: 0.7652 - val_recall_16: 0.4455\n",
            "Epoch 75/100\n",
            "407/407 [==============================] - 15s 36ms/step - loss: 0.6673 - accuracy: 0.7828 - precision_16: 0.8860 - recall_16: 0.6587 - val_loss: 1.0729 - val_accuracy: 0.5914 - val_precision_16: 0.7571 - val_recall_16: 0.4501\n",
            "Epoch 76/100\n",
            "407/407 [==============================] - 15s 37ms/step - loss: 0.6552 - accuracy: 0.7909 - precision_16: 0.8949 - recall_16: 0.6647 - val_loss: 1.0741 - val_accuracy: 0.5853 - val_precision_16: 0.7550 - val_recall_16: 0.4685\n",
            "Epoch 77/100\n",
            "407/407 [==============================] - 15s 36ms/step - loss: 0.6485 - accuracy: 0.7959 - precision_16: 0.8974 - recall_16: 0.6770 - val_loss: 1.0766 - val_accuracy: 0.5853 - val_precision_16: 0.7506 - val_recall_16: 0.4578\n",
            "Epoch 78/100\n",
            "407/407 [==============================] - 15s 36ms/step - loss: 0.6483 - accuracy: 0.7943 - precision_16: 0.8963 - recall_16: 0.6736 - val_loss: 1.0694 - val_accuracy: 0.5945 - val_precision_16: 0.7458 - val_recall_16: 0.4731\n",
            "Epoch 79/100\n",
            "407/407 [==============================] - 15s 37ms/step - loss: 0.6401 - accuracy: 0.7984 - precision_16: 0.8956 - recall_16: 0.6739 - val_loss: 1.0664 - val_accuracy: 0.6006 - val_precision_16: 0.7464 - val_recall_16: 0.4747\n",
            "Epoch 80/100\n",
            "407/407 [==============================] - 15s 36ms/step - loss: 0.6342 - accuracy: 0.8008 - precision_16: 0.8985 - recall_16: 0.6803 - val_loss: 1.0716 - val_accuracy: 0.5929 - val_precision_16: 0.7301 - val_recall_16: 0.4654\n",
            "Epoch 81/100\n",
            "407/407 [==============================] - 15s 36ms/step - loss: 0.6246 - accuracy: 0.8055 - precision_16: 0.8996 - recall_16: 0.6860 - val_loss: 1.0660 - val_accuracy: 0.5991 - val_precision_16: 0.7357 - val_recall_16: 0.4747\n",
            "Epoch 82/100\n",
            "407/407 [==============================] - 15s 36ms/step - loss: 0.6266 - accuracy: 0.8049 - precision_16: 0.8945 - recall_16: 0.6882 - val_loss: 1.0643 - val_accuracy: 0.6006 - val_precision_16: 0.7362 - val_recall_16: 0.4716\n",
            "Epoch 83/100\n",
            "407/407 [==============================] - 15s 36ms/step - loss: 0.6140 - accuracy: 0.8091 - precision_16: 0.9042 - recall_16: 0.6987 - val_loss: 1.0651 - val_accuracy: 0.5975 - val_precision_16: 0.7314 - val_recall_16: 0.4685\n",
            "Epoch 84/100\n",
            "407/407 [==============================] - 15s 37ms/step - loss: 0.6095 - accuracy: 0.8092 - precision_16: 0.9007 - recall_16: 0.6984 - val_loss: 1.0657 - val_accuracy: 0.6037 - val_precision_16: 0.7324 - val_recall_16: 0.4793\n",
            "Epoch 85/100\n",
            "407/407 [==============================] - 15s 37ms/step - loss: 0.6046 - accuracy: 0.8111 - precision_16: 0.9016 - recall_16: 0.7041 - val_loss: 1.0694 - val_accuracy: 0.5914 - val_precision_16: 0.7284 - val_recall_16: 0.4654\n",
            "Epoch 86/100\n",
            "407/407 [==============================] - 15s 36ms/step - loss: 0.5963 - accuracy: 0.8165 - precision_16: 0.9026 - recall_16: 0.7054 - val_loss: 1.0634 - val_accuracy: 0.5991 - val_precision_16: 0.7322 - val_recall_16: 0.4747\n",
            "Epoch 87/100\n",
            "407/407 [==============================] - 15s 37ms/step - loss: 0.5970 - accuracy: 0.8144 - precision_16: 0.9017 - recall_16: 0.7061 - val_loss: 1.0675 - val_accuracy: 0.5991 - val_precision_16: 0.7285 - val_recall_16: 0.4823\n",
            "Epoch 88/100\n",
            "407/407 [==============================] - 15s 37ms/step - loss: 0.5853 - accuracy: 0.8167 - precision_16: 0.9056 - recall_16: 0.7097 - val_loss: 1.0638 - val_accuracy: 0.6006 - val_precision_16: 0.7288 - val_recall_16: 0.4747\n",
            "Epoch 89/100\n",
            "407/407 [==============================] - 15s 37ms/step - loss: 0.5924 - accuracy: 0.8155 - precision_16: 0.9030 - recall_16: 0.7107 - val_loss: 1.0586 - val_accuracy: 0.6068 - val_precision_16: 0.7309 - val_recall_16: 0.4839\n",
            "Epoch 90/100\n",
            "407/407 [==============================] - 15s 37ms/step - loss: 0.5800 - accuracy: 0.8194 - precision_16: 0.9060 - recall_16: 0.7153 - val_loss: 1.0681 - val_accuracy: 0.6068 - val_precision_16: 0.7189 - val_recall_16: 0.4793\n",
            "Epoch 91/100\n",
            "407/407 [==============================] - 15s 37ms/step - loss: 0.5706 - accuracy: 0.8214 - precision_16: 0.9059 - recall_16: 0.7222 - val_loss: 1.0651 - val_accuracy: 0.5991 - val_precision_16: 0.7227 - val_recall_16: 0.4885\n",
            "Epoch 92/100\n",
            "407/407 [==============================] - 15s 37ms/step - loss: 0.5665 - accuracy: 0.8237 - precision_16: 0.9069 - recall_16: 0.7226 - val_loss: 1.0668 - val_accuracy: 0.5975 - val_precision_16: 0.7260 - val_recall_16: 0.4762\n",
            "Epoch 93/100\n",
            "407/407 [==============================] - 16s 38ms/step - loss: 0.5649 - accuracy: 0.8248 - precision_16: 0.9057 - recall_16: 0.7250 - val_loss: 1.0649 - val_accuracy: 0.6052 - val_precision_16: 0.7227 - val_recall_16: 0.4885\n",
            "Epoch 94/100\n",
            "407/407 [==============================] - 15s 37ms/step - loss: 0.5586 - accuracy: 0.8273 - precision_16: 0.9091 - recall_16: 0.7301 - val_loss: 1.0642 - val_accuracy: 0.6068 - val_precision_16: 0.7198 - val_recall_16: 0.4854\n",
            "82/82 [==============================] - 1s 10ms/step - loss: 1.0767 - accuracy: 0.6256 - precision_16: 0.7433 - recall_16: 0.4981\n",
            "Loss: 1.08, Accuracy: 0.63\n"
          ]
        }
      ]
    },
    {
      "cell_type": "markdown",
      "source": [
        "Loss: 1.08, Accuracy: 0.63, Precision: 0.74, Recall: 0.50.\n",
        "\n",
        "Il modello non subisce notevoli cambiamenti, infatti l'accuracy rimane pressoché la stessa."
      ],
      "metadata": {
        "id": "ajntLyWg4SG_"
      }
    },
    {
      "cell_type": "markdown",
      "source": [
        "## Sesta prova\n",
        "\n",
        "In questa prova proviamo a migliorare la precisione andando ad aggiungere dei layer Convoluzionalie un layer di normalizzazione."
      ],
      "metadata": {
        "id": "Bt7ixulY1BQZ"
      }
    },
    {
      "cell_type": "code",
      "source": [
        "text_input = layers.Input(shape=text_padded.shape[1], dtype=tf.int32)\n",
        "embedding_layer = layers.Embedding(input_dim=max_words, output_dim=8, input_length=text_padded.shape[1])(text_input)\n",
        "text_flatten = layers.Flatten()(embedding_layer)\n",
        "nl = layers.Normalization()(text_flatten)\n",
        "\n",
        "image_input = layers.Input(shape=(48, 48, 1))\n",
        "conv_layer = layers.Conv2D(32, (3, 3), activation='relu')(image_input)\n",
        "pooling_layer1 = layers.MaxPooling2D((2, 2))(conv_layer)\n",
        "conv_layer2 = layers.Conv2D(24, (3, 3), activation='relu')(pooling_layer1)\n",
        "pooling_layer2 = layers.MaxPooling2D((2, 2))(conv_layer2)\n",
        "image_flatten = layers.Flatten()(pooling_layer2)\n",
        "\n",
        "concatenated = layers.Concatenate()([image_flatten, nl])\n",
        "dropout_layer = layers.Dropout(0.5)(concatenated)\n",
        "output_layer = layers.Dense(len(label_encoder.classes_), activation='softmax')(dropout_layer)\n",
        "\n",
        "optimizer = Adam(learning_rate=0.001)\n",
        "model = models.Model(inputs=[text_input, image_input], outputs=output_layer)\n",
        "model.compile(optimizer=optimizer, loss='categorical_crossentropy', metrics=['accuracy', metrics.Precision(), metrics.Recall()])\n",
        "model.summary()"
      ],
      "metadata": {
        "colab": {
          "base_uri": "https://localhost:8080/"
        },
        "id": "uCPmWKSpKR2R",
        "outputId": "39deb07b-9f87-4ab2-e8d1-484110da76db"
      },
      "execution_count": null,
      "outputs": [
        {
          "output_type": "stream",
          "name": "stdout",
          "text": [
            "Model: \"model_2\"\n",
            "__________________________________________________________________________________________________\n",
            " Layer (type)                Output Shape                 Param #   Connected to                  \n",
            "==================================================================================================\n",
            " input_6 (InputLayer)        [(None, 48, 48, 1)]          0         []                            \n",
            "                                                                                                  \n",
            " conv2d_2 (Conv2D)           (None, 46, 46, 32)           320       ['input_6[0][0]']             \n",
            "                                                                                                  \n",
            " max_pooling2d_2 (MaxPoolin  (None, 23, 23, 32)           0         ['conv2d_2[0][0]']            \n",
            " g2D)                                                                                             \n",
            "                                                                                                  \n",
            " input_5 (InputLayer)        [(None, 34)]                 0         []                            \n",
            "                                                                                                  \n",
            " conv2d_3 (Conv2D)           (None, 21, 21, 24)           6936      ['max_pooling2d_2[0][0]']     \n",
            "                                                                                                  \n",
            " embedding_1 (Embedding)     (None, 34, 8)                160000    ['input_5[0][0]']             \n",
            "                                                                                                  \n",
            " max_pooling2d_3 (MaxPoolin  (None, 10, 10, 24)           0         ['conv2d_3[0][0]']            \n",
            " g2D)                                                                                             \n",
            "                                                                                                  \n",
            " flatten_3 (Flatten)         (None, 272)                  0         ['embedding_1[0][0]']         \n",
            "                                                                                                  \n",
            " flatten_4 (Flatten)         (None, 2400)                 0         ['max_pooling2d_3[0][0]']     \n",
            "                                                                                                  \n",
            " normalization_1 (Normaliza  (None, 272)                  545       ['flatten_3[0][0]']           \n",
            " tion)                                                                                            \n",
            "                                                                                                  \n",
            " concatenate_2 (Concatenate  (None, 2672)                 0         ['flatten_4[0][0]',           \n",
            " )                                                                   'normalization_1[0][0]']     \n",
            "                                                                                                  \n",
            " dropout_2 (Dropout)         (None, 2672)                 0         ['concatenate_2[0][0]']       \n",
            "                                                                                                  \n",
            " dense_5 (Dense)             (None, 7)                    18711     ['dropout_2[0][0]']           \n",
            "                                                                                                  \n",
            "==================================================================================================\n",
            "Total params: 186512 (728.57 KB)\n",
            "Trainable params: 185967 (726.43 KB)\n",
            "Non-trainable params: 545 (2.13 KB)\n",
            "__________________________________________________________________________________________________\n"
          ]
        }
      ]
    },
    {
      "cell_type": "code",
      "source": [
        "model.fit([text_train, image_train], emotion_train, epochs=EPOCH, validation_data=([text_val, image_val], emotion_val), callbacks=[checkpoint_callback, early_stopping_callback])\n",
        "\n",
        "evaluation_results = model.evaluate([text_test, image_test], emotion_test)\n",
        "print(f\"Loss: {round(evaluation_results[0], 2)}, Accuracy: {round(evaluation_results[1], 2)}\")"
      ],
      "metadata": {
        "colab": {
          "base_uri": "https://localhost:8080/"
        },
        "id": "W32fE55iKYxm",
        "outputId": "2e89a284-4312-487f-e836-f1b1dcaaeb87"
      },
      "execution_count": null,
      "outputs": [
        {
          "output_type": "stream",
          "name": "stdout",
          "text": [
            "Epoch 1/100\n",
            "638/638 [==============================] - 26s 35ms/step - loss: 1.5830 - accuracy: 0.3796 - precision_1: 0.6950 - recall_1: 0.0597 - val_loss: 1.3893 - val_accuracy: 0.5029 - val_precision_1: 0.7263 - val_recall_1: 0.2195\n",
            "Epoch 2/100\n",
            "638/638 [==============================] - 5s 8ms/step - loss: 1.3032 - accuracy: 0.5336 - precision_1: 0.7678 - recall_1: 0.2599 - val_loss: 1.1875 - val_accuracy: 0.5962 - val_precision_1: 0.7903 - val_recall_1: 0.3457\n",
            "Epoch 3/100\n",
            "638/638 [==============================] - 6s 9ms/step - loss: 1.1335 - accuracy: 0.6008 - precision_1: 0.7883 - recall_1: 0.3772 - val_loss: 1.0880 - val_accuracy: 0.6343 - val_precision_1: 0.8280 - val_recall_1: 0.3849\n",
            "Epoch 4/100\n",
            "638/638 [==============================] - 4s 7ms/step - loss: 1.0175 - accuracy: 0.6485 - precision_1: 0.8121 - recall_1: 0.4602 - val_loss: 1.0358 - val_accuracy: 0.6390 - val_precision_1: 0.7887 - val_recall_1: 0.4551\n",
            "Epoch 5/100\n",
            "638/638 [==============================] - 5s 7ms/step - loss: 0.9289 - accuracy: 0.6830 - precision_1: 0.8166 - recall_1: 0.5213 - val_loss: 0.9716 - val_accuracy: 0.6680 - val_precision_1: 0.8046 - val_recall_1: 0.4955\n",
            "Epoch 6/100\n",
            "638/638 [==============================] - 6s 9ms/step - loss: 0.8578 - accuracy: 0.7098 - precision_1: 0.8306 - recall_1: 0.5704 - val_loss: 0.9374 - val_accuracy: 0.6641 - val_precision_1: 0.8013 - val_recall_1: 0.5280\n",
            "Epoch 7/100\n",
            "638/638 [==============================] - 4s 6ms/step - loss: 0.7912 - accuracy: 0.7319 - precision_1: 0.8431 - recall_1: 0.6083 - val_loss: 0.9246 - val_accuracy: 0.6758 - val_precision_1: 0.7949 - val_recall_1: 0.5347\n",
            "Epoch 8/100\n",
            "638/638 [==============================] - 4s 6ms/step - loss: 0.7471 - accuracy: 0.7521 - precision_1: 0.8439 - recall_1: 0.6364 - val_loss: 0.9127 - val_accuracy: 0.6758 - val_precision_1: 0.7929 - val_recall_1: 0.5508\n",
            "Epoch 9/100\n",
            "638/638 [==============================] - 6s 9ms/step - loss: 0.6842 - accuracy: 0.7714 - precision_1: 0.8592 - recall_1: 0.6691 - val_loss: 0.9202 - val_accuracy: 0.6750 - val_precision_1: 0.7829 - val_recall_1: 0.5300\n",
            "Epoch 10/100\n",
            "638/638 [==============================] - 4s 6ms/step - loss: 0.6409 - accuracy: 0.7827 - precision_1: 0.8653 - recall_1: 0.6934 - val_loss: 0.8917 - val_accuracy: 0.6778 - val_precision_1: 0.7774 - val_recall_1: 0.5708\n",
            "Epoch 11/100\n",
            "638/638 [==============================] - 4s 6ms/step - loss: 0.6160 - accuracy: 0.7962 - precision_1: 0.8686 - recall_1: 0.7091 - val_loss: 0.9057 - val_accuracy: 0.6778 - val_precision_1: 0.7534 - val_recall_1: 0.5904\n",
            "Epoch 12/100\n",
            "638/638 [==============================] - 5s 8ms/step - loss: 0.5771 - accuracy: 0.8066 - precision_1: 0.8772 - recall_1: 0.7293 - val_loss: 0.9060 - val_accuracy: 0.6778 - val_precision_1: 0.7603 - val_recall_1: 0.5696\n",
            "Epoch 13/100\n",
            "638/638 [==============================] - 5s 7ms/step - loss: 0.5513 - accuracy: 0.8188 - precision_1: 0.8806 - recall_1: 0.7456 - val_loss: 0.8992 - val_accuracy: 0.6797 - val_precision_1: 0.7675 - val_recall_1: 0.5770\n",
            "Epoch 14/100\n",
            "638/638 [==============================] - 4s 6ms/step - loss: 0.5229 - accuracy: 0.8277 - precision_1: 0.8850 - recall_1: 0.7614 - val_loss: 0.9104 - val_accuracy: 0.6727 - val_precision_1: 0.7630 - val_recall_1: 0.5692\n",
            "Epoch 15/100\n",
            "638/638 [==============================] - 6s 9ms/step - loss: 0.4953 - accuracy: 0.8354 - precision_1: 0.8921 - recall_1: 0.7744 - val_loss: 0.9206 - val_accuracy: 0.6789 - val_precision_1: 0.7603 - val_recall_1: 0.5931\n",
            "80/80 [==============================] - 0s 5ms/step - loss: 0.8773 - accuracy: 0.6839 - precision_1: 0.7859 - recall_1: 0.5714\n",
            "Loss: 0.88, Accuracy: 0.68\n"
          ]
        }
      ]
    },
    {
      "cell_type": "markdown",
      "source": [
        "Loss: 0.88, Accuracy: 0.68, Precision: 0.79, Recall: 0.57.\n"
      ],
      "metadata": {
        "id": "jTh7EvR83z9h"
      }
    },
    {
      "cell_type": "markdown",
      "source": [
        "# Modello con nuovi parametri"
      ],
      "metadata": {
        "id": "kT-GW089f61y"
      }
    },
    {
      "cell_type": "markdown",
      "source": [
        "In questo modello abbiamo aumentato il learning rate  "
      ],
      "metadata": {
        "id": "UTztf2W6A2-S"
      }
    },
    {
      "cell_type": "code",
      "source": [
        "optimizer = Adam(learning_rate=0.0005)\n",
        "model.compile(optimizer=optimizer, loss='categorical_crossentropy', metrics=['accuracy', metrics.Precision(), metrics.Recall()])\n",
        "model.summary()"
      ],
      "metadata": {
        "colab": {
          "base_uri": "https://localhost:8080/"
        },
        "id": "DWtHcA7RgJJr",
        "outputId": "98b22d53-f776-4f5b-cdce-327ce49b06c1"
      },
      "execution_count": null,
      "outputs": [
        {
          "output_type": "stream",
          "name": "stdout",
          "text": [
            "Model: \"model_2\"\n",
            "__________________________________________________________________________________________________\n",
            " Layer (type)                Output Shape                 Param #   Connected to                  \n",
            "==================================================================================================\n",
            " input_6 (InputLayer)        [(None, 48, 48, 1)]          0         []                            \n",
            "                                                                                                  \n",
            " conv2d_2 (Conv2D)           (None, 46, 46, 32)           320       ['input_6[0][0]']             \n",
            "                                                                                                  \n",
            " max_pooling2d_2 (MaxPoolin  (None, 23, 23, 32)           0         ['conv2d_2[0][0]']            \n",
            " g2D)                                                                                             \n",
            "                                                                                                  \n",
            " input_5 (InputLayer)        [(None, 34)]                 0         []                            \n",
            "                                                                                                  \n",
            " conv2d_3 (Conv2D)           (None, 21, 21, 24)           6936      ['max_pooling2d_2[0][0]']     \n",
            "                                                                                                  \n",
            " embedding_1 (Embedding)     (None, 34, 8)                160000    ['input_5[0][0]']             \n",
            "                                                                                                  \n",
            " max_pooling2d_3 (MaxPoolin  (None, 10, 10, 24)           0         ['conv2d_3[0][0]']            \n",
            " g2D)                                                                                             \n",
            "                                                                                                  \n",
            " flatten_3 (Flatten)         (None, 272)                  0         ['embedding_1[0][0]']         \n",
            "                                                                                                  \n",
            " flatten_4 (Flatten)         (None, 2400)                 0         ['max_pooling2d_3[0][0]']     \n",
            "                                                                                                  \n",
            " normalization_1 (Normaliza  (None, 272)                  545       ['flatten_3[0][0]']           \n",
            " tion)                                                                                            \n",
            "                                                                                                  \n",
            " concatenate_2 (Concatenate  (None, 2672)                 0         ['flatten_4[0][0]',           \n",
            " )                                                                   'normalization_1[0][0]']     \n",
            "                                                                                                  \n",
            " dropout_2 (Dropout)         (None, 2672)                 0         ['concatenate_2[0][0]']       \n",
            "                                                                                                  \n",
            " dense_5 (Dense)             (None, 7)                    18711     ['dropout_2[0][0]']           \n",
            "                                                                                                  \n",
            "==================================================================================================\n",
            "Total params: 186512 (728.57 KB)\n",
            "Trainable params: 185967 (726.43 KB)\n",
            "Non-trainable params: 545 (2.13 KB)\n",
            "__________________________________________________________________________________________________\n"
          ]
        }
      ]
    },
    {
      "cell_type": "code",
      "source": [
        "model.fit([text_train, image_train], emotion_train, epochs=EPOCH, validation_data=([text_val, image_val], emotion_val), callbacks=[checkpoint_callback, early_stopping_callback])\n",
        "\n",
        "evaluation_results = model.evaluate([text_test, image_test], emotion_test)\n",
        "print(f\"Loss: {round(evaluation_results[0], 2)}, Accuracy: {round(evaluation_results[1], 2)}\")"
      ],
      "metadata": {
        "colab": {
          "base_uri": "https://localhost:8080/"
        },
        "id": "q2f1yBu2gTy1",
        "outputId": "a457d936-cf40-43fc-c082-3ff1b6bb3436"
      },
      "execution_count": null,
      "outputs": [
        {
          "output_type": "stream",
          "name": "stdout",
          "text": [
            "Epoch 1/100\n",
            "638/638 [==============================] - 16s 23ms/step - loss: 1.6264 - accuracy: 0.3550 - precision_4: 0.6384 - recall_4: 0.0292 - val_loss: 1.5124 - val_accuracy: 0.4559 - val_precision_4: 0.7071 - val_recall_4: 0.0662\n",
            "Epoch 2/100\n",
            "638/638 [==============================] - 5s 7ms/step - loss: 1.4511 - accuracy: 0.4637 - precision_4: 0.7161 - recall_4: 0.1561 - val_loss: 1.3478 - val_accuracy: 0.5257 - val_precision_4: 0.8046 - val_recall_4: 0.2066\n",
            "Epoch 3/100\n",
            "638/638 [==============================] - 5s 8ms/step - loss: 1.3167 - accuracy: 0.5249 - precision_4: 0.7623 - recall_4: 0.2496 - val_loss: 1.2330 - val_accuracy: 0.5809 - val_precision_4: 0.8140 - val_recall_4: 0.2830\n",
            "Epoch 4/100\n",
            "638/638 [==============================] - 4s 6ms/step - loss: 1.1988 - accuracy: 0.5770 - precision_4: 0.7909 - recall_4: 0.3286 - val_loss: 1.1579 - val_accuracy: 0.6013 - val_precision_4: 0.8154 - val_recall_4: 0.3603\n",
            "Epoch 5/100\n",
            "638/638 [==============================] - 4s 6ms/step - loss: 1.1186 - accuracy: 0.6126 - precision_4: 0.7931 - recall_4: 0.3845 - val_loss: 1.1280 - val_accuracy: 0.6053 - val_precision_4: 0.7635 - val_recall_4: 0.4390\n",
            "Epoch 6/100\n",
            "638/638 [==============================] - 5s 8ms/step - loss: 1.0572 - accuracy: 0.6343 - precision_4: 0.8053 - recall_4: 0.4306 - val_loss: 1.0625 - val_accuracy: 0.6409 - val_precision_4: 0.8128 - val_recall_4: 0.4324\n",
            "Epoch 7/100\n",
            "638/638 [==============================] - 4s 6ms/step - loss: 0.9941 - accuracy: 0.6587 - precision_4: 0.8210 - recall_4: 0.4717 - val_loss: 1.0326 - val_accuracy: 0.6480 - val_precision_4: 0.8173 - val_recall_4: 0.4488\n",
            "Epoch 8/100\n",
            "638/638 [==============================] - 4s 6ms/step - loss: 0.9515 - accuracy: 0.6779 - precision_4: 0.8249 - recall_4: 0.5016 - val_loss: 1.0116 - val_accuracy: 0.6507 - val_precision_4: 0.8011 - val_recall_4: 0.4782\n",
            "Epoch 9/100\n",
            "638/638 [==============================] - 5s 8ms/step - loss: 0.9031 - accuracy: 0.6944 - precision_4: 0.8336 - recall_4: 0.5353 - val_loss: 0.9897 - val_accuracy: 0.6539 - val_precision_4: 0.8010 - val_recall_4: 0.4939\n",
            "Epoch 10/100\n",
            "638/638 [==============================] - 4s 6ms/step - loss: 0.8614 - accuracy: 0.7134 - precision_4: 0.8394 - recall_4: 0.5596 - val_loss: 0.9771 - val_accuracy: 0.6590 - val_precision_4: 0.8020 - val_recall_4: 0.4924\n",
            "Epoch 11/100\n",
            "638/638 [==============================] - 4s 6ms/step - loss: 0.8291 - accuracy: 0.7243 - precision_4: 0.8448 - recall_4: 0.5791 - val_loss: 0.9617 - val_accuracy: 0.6597 - val_precision_4: 0.8010 - val_recall_4: 0.5237\n",
            "Epoch 12/100\n",
            "638/638 [==============================] - 5s 7ms/step - loss: 0.7943 - accuracy: 0.7363 - precision_4: 0.8475 - recall_4: 0.6029 - val_loss: 0.9507 - val_accuracy: 0.6586 - val_precision_4: 0.7855 - val_recall_4: 0.5355\n",
            "Epoch 13/100\n",
            "638/638 [==============================] - 4s 7ms/step - loss: 0.7610 - accuracy: 0.7463 - precision_4: 0.8528 - recall_4: 0.6232 - val_loss: 0.9416 - val_accuracy: 0.6652 - val_precision_4: 0.8016 - val_recall_4: 0.5241\n",
            "Epoch 14/100\n",
            "638/638 [==============================] - 4s 6ms/step - loss: 0.7346 - accuracy: 0.7576 - precision_4: 0.8568 - recall_4: 0.6427 - val_loss: 0.9305 - val_accuracy: 0.6746 - val_precision_4: 0.7931 - val_recall_4: 0.5425\n",
            "Epoch 15/100\n",
            "638/638 [==============================] - 5s 7ms/step - loss: 0.7032 - accuracy: 0.7710 - precision_4: 0.8649 - recall_4: 0.6591 - val_loss: 0.9297 - val_accuracy: 0.6742 - val_precision_4: 0.7989 - val_recall_4: 0.5327\n",
            "Epoch 16/100\n",
            "638/638 [==============================] - 5s 8ms/step - loss: 0.6750 - accuracy: 0.7785 - precision_4: 0.8723 - recall_4: 0.6750 - val_loss: 0.9252 - val_accuracy: 0.6739 - val_precision_4: 0.7857 - val_recall_4: 0.5374\n",
            "Epoch 17/100\n",
            "638/638 [==============================] - 4s 6ms/step - loss: 0.6550 - accuracy: 0.7864 - precision_4: 0.8698 - recall_4: 0.6885 - val_loss: 0.9083 - val_accuracy: 0.6805 - val_precision_4: 0.7989 - val_recall_4: 0.5512\n",
            "Epoch 18/100\n",
            "638/638 [==============================] - 5s 8ms/step - loss: 0.6304 - accuracy: 0.7958 - precision_4: 0.8775 - recall_4: 0.7020 - val_loss: 0.9117 - val_accuracy: 0.6742 - val_precision_4: 0.7858 - val_recall_4: 0.5566\n",
            "Epoch 19/100\n",
            "638/638 [==============================] - 4s 6ms/step - loss: 0.6068 - accuracy: 0.7974 - precision_4: 0.8785 - recall_4: 0.7100 - val_loss: 0.9097 - val_accuracy: 0.6758 - val_precision_4: 0.7729 - val_recall_4: 0.5696\n",
            "Epoch 20/100\n",
            "638/638 [==============================] - 4s 6ms/step - loss: 0.5898 - accuracy: 0.8090 - precision_4: 0.8810 - recall_4: 0.7240 - val_loss: 0.8986 - val_accuracy: 0.6793 - val_precision_4: 0.7793 - val_recall_4: 0.5731\n",
            "Epoch 21/100\n",
            "638/638 [==============================] - 4s 7ms/step - loss: 0.5702 - accuracy: 0.8128 - precision_4: 0.8865 - recall_4: 0.7343 - val_loss: 0.9047 - val_accuracy: 0.6731 - val_precision_4: 0.7659 - val_recall_4: 0.5860\n",
            "Epoch 22/100\n",
            "638/638 [==============================] - 4s 6ms/step - loss: 0.5528 - accuracy: 0.8183 - precision_4: 0.8902 - recall_4: 0.7461 - val_loss: 0.9076 - val_accuracy: 0.6735 - val_precision_4: 0.7672 - val_recall_4: 0.5813\n",
            "Epoch 23/100\n",
            "638/638 [==============================] - 4s 6ms/step - loss: 0.5392 - accuracy: 0.8203 - precision_4: 0.8892 - recall_4: 0.7472 - val_loss: 0.8938 - val_accuracy: 0.6797 - val_precision_4: 0.7730 - val_recall_4: 0.5806\n",
            "Epoch 24/100\n",
            "638/638 [==============================] - 5s 7ms/step - loss: 0.5212 - accuracy: 0.8320 - precision_4: 0.8958 - recall_4: 0.7608 - val_loss: 0.9061 - val_accuracy: 0.6735 - val_precision_4: 0.7729 - val_recall_4: 0.5762\n",
            "Epoch 25/100\n",
            "638/638 [==============================] - 5s 7ms/step - loss: 0.5098 - accuracy: 0.8322 - precision_4: 0.8937 - recall_4: 0.7656 - val_loss: 0.9146 - val_accuracy: 0.6762 - val_precision_4: 0.7527 - val_recall_4: 0.5919\n",
            "Epoch 26/100\n",
            "638/638 [==============================] - 4s 6ms/step - loss: 0.4829 - accuracy: 0.8421 - precision_4: 0.9008 - recall_4: 0.7812 - val_loss: 0.9098 - val_accuracy: 0.6762 - val_precision_4: 0.7620 - val_recall_4: 0.5860\n",
            "Epoch 27/100\n",
            "638/638 [==============================] - 5s 7ms/step - loss: 0.4816 - accuracy: 0.8401 - precision_4: 0.8960 - recall_4: 0.7791 - val_loss: 0.9132 - val_accuracy: 0.6723 - val_precision_4: 0.7538 - val_recall_4: 0.5966\n",
            "Epoch 28/100\n",
            "638/638 [==============================] - 5s 7ms/step - loss: 0.4678 - accuracy: 0.8473 - precision_4: 0.9029 - recall_4: 0.7854 - val_loss: 0.9168 - val_accuracy: 0.6680 - val_precision_4: 0.7618 - val_recall_4: 0.5806\n",
            "80/80 [==============================] - 0s 4ms/step - loss: 0.8812 - accuracy: 0.6922 - precision_4: 0.7824 - recall_4: 0.5808\n",
            "Loss: 0.88, Accuracy: 0.69\n"
          ]
        }
      ]
    },
    {
      "cell_type": "markdown",
      "source": [
        "Loss: 0.88, Accuracy: 0.69, Precision: 0.78, Recall: 0.58."
      ],
      "metadata": {
        "id": "yI_0Fy6l9vi_"
      }
    },
    {
      "cell_type": "markdown",
      "source": [
        "## Modello con testi randomici\n",
        "In questa parte si vuole provare ad usare un dataset dove i testi sono stati mischiati in modo randomico e quindi non sono legati all'emozione, che invece rimane collegata all'immagine."
      ],
      "metadata": {
        "id": "3v4y0LP4ExQW"
      }
    },
    {
      "cell_type": "code",
      "source": [
        "file_path = \"/content/data/processed/text_image_emotion_random.csv\"\n",
        "data = load_data(file_path)\n",
        "texts = [entry['text'] for entry in data]\n",
        "images = np.array([entry['image_data'] for entry in data])\n",
        "emotions = [entry['emotion'] for entry in data]\n",
        "\n",
        "def show_data(i):\n",
        "  print(\"\\nDati con indice\", i)\n",
        "  plt.imshow(images[i],cmap = plt.cm.gray)\n",
        "  plt.show()\n",
        "  print(\"Testo associato:\", texts[i])\n",
        "  print(\"Emozione:\", emotions[i])\n",
        "\n",
        "i = 12345\n",
        "show_data(i)\n",
        "\n",
        "max_words = 20000\n",
        "tokenizer = Tokenizer(num_words=max_words, oov_token='<OOV>')\n",
        "tokenizer.fit_on_texts(texts)\n",
        "text_sequences = tokenizer.texts_to_sequences(texts)\n",
        "text_padded = pad_sequences(text_sequences, padding='post')\n",
        "\n",
        "text_train, text_test_temp, image_train, image_test_temp, emotion_train, emotion_test_temp = train_test_split(\n",
        "    text_padded, images, categorical_emotions, test_size=0.2, random_state=42\n",
        ")\n",
        "\n",
        "text_test, text_val, image_test, image_val, emotion_test, emotion_val = train_test_split(\n",
        "    text_test_temp, image_test_temp, emotion_test_temp, test_size=0.5, random_state=42\n",
        ")"
      ],
      "metadata": {
        "colab": {
          "base_uri": "https://localhost:8080/",
          "height": 500
        },
        "id": "Ced0QJw2Evf2",
        "outputId": "6cd5f519-cba8-48d7-f256-5b5088b75f40"
      },
      "execution_count": null,
      "outputs": [
        {
          "output_type": "stream",
          "name": "stdout",
          "text": [
            "\n",
            "Dati con indice 12345\n"
          ]
        },
        {
          "output_type": "display_data",
          "data": {
            "text/plain": [
              "<Figure size 640x480 with 1 Axes>"
            ],
            "image/png": "[encoded data removed]"
          },
          "metadata": {}
        },
        {
          "output_type": "stream",
          "name": "stdout",
          "text": [
            "Testo associato: I want it!\n",
            "Emozione: fear\n"
          ]
        }
      ]
    },
    {
      "cell_type": "markdown",
      "source": [
        "Adesso vediamo come si comporta con l'ultimo modello creato."
      ],
      "metadata": {
        "id": "BIGYi4ALGD2Z"
      }
    },
    {
      "cell_type": "code",
      "source": [
        "text_input = layers.Input(shape=text_padded.shape[1], dtype=tf.int32)\n",
        "embedding_layer = layers.Embedding(input_dim=max_words, output_dim=8, input_length=text_padded.shape[1])(text_input)\n",
        "text_flatten = layers.Flatten()(embedding_layer)\n",
        "nl = layers.Normalization()(text_flatten)\n",
        "\n",
        "image_input = layers.Input(shape=(48, 48, 1))\n",
        "conv_layer = layers.Conv2D(32, (3, 3), activation='relu')(image_input)\n",
        "pooling_layer1 = layers.MaxPooling2D((2, 2))(conv_layer)\n",
        "conv_layer2 = layers.Conv2D(24, (3, 3), activation='relu')(pooling_layer1)\n",
        "pooling_layer2 = layers.MaxPooling2D((2, 2))(conv_layer2)\n",
        "image_flatten = layers.Flatten()(pooling_layer2)\n",
        "\n",
        "concatenated = layers.Concatenate()([image_flatten, nl])\n",
        "dropout_layer = layers.Dropout(0.5)(concatenated)\n",
        "output_layer = layers.Dense(len(label_encoder.classes_), activation='softmax')(dropout_layer)\n",
        "\n",
        "optimizer = Adam(learning_rate=0.0001)\n",
        "model = models.Model(inputs=[text_input, image_input], outputs=output_layer)\n",
        "model.compile(optimizer=optimizer, loss='categorical_crossentropy', metrics=['accuracy',  metrics.Precision(), metrics.Recall()])\n",
        "model.summary()"
      ],
      "metadata": {
        "colab": {
          "base_uri": "https://localhost:8080/"
        },
        "id": "fi9ceODFGJ7o",
        "outputId": "165eefe8-a1a0-4c48-c242-da398073afd3"
      },
      "execution_count": null,
      "outputs": [
        {
          "output_type": "stream",
          "name": "stdout",
          "text": [
            "Model: \"model_11\"\n",
            "__________________________________________________________________________________________________\n",
            " Layer (type)                Output Shape                 Param #   Connected to                  \n",
            "==================================================================================================\n",
            " input_24 (InputLayer)       [(None, 48, 48, 1)]          0         []                            \n",
            "                                                                                                  \n",
            " conv2d_14 (Conv2D)          (None, 46, 46, 32)           320       ['input_24[0][0]']            \n",
            "                                                                                                  \n",
            " max_pooling2d_14 (MaxPooli  (None, 23, 23, 32)           0         ['conv2d_14[0][0]']           \n",
            " ng2D)                                                                                            \n",
            "                                                                                                  \n",
            " input_23 (InputLayer)       [(None, 142)]                0         []                            \n",
            "                                                                                                  \n",
            " conv2d_15 (Conv2D)          (None, 21, 21, 24)           6936      ['max_pooling2d_14[0][0]']    \n",
            "                                                                                                  \n",
            " embedding_7 (Embedding)     (None, 142, 8)               160000    ['input_23[0][0]']            \n",
            "                                                                                                  \n",
            " max_pooling2d_15 (MaxPooli  (None, 10, 10, 24)           0         ['conv2d_15[0][0]']           \n",
            " ng2D)                                                                                            \n",
            "                                                                                                  \n",
            " flatten_18 (Flatten)        (None, 1136)                 0         ['embedding_7[0][0]']         \n",
            "                                                                                                  \n",
            " flatten_19 (Flatten)        (None, 2400)                 0         ['max_pooling2d_15[0][0]']    \n",
            "                                                                                                  \n",
            " normalization_7 (Normaliza  (None, 1136)                 2273      ['flatten_18[0][0]']          \n",
            " tion)                                                                                            \n",
            "                                                                                                  \n",
            " concatenate_11 (Concatenat  (None, 3536)                 0         ['flatten_19[0][0]',          \n",
            " e)                                                                  'normalization_7[0][0]']     \n",
            "                                                                                                  \n",
            " dropout_11 (Dropout)        (None, 3536)                 0         ['concatenate_11[0][0]']      \n",
            "                                                                                                  \n",
            " dense_23 (Dense)            (None, 10)                   35370     ['dropout_11[0][0]']          \n",
            "                                                                                                  \n",
            "==================================================================================================\n",
            "Total params: 204899 (800.39 KB)\n",
            "Trainable params: 202626 (791.51 KB)\n",
            "Non-trainable params: 2273 (8.88 KB)\n",
            "__________________________________________________________________________________________________\n"
          ]
        }
      ]
    },
    {
      "cell_type": "code",
      "source": [
        "model.fit([text_train, image_train], emotion_train, epochs=EPOCH, validation_data=([text_val, image_val], emotion_val), callbacks=[checkpoint_callback, early_stopping_callback])\n",
        "\n",
        "evaluation_results = model.evaluate([text_test, image_test], emotion_test)\n",
        "print(f\"Loss: {round(evaluation_results[0], 2)}, Accuracy: {round(evaluation_results[1], 2)}\")"
      ],
      "metadata": {
        "colab": {
          "base_uri": "https://localhost:8080/"
        },
        "id": "Cq4dJLJqGS3Y",
        "outputId": "110b5bfb-04d7-4108-98ac-f4ea2e5574bf"
      },
      "execution_count": null,
      "outputs": [
        {
          "output_type": "stream",
          "name": "stdout",
          "text": [
            "Epoch 1/100\n",
            "898/898 [==============================] - 53s 58ms/step - loss: 4.6781 - accuracy: 0.1752 - val_loss: 2.1061 - val_accuracy: 0.1992\n",
            "Epoch 2/100\n",
            "898/898 [==============================] - 53s 59ms/step - loss: 2.1006 - accuracy: 0.2026 - val_loss: 2.0976 - val_accuracy: 0.2031\n",
            "Epoch 3/100\n",
            "898/898 [==============================] - 53s 60ms/step - loss: 2.0918 - accuracy: 0.2028 - val_loss: 2.0940 - val_accuracy: 0.2040\n",
            "Epoch 4/100\n",
            "898/898 [==============================] - 55s 61ms/step - loss: 2.0878 - accuracy: 0.2037 - val_loss: 2.0927 - val_accuracy: 0.2037\n",
            "Epoch 5/100\n",
            "898/898 [==============================] - 62s 69ms/step - loss: 2.0817 - accuracy: 0.2072 - val_loss: 2.0792 - val_accuracy: 0.2140\n",
            "Epoch 6/100\n",
            "898/898 [==============================] - 54s 60ms/step - loss: 2.0651 - accuracy: 0.2176 - val_loss: 2.0736 - val_accuracy: 0.2115\n",
            "Epoch 7/100\n",
            "898/898 [==============================] - 53s 59ms/step - loss: 2.0467 - accuracy: 0.2292 - val_loss: 2.0394 - val_accuracy: 0.2371\n",
            "Epoch 8/100\n",
            "898/898 [==============================] - 53s 59ms/step - loss: 2.0279 - accuracy: 0.2403 - val_loss: 2.0273 - val_accuracy: 0.2446\n",
            "Epoch 9/100\n",
            "898/898 [==============================] - 53s 59ms/step - loss: 2.0113 - accuracy: 0.2497 - val_loss: 2.0250 - val_accuracy: 0.2555\n",
            "Epoch 10/100\n",
            "898/898 [==============================] - 53s 59ms/step - loss: 1.9957 - accuracy: 0.2592 - val_loss: 2.0115 - val_accuracy: 0.2622\n",
            "Epoch 11/100\n",
            "898/898 [==============================] - 54s 60ms/step - loss: 1.9807 - accuracy: 0.2744 - val_loss: 1.9850 - val_accuracy: 0.2853\n",
            "Epoch 12/100\n",
            "898/898 [==============================] - 52s 58ms/step - loss: 1.9667 - accuracy: 0.2828 - val_loss: 1.9686 - val_accuracy: 0.2914\n",
            "Epoch 13/100\n",
            "898/898 [==============================] - 53s 59ms/step - loss: 1.9484 - accuracy: 0.2968 - val_loss: 1.9622 - val_accuracy: 0.2976\n",
            "Epoch 14/100\n",
            "898/898 [==============================] - 54s 60ms/step - loss: 1.9243 - accuracy: 0.3095 - val_loss: 1.9656 - val_accuracy: 0.3107\n",
            "Epoch 15/100\n",
            "898/898 [==============================] - 53s 58ms/step - loss: 1.9102 - accuracy: 0.3184 - val_loss: 1.9342 - val_accuracy: 0.3235\n",
            "Epoch 16/100\n",
            "898/898 [==============================] - 51s 57ms/step - loss: 1.8916 - accuracy: 0.3263 - val_loss: 1.9266 - val_accuracy: 0.3327\n",
            "Epoch 17/100\n",
            "898/898 [==============================] - 54s 60ms/step - loss: 1.8734 - accuracy: 0.3332 - val_loss: 1.9331 - val_accuracy: 0.3254\n",
            "Epoch 18/100\n",
            "898/898 [==============================] - 54s 60ms/step - loss: 1.8552 - accuracy: 0.3444 - val_loss: 1.9048 - val_accuracy: 0.3438\n",
            "Epoch 19/100\n",
            "898/898 [==============================] - 53s 59ms/step - loss: 1.8453 - accuracy: 0.3487 - val_loss: 1.9031 - val_accuracy: 0.3385\n",
            "Epoch 20/100\n",
            "898/898 [==============================] - 51s 57ms/step - loss: 1.8288 - accuracy: 0.3559 - val_loss: 1.8995 - val_accuracy: 0.3402\n",
            "Epoch 21/100\n",
            "898/898 [==============================] - 61s 68ms/step - loss: 1.8082 - accuracy: 0.3613 - val_loss: 1.8950 - val_accuracy: 0.3435\n",
            "Epoch 22/100\n",
            "898/898 [==============================] - 53s 59ms/step - loss: 1.7907 - accuracy: 0.3716 - val_loss: 1.8731 - val_accuracy: 0.3555\n",
            "Epoch 23/100\n",
            "898/898 [==============================] - 52s 58ms/step - loss: 1.7799 - accuracy: 0.3743 - val_loss: 1.8701 - val_accuracy: 0.3491\n",
            "Epoch 24/100\n",
            "898/898 [==============================] - 53s 59ms/step - loss: 1.7667 - accuracy: 0.3795 - val_loss: 1.8638 - val_accuracy: 0.3550\n",
            "Epoch 25/100\n",
            "898/898 [==============================] - 52s 58ms/step - loss: 1.7525 - accuracy: 0.3866 - val_loss: 1.8629 - val_accuracy: 0.3494\n",
            "Epoch 26/100\n",
            "898/898 [==============================] - 52s 58ms/step - loss: 1.7395 - accuracy: 0.3910 - val_loss: 1.8561 - val_accuracy: 0.3614\n",
            "Epoch 27/100\n",
            "898/898 [==============================] - 53s 59ms/step - loss: 1.7208 - accuracy: 0.3953 - val_loss: 1.8742 - val_accuracy: 0.3619\n",
            "Epoch 28/100\n",
            "898/898 [==============================] - 51s 57ms/step - loss: 1.7077 - accuracy: 0.4008 - val_loss: 1.8509 - val_accuracy: 0.3683\n",
            "Epoch 29/100\n",
            "898/898 [==============================] - 53s 59ms/step - loss: 1.6966 - accuracy: 0.4104 - val_loss: 1.8561 - val_accuracy: 0.3561\n",
            "Epoch 30/100\n",
            "898/898 [==============================] - 53s 60ms/step - loss: 1.6833 - accuracy: 0.4123 - val_loss: 1.8430 - val_accuracy: 0.3692\n",
            "Epoch 31/100\n",
            "898/898 [==============================] - 52s 58ms/step - loss: 1.6649 - accuracy: 0.4193 - val_loss: 1.8408 - val_accuracy: 0.3644\n",
            "Epoch 32/100\n",
            "898/898 [==============================] - 51s 57ms/step - loss: 1.6546 - accuracy: 0.4240 - val_loss: 1.8382 - val_accuracy: 0.3639\n",
            "Epoch 33/100\n",
            "898/898 [==============================] - 54s 60ms/step - loss: 1.6405 - accuracy: 0.4267 - val_loss: 1.8417 - val_accuracy: 0.3583\n",
            "Epoch 34/100\n",
            "898/898 [==============================] - 54s 60ms/step - loss: 1.6281 - accuracy: 0.4344 - val_loss: 1.8307 - val_accuracy: 0.3728\n",
            "Epoch 35/100\n",
            "898/898 [==============================] - 52s 58ms/step - loss: 1.6109 - accuracy: 0.4401 - val_loss: 1.8281 - val_accuracy: 0.3739\n",
            "Epoch 36/100\n",
            "898/898 [==============================] - 52s 58ms/step - loss: 1.6066 - accuracy: 0.4457 - val_loss: 1.8189 - val_accuracy: 0.3725\n",
            "Epoch 37/100\n",
            "898/898 [==============================] - 54s 60ms/step - loss: 1.5919 - accuracy: 0.4499 - val_loss: 1.8288 - val_accuracy: 0.3722\n",
            "Epoch 38/100\n",
            "898/898 [==============================] - 53s 59ms/step - loss: 1.5747 - accuracy: 0.4541 - val_loss: 1.8166 - val_accuracy: 0.3706\n",
            "Epoch 39/100\n",
            "898/898 [==============================] - 52s 58ms/step - loss: 1.5711 - accuracy: 0.4610 - val_loss: 1.8495 - val_accuracy: 0.3678\n",
            "Epoch 40/100\n",
            "898/898 [==============================] - 52s 58ms/step - loss: 1.5590 - accuracy: 0.4620 - val_loss: 1.8192 - val_accuracy: 0.3781\n",
            "Epoch 41/100\n",
            "898/898 [==============================] - 53s 60ms/step - loss: 1.5454 - accuracy: 0.4692 - val_loss: 1.8120 - val_accuracy: 0.3736\n",
            "Epoch 42/100\n",
            "898/898 [==============================] - 52s 58ms/step - loss: 1.5369 - accuracy: 0.4736 - val_loss: 1.8122 - val_accuracy: 0.3734\n",
            "Epoch 43/100\n",
            "898/898 [==============================] - 51s 57ms/step - loss: 1.5244 - accuracy: 0.4730 - val_loss: 1.8122 - val_accuracy: 0.3745\n",
            "Epoch 44/100\n",
            "898/898 [==============================] - 52s 58ms/step - loss: 1.5124 - accuracy: 0.4789 - val_loss: 1.8258 - val_accuracy: 0.3686\n",
            "Epoch 45/100\n",
            "898/898 [==============================] - 52s 58ms/step - loss: 1.4999 - accuracy: 0.4867 - val_loss: 1.8121 - val_accuracy: 0.3781\n",
            "Epoch 46/100\n",
            "898/898 [==============================] - 52s 58ms/step - loss: 1.4949 - accuracy: 0.4894 - val_loss: 1.8260 - val_accuracy: 0.3692\n",
            "113/113 [==============================] - 2s 14ms/step - loss: 1.7825 - accuracy: 0.3734\n",
            "Loss: 1.78, Accuracy: 0.37\n"
          ]
        }
      ]
    },
    {
      "cell_type": "markdown",
      "source": [
        "Loss: 1.78, Accuracy: 0.37."
      ],
      "metadata": {
        "id": "zZL43FhlPAPm"
      }
    }
  ],
  "metadata": {
    "colab": {
      "provenance": []
    },
    "gpuClass": "standard",
    "kernelspec": {
      "display_name": "Python 3",
      "name": "python3"
    },
    "language_info": {
      "name": "python"
    },
    "accelerator": "GPU"
  },
  "nbformat": 4,
  "nbformat_minor": 0
}