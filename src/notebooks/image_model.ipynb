{
  "cells": [
    {
      "cell_type": "markdown",
      "source": [
        "# Modello per la predizione delle emozioni da immagini di espressioni facciali"
      ],
      "metadata": {
        "id": "FCweZc7x21_x"
      }
    },
    {
      "cell_type": "markdown",
      "source": [
        "## Data retrival"
      ],
      "metadata": {
        "id": "NirGlgMbHea4"
      }
    },
    {
      "cell_type": "code",
      "execution_count": null,
      "metadata": {
        "colab": {
          "base_uri": "https://localhost:8080/"
        },
        "id": "BVlvNevZo1Oh",
        "outputId": "38f24157-e7bf-42fd-e803-fd5a15cbc56d"
      },
      "outputs": [
        {
          "output_type": "stream",
          "name": "stdout",
          "text": [
            "Mounted at /content/drive\n"
          ]
        }
      ],
      "source": [
        "from google.colab import drive\n",
        "drive.mount('/content/drive')"
      ]
    },
    {
      "cell_type": "code",
      "source": [
        "!cp /content/drive/MyDrive/AIExam/data.zip /content\n",
        "!pip install contractions emoji ekphrasis --quiet\n",
        "!unzip data.zip"
      ],
      "metadata": {
        "id": "acBq0WM-QyzP"
      },
      "execution_count": null,
      "outputs": []
    },
    {
      "cell_type": "code",
      "source": [
        "import tensorflow as tf\n",
        "from tensorflow.keras import layers, models, metrics\n",
        "from sklearn.model_selection import train_test_split\n",
        "from sklearn.preprocessing import LabelEncoder\n",
        "from tensorflow.keras.preprocessing.text import Tokenizer\n",
        "from tensorflow.keras.preprocessing.sequence import pad_sequences\n",
        "from tensorflow.keras.callbacks import EarlyStopping\n",
        "from tensorflow.keras.callbacks import ModelCheckpoint\n",
        "from tensorflow.keras.layers import LSTM, Dropout\n",
        "from tensorflow.keras.optimizers import Adam\n",
        "from tensorflow.keras.preprocessing.image import ImageDataGenerator\n",
        "from matplotlib import pyplot as plt\n",
        "import pandas as pd\n",
        "import csv\n",
        "from PIL import Image\n",
        "import re\n",
        "import numpy as np\n",
        "import contractions, emoji\n",
        "from ekphrasis.classes.preprocessor import TextPreProcessor\n",
        "from ekphrasis.classes.tokenizer import SocialTokenizer\n",
        "from ekphrasis.dicts.emoticons import emoticons\n",
        "\n",
        "EPOCH = 100"
      ],
      "metadata": {
        "id": "czejXtxc7u-I"
      },
      "execution_count": null,
      "outputs": []
    },
    {
      "cell_type": "code",
      "source": [
        "def load_data(file_path):\n",
        "    data = []\n",
        "    with open(file_path, newline='', encoding='utf-8') as csvfile:\n",
        "        csv_reader = csv.reader(csvfile)\n",
        "        next(csv_reader, None)\n",
        "        for row in csv_reader:\n",
        "            text, image_path, emotion = row\n",
        "            img = Image.open(image_path)\n",
        "            img_array = np.array(img)\n",
        "            entry = {'text': text, 'image_data': img_array, 'emotion': emotion}\n",
        "            data.append(entry)\n",
        "    return data\n",
        "\n",
        "file_path = \"data/processed/text_image_emotion.csv\"\n",
        "data = load_data(file_path)"
      ],
      "metadata": {
        "id": "uI1I4NJH5lDb"
      },
      "execution_count": null,
      "outputs": []
    },
    {
      "cell_type": "code",
      "source": [
        "images = np.array([entry['image_data'] for entry in data])\n",
        "emotions = [entry['emotion'] for entry in data]\n",
        "\n",
        "def show_data(i):\n",
        "  print(\"\\nDati con indice\", i)\n",
        "  plt.imshow(images[i],cmap = plt.cm.gray)\n",
        "  plt.show()\n",
        "  print(\"Emozione:\", emotions[i])\n",
        "\n",
        "show_data(321)\n",
        "\n",
        "i = 4321\n",
        "show_data(i)"
      ],
      "metadata": {
        "colab": {
          "base_uri": "https://localhost:8080/",
          "height": 949
        },
        "id": "3r1gj9Qb8lYn",
        "outputId": "552fe7c5-8791-445f-dbfd-73b8adb8d658"
      },
      "execution_count": null,
      "outputs": [
        {
          "output_type": "stream",
          "name": "stdout",
          "text": [
            "\n",
            "Dati con indice 321\n"
          ]
        },
        {
          "output_type": "display_data",
          "data": {
            "text/plain": [
              "<Figure size 640x480 with 1 Axes>"
            ],
            "image/png": "[encoded data removed]"
          },
          "metadata": {}
        },
        {
          "output_type": "stream",
          "name": "stdout",
          "text": [
            "Emozione: anger\n",
            "\n",
            "Dati con indice 4321\n"
          ]
        },
        {
          "output_type": "display_data",
          "data": {
            "text/plain": [
              "<Figure size 640x480 with 1 Axes>"
            ],
            "image/png": "[encoded data removed]"
          },
          "metadata": {}
        },
        {
          "output_type": "stream",
          "name": "stdout",
          "text": [
            "Emozione: neutral\n"
          ]
        }
      ]
    },
    {
      "cell_type": "markdown",
      "source": [
        "## Encoding delle emozioni"
      ],
      "metadata": {
        "id": "3PKEtV7i9Z-5"
      }
    },
    {
      "cell_type": "code",
      "source": [
        "label_encoder = LabelEncoder()\n",
        "encoded_emotions = label_encoder.fit_transform(emotions)\n",
        "categorical_emotions = tf.keras.utils.to_categorical(encoded_emotions, num_classes=len(label_encoder.classes_))\n",
        "\n",
        "custom_p = lambda n: print(\"emotion\\t \", n, \"  \\tis encoded with the number\\t\", encoded_emotions[emotions.index(n)], \"\\tand vector\\t\", categorical_emotions[emotions.index(n)])\n",
        "\n",
        "custom_p(\"anger\")\n",
        "custom_p(\"disgust\")\n",
        "custom_p(\"fear\")\n",
        "custom_p(\"joy\")\n",
        "custom_p(\"neutral\")\n",
        "custom_p(\"sadness\")\n",
        "custom_p(\"surprise\")"
      ],
      "metadata": {
        "colab": {
          "base_uri": "https://localhost:8080/"
        },
        "id": "s-1lH06f91uX",
        "outputId": "60b41950-28bb-45ba-b4e2-fb4578e276e1"
      },
      "execution_count": null,
      "outputs": [
        {
          "output_type": "stream",
          "name": "stdout",
          "text": [
            "emotion\t  anger   \tis encoded with the number\t 0 \tand vector\t [1. 0. 0. 0. 0. 0. 0.]\n",
            "emotion\t  disgust   \tis encoded with the number\t 1 \tand vector\t [0. 1. 0. 0. 0. 0. 0.]\n",
            "emotion\t  fear   \tis encoded with the number\t 2 \tand vector\t [0. 0. 1. 0. 0. 0. 0.]\n",
            "emotion\t  joy   \tis encoded with the number\t 3 \tand vector\t [0. 0. 0. 1. 0. 0. 0.]\n",
            "emotion\t  neutral   \tis encoded with the number\t 4 \tand vector\t [0. 0. 0. 0. 1. 0. 0.]\n",
            "emotion\t  sadness   \tis encoded with the number\t 5 \tand vector\t [0. 0. 0. 0. 0. 1. 0.]\n",
            "emotion\t  surprise   \tis encoded with the number\t 6 \tand vector\t [0. 0. 0. 0. 0. 0. 1.]\n"
          ]
        }
      ]
    },
    {
      "cell_type": "markdown",
      "source": [
        "## Creazione del dataset\n",
        "Dividiamo il dataset nella seguente maniera:\n",
        "*   train data: 80%  \n",
        "*   validation data: 10%  \n",
        "*   test data: 10%  "
      ],
      "metadata": {
        "id": "vf0JWYH2-jVj"
      }
    },
    {
      "cell_type": "code",
      "source": [
        "image_train, image_test_temp, emotion_train, emotion_test_temp = train_test_split(\n",
        "    images, categorical_emotions, test_size=0.2, random_state=42\n",
        ")\n",
        "\n",
        "image_test, image_val, emotion_test, emotion_val = train_test_split(\n",
        "    image_test_temp, emotion_test_temp, test_size=0.5, random_state=42\n",
        ")\n",
        "\n",
        "print(\"Lunghezza dati di train:\", len(image_train))\n",
        "print(\"Lunghezza dati di validation:\", len(image_val))\n",
        "print(\"Lunghezza dati di test:\", len(image_test))"
      ],
      "metadata": {
        "id": "x94Fv1noeEvR",
        "colab": {
          "base_uri": "https://localhost:8080/"
        },
        "outputId": "bfb2c44f-d790-45d3-b433-bc80af43d3ba"
      },
      "execution_count": null,
      "outputs": [
        {
          "output_type": "stream",
          "name": "stdout",
          "text": [
            "Lunghezza dati di train: 20402\n",
            "Lunghezza dati di validation: 2551\n",
            "Lunghezza dati di test: 2550\n"
          ]
        }
      ]
    },
    {
      "cell_type": "markdown",
      "source": [
        "## Prima prova"
      ],
      "metadata": {
        "id": "mZdTj9B9_iAC"
      }
    },
    {
      "cell_type": "code",
      "source": [
        "# seconda parte\n",
        "image_input = layers.Input(shape=(48, 48))\n",
        "image_dense_layer = layers.Dense(64, activation='relu')(image_input)\n",
        "image_flatten = layers.Flatten()(image_dense_layer)\n",
        "\n",
        "dropout_layer = layers.Dropout(0.5)(image_flatten)\n",
        "dense_layer = layers.Dense(64, activation='relu')(image_input)\n",
        "output_layer = layers.Dense(len(label_encoder.classes_), activation='softmax')(dropout_layer)\n",
        "\n",
        "model = models.Model(inputs=image_input, outputs=output_layer)\n",
        "\n",
        "optimizer = Adam(learning_rate=0.001)\n",
        "model.compile(optimizer=optimizer, loss='categorical_crossentropy', metrics=['accuracy', metrics.Precision(), metrics.Recall()])\n",
        "model.summary()\n",
        "\n",
        "checkpoint_callback = ModelCheckpoint(\"best_model.h5\", save_best_only=True, monitor=\"val_accuracy\", mode=\"max\")\n",
        "\n",
        "early_stopping_callback = EarlyStopping(monitor='val_loss', patience=5, restore_best_weights=True)"
      ],
      "metadata": {
        "colab": {
          "base_uri": "https://localhost:8080/"
        },
        "id": "TEJPlvWd_yM4",
        "outputId": "36a4517e-9558-476a-e71b-b035696d27a6"
      },
      "execution_count": null,
      "outputs": [
        {
          "output_type": "stream",
          "name": "stdout",
          "text": [
            "Model: \"model_7\"\n",
            "_________________________________________________________________\n",
            " Layer (type)                Output Shape              Param #   \n",
            "=================================================================\n",
            " input_9 (InputLayer)        [(None, 48, 48)]          0         \n",
            "                                                                 \n",
            " dense_9 (Dense)             (None, 48, 64)            3136      \n",
            "                                                                 \n",
            " flatten_7 (Flatten)         (None, 3072)              0         \n",
            "                                                                 \n",
            " dropout_7 (Dropout)         (None, 3072)              0         \n",
            "                                                                 \n",
            " dense_11 (Dense)            (None, 7)                 21511     \n",
            "                                                                 \n",
            "=================================================================\n",
            "Total params: 24647 (96.28 KB)\n",
            "Trainable params: 24647 (96.28 KB)\n",
            "Non-trainable params: 0 (0.00 Byte)\n",
            "_________________________________________________________________\n"
          ]
        }
      ]
    },
    {
      "cell_type": "code",
      "source": [
        "model.fit(image_train, emotion_train, epochs=EPOCH, validation_data=(image_val, emotion_val), callbacks=[checkpoint_callback, early_stopping_callback])\n",
        "\n",
        "evaluation_results = model.evaluate(image_test, emotion_test)\n",
        "print(f\"Loss: {round(evaluation_results[0], 2)}, Accuracy: {round(evaluation_results[1], 2)}\")"
      ],
      "metadata": {
        "colab": {
          "base_uri": "https://localhost:8080/"
        },
        "id": "roZ91CiVCdi4",
        "outputId": "966cb387-6043-405d-8102-93ba0cffd002"
      },
      "execution_count": null,
      "outputs": [
        {
          "output_type": "stream",
          "name": "stdout",
          "text": [
            "Epoch 1/100\n",
            "638/638 [==============================] - 5s 6ms/step - loss: 1.6316 - accuracy: 0.3555 - precision_5: 0.5658 - recall_5: 0.0447 - val_loss: 1.5502 - val_accuracy: 0.4136 - val_precision_5: 0.6637 - val_recall_5: 0.1152\n",
            "Epoch 2/100\n",
            "638/638 [==============================] - 4s 6ms/step - loss: 1.5517 - accuracy: 0.4039 - precision_5: 0.6028 - recall_5: 0.1003 - val_loss: 1.5190 - val_accuracy: 0.4371 - val_precision_5: 0.6926 - val_recall_5: 0.0804\n",
            "Epoch 3/100\n",
            "638/638 [==============================] - 3s 4ms/step - loss: 1.5221 - accuracy: 0.4181 - precision_5: 0.6087 - recall_5: 0.1235 - val_loss: 1.4877 - val_accuracy: 0.4563 - val_precision_5: 0.6957 - val_recall_5: 0.1317\n",
            "Epoch 4/100\n",
            "638/638 [==============================] - 3s 5ms/step - loss: 1.4994 - accuracy: 0.4284 - precision_5: 0.6211 - recall_5: 0.1399 - val_loss: 1.4759 - val_accuracy: 0.4618 - val_precision_5: 0.6901 - val_recall_5: 0.1388\n",
            "Epoch 5/100\n",
            "638/638 [==============================] - 3s 5ms/step - loss: 1.4851 - accuracy: 0.4356 - precision_5: 0.6297 - recall_5: 0.1527 - val_loss: 1.4788 - val_accuracy: 0.4606 - val_precision_5: 0.6961 - val_recall_5: 0.1266\n",
            "Epoch 6/100\n",
            "638/638 [==============================] - 3s 4ms/step - loss: 1.4664 - accuracy: 0.4460 - precision_5: 0.6353 - recall_5: 0.1670 - val_loss: 1.4609 - val_accuracy: 0.4712 - val_precision_5: 0.6850 - val_recall_5: 0.1517\n",
            "Epoch 7/100\n",
            "638/638 [==============================] - 3s 4ms/step - loss: 1.4559 - accuracy: 0.4448 - precision_5: 0.6399 - recall_5: 0.1791 - val_loss: 1.4588 - val_accuracy: 0.4731 - val_precision_5: 0.6787 - val_recall_5: 0.1838\n",
            "Epoch 8/100\n",
            "638/638 [==============================] - 3s 4ms/step - loss: 1.4453 - accuracy: 0.4542 - precision_5: 0.6357 - recall_5: 0.1838 - val_loss: 1.4614 - val_accuracy: 0.4696 - val_precision_5: 0.6646 - val_recall_5: 0.1686\n",
            "Epoch 9/100\n",
            "638/638 [==============================] - 4s 6ms/step - loss: 1.4370 - accuracy: 0.4547 - precision_5: 0.6447 - recall_5: 0.1887 - val_loss: 1.4734 - val_accuracy: 0.4524 - val_precision_5: 0.6569 - val_recall_5: 0.1674\n",
            "Epoch 10/100\n",
            "638/638 [==============================] - 3s 4ms/step - loss: 1.4320 - accuracy: 0.4511 - precision_5: 0.6410 - recall_5: 0.1928 - val_loss: 1.4539 - val_accuracy: 0.4677 - val_precision_5: 0.6484 - val_recall_5: 0.1721\n",
            "Epoch 11/100\n",
            "638/638 [==============================] - 3s 4ms/step - loss: 1.4183 - accuracy: 0.4651 - precision_5: 0.6438 - recall_5: 0.2029 - val_loss: 1.4668 - val_accuracy: 0.4622 - val_precision_5: 0.6737 - val_recall_5: 0.1627\n",
            "Epoch 12/100\n",
            "638/638 [==============================] - 3s 4ms/step - loss: 1.4102 - accuracy: 0.4657 - precision_5: 0.6436 - recall_5: 0.2072 - val_loss: 1.4545 - val_accuracy: 0.4751 - val_precision_5: 0.6719 - val_recall_5: 0.1686\n",
            "Epoch 13/100\n",
            "638/638 [==============================] - 3s 5ms/step - loss: 1.4043 - accuracy: 0.4692 - precision_5: 0.6548 - recall_5: 0.2121 - val_loss: 1.4460 - val_accuracy: 0.4751 - val_precision_5: 0.6655 - val_recall_5: 0.2160\n",
            "Epoch 14/100\n",
            "638/638 [==============================] - 3s 5ms/step - loss: 1.3940 - accuracy: 0.4738 - precision_5: 0.6551 - recall_5: 0.2241 - val_loss: 1.4428 - val_accuracy: 0.4704 - val_precision_5: 0.6614 - val_recall_5: 0.2136\n",
            "Epoch 15/100\n",
            "638/638 [==============================] - 3s 4ms/step - loss: 1.3924 - accuracy: 0.4716 - precision_5: 0.6512 - recall_5: 0.2239 - val_loss: 1.4512 - val_accuracy: 0.4720 - val_precision_5: 0.6557 - val_recall_5: 0.2113\n",
            "Epoch 16/100\n",
            "638/638 [==============================] - 3s 4ms/step - loss: 1.3853 - accuracy: 0.4755 - precision_5: 0.6547 - recall_5: 0.2260 - val_loss: 1.4521 - val_accuracy: 0.4806 - val_precision_5: 0.6610 - val_recall_5: 0.1674\n",
            "Epoch 17/100\n",
            "638/638 [==============================] - 3s 4ms/step - loss: 1.3881 - accuracy: 0.4787 - precision_5: 0.6586 - recall_5: 0.2274 - val_loss: 1.4390 - val_accuracy: 0.4837 - val_precision_5: 0.6507 - val_recall_5: 0.2336\n",
            "Epoch 18/100\n",
            "638/638 [==============================] - 4s 6ms/step - loss: 1.3769 - accuracy: 0.4858 - precision_5: 0.6554 - recall_5: 0.2325 - val_loss: 1.4424 - val_accuracy: 0.4892 - val_precision_5: 0.6556 - val_recall_5: 0.2328\n",
            "Epoch 19/100\n",
            "638/638 [==============================] - 3s 5ms/step - loss: 1.3760 - accuracy: 0.4805 - precision_5: 0.6538 - recall_5: 0.2332 - val_loss: 1.4477 - val_accuracy: 0.4775 - val_precision_5: 0.6239 - val_recall_5: 0.2230\n",
            "Epoch 20/100\n",
            "638/638 [==============================] - 3s 4ms/step - loss: 1.3698 - accuracy: 0.4851 - precision_5: 0.6599 - recall_5: 0.2361 - val_loss: 1.4565 - val_accuracy: 0.4704 - val_precision_5: 0.6572 - val_recall_5: 0.1901\n",
            "Epoch 21/100\n",
            "638/638 [==============================] - 3s 4ms/step - loss: 1.3685 - accuracy: 0.4875 - precision_5: 0.6523 - recall_5: 0.2385 - val_loss: 1.4611 - val_accuracy: 0.4681 - val_precision_5: 0.6256 - val_recall_5: 0.2568\n",
            "Epoch 22/100\n",
            "638/638 [==============================] - 3s 5ms/step - loss: 1.3625 - accuracy: 0.4888 - precision_5: 0.6638 - recall_5: 0.2438 - val_loss: 1.4506 - val_accuracy: 0.4724 - val_precision_5: 0.6638 - val_recall_5: 0.2097\n",
            "80/80 [==============================] - 0s 5ms/step - loss: 1.4366 - accuracy: 0.4702 - precision_5: 0.6249 - recall_5: 0.2267\n",
            "Loss: 1.44, Accuracy: 0.47\n"
          ]
        }
      ]
    },
    {
      "cell_type": "markdown",
      "source": [
        "Loss: 1.44, Accuracy: 0.47, Precision: 0.62, Recall: 0.23."
      ],
      "metadata": {
        "id": "9pgCa3mCDWR4"
      }
    },
    {
      "cell_type": "markdown",
      "source": [
        "## Seconda prova"
      ],
      "metadata": {
        "id": "sWZbUv5MGzp0"
      }
    },
    {
      "cell_type": "code",
      "source": [
        "print(\"Image\", images[i])\n",
        "norm_images = images / 255\n",
        "print(\"\\nNormalized image\", norm_images[i])\n",
        "\n",
        "image_train, image_test_temp, emotion_train, emotion_test_temp = train_test_split(\n",
        "    norm_images, categorical_emotions, test_size=0.2, random_state=42\n",
        ")\n",
        "\n",
        "image_test, image_val, emotion_test, emotion_val = train_test_split(\n",
        "    image_test_temp, emotion_test_temp, test_size=0.5, random_state=42\n",
        ")"
      ],
      "metadata": {
        "id": "X9vYe5PyFM6-",
        "colab": {
          "base_uri": "https://localhost:8080/"
        },
        "outputId": "9bb672be-1119-4083-9dfc-3b72628ff091"
      },
      "execution_count": null,
      "outputs": [
        {
          "output_type": "stream",
          "name": "stdout",
          "text": [
            "Image [[ 44  39  28 ...  41  53  89]\n",
            " [ 37  31  19 ...  51  32  68]\n",
            " [ 32  38  23 ...  42  34  46]\n",
            " ...\n",
            " [223 232 240 ... 246 246 236]\n",
            " [139 224 233 ... 246 243 234]\n",
            " [191 238 233 ... 243 238 234]]\n",
            "\n",
            "Normalized image [[0.17254902 0.15294118 0.10980392 ... 0.16078431 0.20784314 0.34901961]\n",
            " [0.14509804 0.12156863 0.0745098  ... 0.2        0.1254902  0.26666667]\n",
            " [0.1254902  0.14901961 0.09019608 ... 0.16470588 0.13333333 0.18039216]\n",
            " ...\n",
            " [0.8745098  0.90980392 0.94117647 ... 0.96470588 0.96470588 0.9254902 ]\n",
            " [0.54509804 0.87843137 0.91372549 ... 0.96470588 0.95294118 0.91764706]\n",
            " [0.74901961 0.93333333 0.91372549 ... 0.95294118 0.93333333 0.91764706]]\n"
          ]
        }
      ]
    },
    {
      "cell_type": "code",
      "source": [
        "model.fit(image_train, emotion_train, epochs=EPOCH, validation_data=(image_val, emotion_val), callbacks=[checkpoint_callback, early_stopping_callback])\n",
        "\n",
        "evaluation_results = model.evaluate(image_test, emotion_test)\n",
        "print(f\"Loss: {round(evaluation_results[0], 2)}, Accuracy: {round(evaluation_results[1], 2)}\")"
      ],
      "metadata": {
        "colab": {
          "base_uri": "https://localhost:8080/"
        },
        "id": "XbTA4ZaHFiW_",
        "outputId": "51406600-7616-4707-a37f-78c03bc89caa"
      },
      "execution_count": null,
      "outputs": [
        {
          "output_type": "stream",
          "name": "stdout",
          "text": [
            "Epoch 1/100\n",
            "638/638 [==============================] - 4s 5ms/step - loss: 1.6430 - accuracy: 0.3451 - precision_6: 0.5668 - recall_6: 0.0374 - val_loss: 1.5667 - val_accuracy: 0.4132 - val_precision_6: 0.6713 - val_recall_6: 0.0568\n",
            "Epoch 2/100\n",
            "638/638 [==============================] - 3s 4ms/step - loss: 1.5559 - accuracy: 0.3987 - precision_6: 0.6135 - recall_6: 0.0942 - val_loss: 1.5158 - val_accuracy: 0.4289 - val_precision_6: 0.6652 - val_recall_6: 0.1192\n",
            "Epoch 3/100\n",
            "638/638 [==============================] - 4s 6ms/step - loss: 1.5212 - accuracy: 0.4179 - precision_6: 0.6162 - recall_6: 0.1223 - val_loss: 1.4950 - val_accuracy: 0.4477 - val_precision_6: 0.6906 - val_recall_6: 0.1094\n",
            "Epoch 4/100\n",
            "638/638 [==============================] - 3s 4ms/step - loss: 1.5024 - accuracy: 0.4264 - precision_6: 0.6194 - recall_6: 0.1378 - val_loss: 1.4920 - val_accuracy: 0.4488 - val_precision_6: 0.6350 - val_recall_6: 0.1678\n",
            "Epoch 5/100\n",
            "638/638 [==============================] - 3s 4ms/step - loss: 1.4814 - accuracy: 0.4350 - precision_6: 0.6234 - recall_6: 0.1554 - val_loss: 1.4904 - val_accuracy: 0.4461 - val_precision_6: 0.6208 - val_recall_6: 0.2085\n",
            "Epoch 6/100\n",
            "638/638 [==============================] - 3s 4ms/step - loss: 1.4685 - accuracy: 0.4450 - precision_6: 0.6326 - recall_6: 0.1638 - val_loss: 1.4705 - val_accuracy: 0.4500 - val_precision_6: 0.6571 - val_recall_6: 0.1533\n",
            "Epoch 7/100\n",
            "638/638 [==============================] - 3s 5ms/step - loss: 1.4540 - accuracy: 0.4497 - precision_6: 0.6327 - recall_6: 0.1785 - val_loss: 1.4780 - val_accuracy: 0.4606 - val_precision_6: 0.6485 - val_recall_6: 0.1678\n",
            "Epoch 8/100\n",
            "638/638 [==============================] - 3s 5ms/step - loss: 1.4458 - accuracy: 0.4538 - precision_6: 0.6387 - recall_6: 0.1854 - val_loss: 1.4782 - val_accuracy: 0.4457 - val_precision_6: 0.6506 - val_recall_6: 0.1584\n",
            "Epoch 9/100\n",
            "638/638 [==============================] - 3s 4ms/step - loss: 1.4334 - accuracy: 0.4591 - precision_6: 0.6379 - recall_6: 0.1953 - val_loss: 1.4553 - val_accuracy: 0.4728 - val_precision_6: 0.6677 - val_recall_6: 0.1678\n",
            "Epoch 10/100\n",
            "638/638 [==============================] - 3s 4ms/step - loss: 1.4225 - accuracy: 0.4628 - precision_6: 0.6438 - recall_6: 0.2013 - val_loss: 1.4536 - val_accuracy: 0.4684 - val_precision_6: 0.6529 - val_recall_6: 0.1866\n",
            "Epoch 11/100\n",
            "638/638 [==============================] - 3s 4ms/step - loss: 1.4145 - accuracy: 0.4665 - precision_6: 0.6532 - recall_6: 0.2059 - val_loss: 1.4654 - val_accuracy: 0.4637 - val_precision_6: 0.6650 - val_recall_6: 0.1611\n",
            "Epoch 12/100\n",
            "638/638 [==============================] - 4s 6ms/step - loss: 1.4091 - accuracy: 0.4654 - precision_6: 0.6495 - recall_6: 0.2105 - val_loss: 1.4571 - val_accuracy: 0.4606 - val_precision_6: 0.6647 - val_recall_6: 0.1788\n",
            "Epoch 13/100\n",
            "638/638 [==============================] - 3s 4ms/step - loss: 1.4074 - accuracy: 0.4676 - precision_6: 0.6465 - recall_6: 0.2147 - val_loss: 1.4448 - val_accuracy: 0.4728 - val_precision_6: 0.6624 - val_recall_6: 0.2007\n",
            "Epoch 14/100\n",
            "638/638 [==============================] - 3s 4ms/step - loss: 1.3964 - accuracy: 0.4785 - precision_6: 0.6574 - recall_6: 0.2185 - val_loss: 1.4471 - val_accuracy: 0.4743 - val_precision_6: 0.6476 - val_recall_6: 0.1772\n",
            "Epoch 15/100\n",
            "638/638 [==============================] - 3s 4ms/step - loss: 1.3907 - accuracy: 0.4765 - precision_6: 0.6540 - recall_6: 0.2227 - val_loss: 1.4520 - val_accuracy: 0.4626 - val_precision_6: 0.6353 - val_recall_6: 0.2172\n",
            "Epoch 16/100\n",
            "638/638 [==============================] - 3s 5ms/step - loss: 1.3838 - accuracy: 0.4774 - precision_6: 0.6578 - recall_6: 0.2272 - val_loss: 1.4386 - val_accuracy: 0.4645 - val_precision_6: 0.6567 - val_recall_6: 0.2144\n",
            "Epoch 17/100\n",
            "638/638 [==============================] - 3s 5ms/step - loss: 1.3850 - accuracy: 0.4790 - precision_6: 0.6478 - recall_6: 0.2251 - val_loss: 1.4495 - val_accuracy: 0.4708 - val_precision_6: 0.6716 - val_recall_6: 0.1948\n",
            "Epoch 18/100\n",
            "638/638 [==============================] - 3s 4ms/step - loss: 1.3764 - accuracy: 0.4802 - precision_6: 0.6599 - recall_6: 0.2365 - val_loss: 1.4366 - val_accuracy: 0.4684 - val_precision_6: 0.6603 - val_recall_6: 0.2172\n",
            "Epoch 19/100\n",
            "638/638 [==============================] - 3s 4ms/step - loss: 1.3661 - accuracy: 0.4847 - precision_6: 0.6616 - recall_6: 0.2443 - val_loss: 1.4409 - val_accuracy: 0.4735 - val_precision_6: 0.6706 - val_recall_6: 0.1987\n",
            "Epoch 20/100\n",
            "638/638 [==============================] - 3s 4ms/step - loss: 1.3636 - accuracy: 0.4877 - precision_6: 0.6577 - recall_6: 0.2391 - val_loss: 1.4347 - val_accuracy: 0.4775 - val_precision_6: 0.6341 - val_recall_6: 0.2568\n",
            "Epoch 21/100\n",
            "638/638 [==============================] - 4s 6ms/step - loss: 1.3599 - accuracy: 0.4892 - precision_6: 0.6651 - recall_6: 0.2453 - val_loss: 1.4484 - val_accuracy: 0.4708 - val_precision_6: 0.6404 - val_recall_6: 0.2011\n",
            "Epoch 22/100\n",
            "638/638 [==============================] - 3s 4ms/step - loss: 1.3582 - accuracy: 0.4876 - precision_6: 0.6639 - recall_6: 0.2467 - val_loss: 1.4395 - val_accuracy: 0.4767 - val_precision_6: 0.6708 - val_recall_6: 0.2101\n",
            "Epoch 23/100\n",
            "638/638 [==============================] - 3s 4ms/step - loss: 1.3530 - accuracy: 0.4897 - precision_6: 0.6640 - recall_6: 0.2496 - val_loss: 1.4266 - val_accuracy: 0.4853 - val_precision_6: 0.6667 - val_recall_6: 0.2187\n",
            "Epoch 24/100\n",
            "638/638 [==============================] - 3s 4ms/step - loss: 1.3527 - accuracy: 0.4902 - precision_6: 0.6592 - recall_6: 0.2486 - val_loss: 1.4481 - val_accuracy: 0.4724 - val_precision_6: 0.6390 - val_recall_6: 0.2144\n",
            "Epoch 25/100\n",
            "638/638 [==============================] - 3s 5ms/step - loss: 1.3462 - accuracy: 0.4927 - precision_6: 0.6666 - recall_6: 0.2576 - val_loss: 1.4405 - val_accuracy: 0.4849 - val_precision_6: 0.6567 - val_recall_6: 0.2144\n",
            "Epoch 26/100\n",
            "638/638 [==============================] - 3s 5ms/step - loss: 1.3408 - accuracy: 0.4954 - precision_6: 0.6721 - recall_6: 0.2610 - val_loss: 1.4390 - val_accuracy: 0.4775 - val_precision_6: 0.6231 - val_recall_6: 0.2372\n",
            "Epoch 27/100\n",
            "638/638 [==============================] - 3s 4ms/step - loss: 1.3401 - accuracy: 0.4941 - precision_6: 0.6669 - recall_6: 0.2633 - val_loss: 1.4452 - val_accuracy: 0.4649 - val_precision_6: 0.6438 - val_recall_6: 0.2203\n",
            "Epoch 28/100\n",
            "638/638 [==============================] - 3s 4ms/step - loss: 1.3404 - accuracy: 0.4970 - precision_6: 0.6628 - recall_6: 0.2601 - val_loss: 1.4423 - val_accuracy: 0.4794 - val_precision_6: 0.6521 - val_recall_6: 0.2227\n",
            "80/80 [==============================] - 0s 3ms/step - loss: 1.4104 - accuracy: 0.4780 - precision_6: 0.6587 - recall_6: 0.2157\n",
            "Loss: 1.41, Accuracy: 0.48\n"
          ]
        }
      ]
    },
    {
      "cell_type": "markdown",
      "source": [
        "Loss: 1.41, Accuracy: 0.48, Precision: 0.66, Recall: 0.22."
      ],
      "metadata": {
        "id": "J2nhEBgPJjLZ"
      }
    },
    {
      "cell_type": "markdown",
      "source": [
        "## Terza prova"
      ],
      "metadata": {
        "id": "cGUb6lQXKjao"
      }
    },
    {
      "cell_type": "code",
      "source": [
        "image_input = layers.Input(shape=(48, 48, 1))\n",
        "conv_layer = layers.Conv2D(32, (3, 3), activation='relu')(image_input)\n",
        "pooling_layer = layers.MaxPooling2D((2, 2))(conv_layer)\n",
        "image_flatten = layers.Flatten()(pooling_layer)\n",
        "\n",
        "dropout_layer = layers.Dropout(0.5)(image_flatten)\n",
        "output_layer = layers.Dense(len(label_encoder.classes_), activation='softmax')(dropout_layer)\n",
        "\n",
        "optimizer = Adam(learning_rate=0.001)\n",
        "model = models.Model(inputs=image_input, outputs=output_layer)\n",
        "\n",
        "model.compile(optimizer=optimizer, loss='categorical_crossentropy', metrics=['accuracy', metrics.Precision(), metrics.Recall()])\n",
        "model.summary()"
      ],
      "metadata": {
        "colab": {
          "base_uri": "https://localhost:8080/"
        },
        "id": "KmIRHMY_KnN2",
        "outputId": "6a995dd0-e473-4703-86b7-59248eeadce3"
      },
      "execution_count": null,
      "outputs": [
        {
          "output_type": "stream",
          "name": "stdout",
          "text": [
            "Model: \"model_18\"\n",
            "_________________________________________________________________\n",
            " Layer (type)                Output Shape              Param #   \n",
            "=================================================================\n",
            " input_22 (InputLayer)       [(None, 48, 48, 1)]       0         \n",
            "                                                                 \n",
            " conv2d_28 (Conv2D)          (None, 46, 46, 32)        320       \n",
            "                                                                 \n",
            " max_pooling2d_25 (MaxPooli  (None, 23, 23, 32)        0         \n",
            " ng2D)                                                           \n",
            "                                                                 \n",
            " flatten_18 (Flatten)        (None, 16928)             0         \n",
            "                                                                 \n",
            " dropout_18 (Dropout)        (None, 16928)             0         \n",
            "                                                                 \n",
            " dense_22 (Dense)            (None, 7)                 118503    \n",
            "                                                                 \n",
            "=================================================================\n",
            "Total params: 118823 (464.15 KB)\n",
            "Trainable params: 118823 (464.15 KB)\n",
            "Non-trainable params: 0 (0.00 Byte)\n",
            "_________________________________________________________________\n"
          ]
        }
      ]
    },
    {
      "cell_type": "code",
      "source": [
        "model.fit(image_train, emotion_train, epochs=EPOCH, validation_data=(image_val, emotion_val), callbacks=[checkpoint_callback, early_stopping_callback])\n",
        "\n",
        "evaluation_results = model.evaluate(image_test, emotion_test)\n",
        "print(f\"Loss: {round(evaluation_results[0], 2)}, Accuracy: {round(evaluation_results[1], 2)}\")"
      ],
      "metadata": {
        "colab": {
          "base_uri": "https://localhost:8080/"
        },
        "id": "5qN0ClA2M9ws",
        "outputId": "bd3170ed-aca3-412c-bed3-352cefc8c4e2"
      },
      "execution_count": null,
      "outputs": [
        {
          "output_type": "stream",
          "name": "stdout",
          "text": [
            "Epoch 1/100\n",
            "638/638 [==============================] - 5s 7ms/step - loss: 1.5613 - accuracy: 0.3988 - precision_15: 0.6883 - recall_15: 0.0753 - val_loss: 1.4432 - val_accuracy: 0.4802 - val_precision_15: 0.7809 - val_recall_15: 0.1313\n",
            "Epoch 2/100\n",
            "638/638 [==============================] - 3s 4ms/step - loss: 1.3971 - accuracy: 0.4815 - precision_15: 0.7004 - recall_15: 0.2092 - val_loss: 1.3576 - val_accuracy: 0.5080 - val_precision_15: 0.7240 - val_recall_15: 0.2376\n",
            "Epoch 3/100\n",
            "638/638 [==============================] - 3s 4ms/step - loss: 1.3260 - accuracy: 0.5091 - precision_15: 0.7157 - recall_15: 0.2649 - val_loss: 1.3745 - val_accuracy: 0.5182 - val_precision_15: 0.6754 - val_recall_15: 0.2920\n",
            "Epoch 4/100\n",
            "638/638 [==============================] - 3s 5ms/step - loss: 1.2806 - accuracy: 0.5271 - precision_15: 0.7124 - recall_15: 0.2973 - val_loss: 1.3080 - val_accuracy: 0.5292 - val_precision_15: 0.7356 - val_recall_15: 0.2913\n",
            "Epoch 5/100\n",
            "638/638 [==============================] - 5s 7ms/step - loss: 1.2372 - accuracy: 0.5442 - precision_15: 0.7249 - recall_15: 0.3290 - val_loss: 1.2960 - val_accuracy: 0.5382 - val_precision_15: 0.7194 - val_recall_15: 0.3246\n",
            "Epoch 6/100\n",
            "638/638 [==============================] - 3s 5ms/step - loss: 1.2085 - accuracy: 0.5530 - precision_15: 0.7302 - recall_15: 0.3480 - val_loss: 1.2861 - val_accuracy: 0.5437 - val_precision_15: 0.7040 - val_recall_15: 0.3450\n",
            "Epoch 7/100\n",
            "638/638 [==============================] - 4s 6ms/step - loss: 1.1880 - accuracy: 0.5612 - precision_15: 0.7284 - recall_15: 0.3646 - val_loss: 1.2849 - val_accuracy: 0.5492 - val_precision_15: 0.7076 - val_recall_15: 0.3481\n",
            "Epoch 8/100\n",
            "638/638 [==============================] - 3s 4ms/step - loss: 1.1560 - accuracy: 0.5749 - precision_15: 0.7333 - recall_15: 0.3828 - val_loss: 1.2776 - val_accuracy: 0.5574 - val_precision_15: 0.7078 - val_recall_15: 0.3438\n",
            "Epoch 9/100\n",
            "638/638 [==============================] - 4s 6ms/step - loss: 1.1373 - accuracy: 0.5832 - precision_15: 0.7387 - recall_15: 0.3949 - val_loss: 1.2764 - val_accuracy: 0.5586 - val_precision_15: 0.7029 - val_recall_15: 0.3849\n",
            "Epoch 10/100\n",
            "638/638 [==============================] - 3s 4ms/step - loss: 1.1207 - accuracy: 0.5872 - precision_15: 0.7389 - recall_15: 0.4083 - val_loss: 1.2781 - val_accuracy: 0.5563 - val_precision_15: 0.6970 - val_recall_15: 0.3697\n",
            "Epoch 11/100\n",
            "638/638 [==============================] - 3s 4ms/step - loss: 1.1086 - accuracy: 0.5902 - precision_15: 0.7405 - recall_15: 0.4151 - val_loss: 1.2711 - val_accuracy: 0.5582 - val_precision_15: 0.6948 - val_recall_15: 0.3873\n",
            "Epoch 12/100\n",
            "638/638 [==============================] - 3s 4ms/step - loss: 1.0989 - accuracy: 0.5982 - precision_15: 0.7430 - recall_15: 0.4243 - val_loss: 1.2844 - val_accuracy: 0.5535 - val_precision_15: 0.6953 - val_recall_15: 0.3900\n",
            "Epoch 13/100\n",
            "638/638 [==============================] - 3s 5ms/step - loss: 1.0767 - accuracy: 0.6070 - precision_15: 0.7435 - recall_15: 0.4350 - val_loss: 1.2784 - val_accuracy: 0.5613 - val_precision_15: 0.7060 - val_recall_15: 0.3822\n",
            "Epoch 14/100\n",
            "638/638 [==============================] - 4s 6ms/step - loss: 1.0635 - accuracy: 0.6070 - precision_15: 0.7496 - recall_15: 0.4410 - val_loss: 1.2844 - val_accuracy: 0.5535 - val_precision_15: 0.6921 - val_recall_15: 0.3877\n",
            "Epoch 15/100\n",
            "638/638 [==============================] - 3s 4ms/step - loss: 1.0578 - accuracy: 0.6104 - precision_15: 0.7470 - recall_15: 0.4450 - val_loss: 1.2909 - val_accuracy: 0.5598 - val_precision_15: 0.6851 - val_recall_15: 0.3940\n",
            "Epoch 16/100\n",
            "638/638 [==============================] - 3s 4ms/step - loss: 1.0478 - accuracy: 0.6159 - precision_15: 0.7489 - recall_15: 0.4569 - val_loss: 1.3049 - val_accuracy: 0.5500 - val_precision_15: 0.6718 - val_recall_15: 0.3971\n",
            "80/80 [==============================] - 0s 3ms/step - loss: 1.2682 - accuracy: 0.5416 - precision_15: 0.6794 - recall_15: 0.3757\n",
            "Loss: 1.27, Accuracy: 0.54\n"
          ]
        }
      ]
    },
    {
      "cell_type": "markdown",
      "source": [
        "Loss: 1.27, Accuracy: 0.54, Precision: 0.68, Recall: 0.38."
      ],
      "metadata": {
        "id": "HpkhgRbCOi7_"
      }
    },
    {
      "cell_type": "markdown",
      "source": [
        "## Quarta prova"
      ],
      "metadata": {
        "id": "Bt7ixulY1BQZ"
      }
    },
    {
      "cell_type": "code",
      "source": [
        "image_input = layers.Input(shape=(48, 48, 1))\n",
        "conv_layer = layers.Conv2D(32, (3, 3), activation='relu')(image_input)\n",
        "pooling_layer1 = layers.MaxPooling2D((2, 2))(conv_layer)\n",
        "conv_layer2 = layers.Conv2D(24, (3, 3), activation='relu')(pooling_layer1)\n",
        "pooling_layer2 = layers.MaxPooling2D((2, 2))(conv_layer2)\n",
        "image_flatten = layers.Flatten()(pooling_layer2)\n",
        "\n",
        "dropout_layer = layers.Dropout(0.5)(image_flatten)\n",
        "output_layer = layers.Dense(len(label_encoder.classes_), activation='softmax')(dropout_layer)\n",
        "\n",
        "optimizer = Adam(learning_rate=0.001)\n",
        "model = models.Model(inputs=image_input, outputs=output_layer)\n",
        "model.compile(optimizer=optimizer, loss='categorical_crossentropy', metrics=['accuracy', metrics.Precision(), metrics.Recall()])\n",
        "model.summary()"
      ],
      "metadata": {
        "colab": {
          "base_uri": "https://localhost:8080/"
        },
        "id": "uCPmWKSpKR2R",
        "outputId": "717283a5-3e37-4947-b09a-d2f74d45817e"
      },
      "execution_count": null,
      "outputs": [
        {
          "output_type": "stream",
          "name": "stdout",
          "text": [
            "Model: \"model_17\"\n",
            "_________________________________________________________________\n",
            " Layer (type)                Output Shape              Param #   \n",
            "=================================================================\n",
            " input_21 (InputLayer)       [(None, 48, 48, 1)]       0         \n",
            "                                                                 \n",
            " conv2d_26 (Conv2D)          (None, 46, 46, 32)        320       \n",
            "                                                                 \n",
            " max_pooling2d_23 (MaxPooli  (None, 23, 23, 32)        0         \n",
            " ng2D)                                                           \n",
            "                                                                 \n",
            " conv2d_27 (Conv2D)          (None, 21, 21, 24)        6936      \n",
            "                                                                 \n",
            " max_pooling2d_24 (MaxPooli  (None, 10, 10, 24)        0         \n",
            " ng2D)                                                           \n",
            "                                                                 \n",
            " flatten_17 (Flatten)        (None, 2400)              0         \n",
            "                                                                 \n",
            " dropout_17 (Dropout)        (None, 2400)              0         \n",
            "                                                                 \n",
            " dense_21 (Dense)            (None, 7)                 16807     \n",
            "                                                                 \n",
            "=================================================================\n",
            "Total params: 24063 (94.00 KB)\n",
            "Trainable params: 24063 (94.00 KB)\n",
            "Non-trainable params: 0 (0.00 Byte)\n",
            "_________________________________________________________________\n"
          ]
        }
      ]
    },
    {
      "cell_type": "code",
      "source": [
        "model.fit(image_train, emotion_train, epochs=EPOCH, validation_data=(image_val, emotion_val), callbacks=[checkpoint_callback, early_stopping_callback])\n",
        "\n",
        "evaluation_results = model.evaluate(image_test, emotion_test)\n",
        "print(f\"Loss: {round(evaluation_results[0], 2)}, Accuracy: {round(evaluation_results[1], 2)}\")"
      ],
      "metadata": {
        "colab": {
          "base_uri": "https://localhost:8080/"
        },
        "id": "W32fE55iKYxm",
        "outputId": "a6e66e61-3e66-4553-f337-2b7279ca13f5"
      },
      "execution_count": null,
      "outputs": [
        {
          "output_type": "stream",
          "name": "stdout",
          "text": [
            "Epoch 1/100\n",
            "638/638 [==============================] - 5s 5ms/step - loss: 1.5979 - accuracy: 0.3722 - precision_13: 0.6306 - recall_13: 0.0541 - val_loss: 1.4567 - val_accuracy: 0.4751 - val_precision_13: 0.7484 - val_recall_13: 0.1399\n",
            "Epoch 2/100\n",
            "638/638 [==============================] - 3s 5ms/step - loss: 1.4309 - accuracy: 0.4676 - precision_13: 0.6981 - recall_13: 0.1874 - val_loss: 1.3399 - val_accuracy: 0.5237 - val_precision_13: 0.7503 - val_recall_13: 0.2368\n",
            "Epoch 3/100\n",
            "638/638 [==============================] - 3s 5ms/step - loss: 1.3404 - accuracy: 0.5066 - precision_13: 0.7127 - recall_13: 0.2676 - val_loss: 1.3119 - val_accuracy: 0.5327 - val_precision_13: 0.7834 - val_recall_13: 0.2297\n",
            "Epoch 4/100\n",
            "638/638 [==============================] - 4s 6ms/step - loss: 1.2972 - accuracy: 0.5229 - precision_13: 0.7148 - recall_13: 0.2961 - val_loss: 1.2403 - val_accuracy: 0.5547 - val_precision_13: 0.7434 - val_recall_13: 0.3293\n",
            "Epoch 5/100\n",
            "638/638 [==============================] - 3s 5ms/step - loss: 1.2577 - accuracy: 0.5377 - precision_13: 0.7266 - recall_13: 0.3232 - val_loss: 1.2109 - val_accuracy: 0.5688 - val_precision_13: 0.7737 - val_recall_13: 0.3363\n",
            "Epoch 6/100\n",
            "638/638 [==============================] - 3s 5ms/step - loss: 1.2341 - accuracy: 0.5495 - precision_13: 0.7300 - recall_13: 0.3454 - val_loss: 1.2102 - val_accuracy: 0.5727 - val_precision_13: 0.7716 - val_recall_13: 0.3324\n",
            "Epoch 7/100\n",
            "638/638 [==============================] - 3s 5ms/step - loss: 1.2107 - accuracy: 0.5528 - precision_13: 0.7344 - recall_13: 0.3579 - val_loss: 1.1847 - val_accuracy: 0.5833 - val_precision_13: 0.7745 - val_recall_13: 0.3473\n",
            "Epoch 8/100\n",
            "638/638 [==============================] - 4s 6ms/step - loss: 1.1864 - accuracy: 0.5685 - precision_13: 0.7367 - recall_13: 0.3766 - val_loss: 1.1715 - val_accuracy: 0.5829 - val_precision_13: 0.7403 - val_recall_13: 0.3744\n",
            "Epoch 9/100\n",
            "638/638 [==============================] - 3s 5ms/step - loss: 1.1767 - accuracy: 0.5712 - precision_13: 0.7354 - recall_13: 0.3793 - val_loss: 1.1614 - val_accuracy: 0.5892 - val_precision_13: 0.7733 - val_recall_13: 0.3610\n",
            "Epoch 10/100\n",
            "638/638 [==============================] - 3s 5ms/step - loss: 1.1583 - accuracy: 0.5763 - precision_13: 0.7399 - recall_13: 0.3915 - val_loss: 1.1425 - val_accuracy: 0.5966 - val_precision_13: 0.7727 - val_recall_13: 0.3810\n",
            "Epoch 11/100\n",
            "638/638 [==============================] - 3s 5ms/step - loss: 1.1486 - accuracy: 0.5789 - precision_13: 0.7393 - recall_13: 0.3953 - val_loss: 1.1348 - val_accuracy: 0.5986 - val_precision_13: 0.7805 - val_recall_13: 0.3861\n",
            "Epoch 12/100\n",
            "638/638 [==============================] - 4s 6ms/step - loss: 1.1355 - accuracy: 0.5843 - precision_13: 0.7359 - recall_13: 0.4067 - val_loss: 1.1317 - val_accuracy: 0.5935 - val_precision_13: 0.7571 - val_recall_13: 0.4155\n",
            "Epoch 13/100\n",
            "638/638 [==============================] - 3s 5ms/step - loss: 1.1230 - accuracy: 0.5895 - precision_13: 0.7440 - recall_13: 0.4133 - val_loss: 1.1276 - val_accuracy: 0.6025 - val_precision_13: 0.7615 - val_recall_13: 0.4206\n",
            "Epoch 14/100\n",
            "638/638 [==============================] - 3s 5ms/step - loss: 1.1102 - accuracy: 0.5926 - precision_13: 0.7409 - recall_13: 0.4230 - val_loss: 1.1289 - val_accuracy: 0.5978 - val_precision_13: 0.7630 - val_recall_13: 0.4089\n",
            "Epoch 15/100\n",
            "638/638 [==============================] - 3s 5ms/step - loss: 1.1085 - accuracy: 0.5958 - precision_13: 0.7472 - recall_13: 0.4204 - val_loss: 1.1170 - val_accuracy: 0.6025 - val_precision_13: 0.7493 - val_recall_13: 0.4312\n",
            "Epoch 16/100\n",
            "638/638 [==============================] - 4s 7ms/step - loss: 1.0980 - accuracy: 0.5975 - precision_13: 0.7470 - recall_13: 0.4364 - val_loss: 1.1113 - val_accuracy: 0.6029 - val_precision_13: 0.7502 - val_recall_13: 0.4461\n",
            "Epoch 17/100\n",
            "638/638 [==============================] - 3s 5ms/step - loss: 1.0905 - accuracy: 0.6035 - precision_13: 0.7409 - recall_13: 0.4325 - val_loss: 1.1061 - val_accuracy: 0.6049 - val_precision_13: 0.7552 - val_recall_13: 0.4426\n",
            "Epoch 18/100\n",
            "638/638 [==============================] - 3s 5ms/step - loss: 1.0792 - accuracy: 0.6069 - precision_13: 0.7491 - recall_13: 0.4431 - val_loss: 1.0957 - val_accuracy: 0.6111 - val_precision_13: 0.7630 - val_recall_13: 0.4441\n",
            "Epoch 19/100\n",
            "638/638 [==============================] - 3s 5ms/step - loss: 1.0787 - accuracy: 0.6063 - precision_13: 0.7464 - recall_13: 0.4429 - val_loss: 1.0950 - val_accuracy: 0.6100 - val_precision_13: 0.7671 - val_recall_13: 0.4390\n",
            "Epoch 20/100\n",
            "638/638 [==============================] - 4s 6ms/step - loss: 1.0754 - accuracy: 0.6082 - precision_13: 0.7464 - recall_13: 0.4448 - val_loss: 1.1138 - val_accuracy: 0.6021 - val_precision_13: 0.7554 - val_recall_13: 0.4249\n",
            "Epoch 21/100\n",
            "638/638 [==============================] - 3s 5ms/step - loss: 1.0704 - accuracy: 0.6084 - precision_13: 0.7487 - recall_13: 0.4478 - val_loss: 1.1007 - val_accuracy: 0.6135 - val_precision_13: 0.7524 - val_recall_13: 0.4516\n",
            "Epoch 22/100\n",
            "638/638 [==============================] - 3s 5ms/step - loss: 1.0589 - accuracy: 0.6124 - precision_13: 0.7496 - recall_13: 0.4558 - val_loss: 1.1115 - val_accuracy: 0.6053 - val_precision_13: 0.7475 - val_recall_13: 0.4375\n",
            "Epoch 23/100\n",
            "638/638 [==============================] - 3s 5ms/step - loss: 1.0524 - accuracy: 0.6120 - precision_13: 0.7516 - recall_13: 0.4616 - val_loss: 1.0818 - val_accuracy: 0.6151 - val_precision_13: 0.7657 - val_recall_13: 0.4535\n",
            "Epoch 24/100\n",
            "638/638 [==============================] - 4s 6ms/step - loss: 1.0510 - accuracy: 0.6176 - precision_13: 0.7488 - recall_13: 0.4603 - val_loss: 1.0902 - val_accuracy: 0.6158 - val_precision_13: 0.7550 - val_recall_13: 0.4434\n",
            "Epoch 25/100\n",
            "638/638 [==============================] - 3s 5ms/step - loss: 1.0517 - accuracy: 0.6144 - precision_13: 0.7478 - recall_13: 0.4592 - val_loss: 1.0914 - val_accuracy: 0.6076 - val_precision_13: 0.7696 - val_recall_13: 0.4281\n",
            "Epoch 26/100\n",
            "638/638 [==============================] - 4s 5ms/step - loss: 1.0452 - accuracy: 0.6167 - precision_13: 0.7516 - recall_13: 0.4684 - val_loss: 1.0980 - val_accuracy: 0.6092 - val_precision_13: 0.7562 - val_recall_13: 0.4559\n",
            "Epoch 27/100\n",
            "638/638 [==============================] - 4s 6ms/step - loss: 1.0363 - accuracy: 0.6207 - precision_13: 0.7514 - recall_13: 0.4726 - val_loss: 1.0920 - val_accuracy: 0.6123 - val_precision_13: 0.7486 - val_recall_13: 0.4728\n",
            "Epoch 28/100\n",
            "638/638 [==============================] - 4s 5ms/step - loss: 1.0374 - accuracy: 0.6219 - precision_13: 0.7545 - recall_13: 0.4734 - val_loss: 1.0899 - val_accuracy: 0.6147 - val_precision_13: 0.7633 - val_recall_13: 0.4539\n",
            "80/80 [==============================] - 0s 3ms/step - loss: 1.0643 - accuracy: 0.6149 - precision_13: 0.7645 - recall_13: 0.4455\n",
            "Loss: 1.06, Accuracy: 0.61\n"
          ]
        }
      ]
    },
    {
      "cell_type": "markdown",
      "source": [
        "Loss: 1.06, Accuracy: 0.61, Precision: 0.76, Recall: 0.45."
      ],
      "metadata": {
        "id": "jTh7EvR83z9h"
      }
    }
  ],
  "metadata": {
    "colab": {
      "provenance": [],
      "collapsed_sections": [
        "NirGlgMbHea4",
        "3PKEtV7i9Z-5",
        "vf0JWYH2-jVj",
        "mZdTj9B9_iAC"
      ]
    },
    "gpuClass": "standard",
    "kernelspec": {
      "display_name": "Python 3",
      "name": "python3"
    },
    "language_info": {
      "name": "python"
    },
    "accelerator": "GPU"
  },
  "nbformat": 4,
  "nbformat_minor": 0
}